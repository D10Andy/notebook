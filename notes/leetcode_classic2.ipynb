{
 "cells": [
  {
   "cell_type": "markdown",
   "metadata": {},
   "source": [
    "## 贪心算法"
   ]
  },
  {
   "cell_type": "markdown",
   "metadata": {},
   "source": [
    "保证每次操作都是局部最优，从而使最后得到的结果使全局最优  \n",
    "局部最优是一种策略，不仅仅是选择最大的，或者最小的。"
   ]
  },
  {
   "cell_type": "markdown",
   "metadata": {},
   "source": [
    "**455[分发饼干](https://leetcode-cn.com/problems/assign-cookies/)**\n",
    "+ easy"
   ]
  },
  {
   "cell_type": "code",
   "execution_count": null,
   "metadata": {},
   "outputs": [],
   "source": [
    "# 给剩余孩子里最小饥饿度的孩子分配能果腹的最小饼干\n",
    "class Solution:\n",
    "    def findContentChildren(self, g: List[int], s: List[int]) -> int:\n",
    "        g = sorted(g, reverse=True) # 逆序排序，方便后面pop\n",
    "        s = sorted(s, reverse=True)\n",
    "        res = 0\n",
    "        while g and s:\n",
    "            gi = g.pop()\n",
    "            while s:\n",
    "                si = s.pop()\n",
    "                if si>=gi:\n",
    "                    res += 1\n",
    "                    break # 终端while，使用break\n",
    "        return res"
   ]
  },
  {
   "cell_type": "markdown",
   "metadata": {},
   "source": [
    "**135 [分发糖果](https://leetcode-cn.com/problems/candy/)**\n",
    "+ hard"
   ]
  },
  {
   "cell_type": "code",
   "execution_count": null,
   "metadata": {},
   "outputs": [],
   "source": [
    "# 贪心策略，在每次遍历中，只考虑更新相邻一侧的大小关系\n",
    "class Solution:\n",
    "    def candy(self, ratings: List[int]) -> int:\n",
    "        n = len(ratings)\n",
    "        if n <= 1:\n",
    "            return n\n",
    "        f = [1 for _ in range(n)]\n",
    "        # 如果右边孩子的评分比左边的高，则右边孩子的糖果数更新为左边孩子的 糖果数加 1\n",
    "        # 第一轮的分配，可以保证从左往右，单侧符合最小总和和大小的要求\n",
    "        for i in range(1, n):\n",
    "            if ratings[i]>ratings[i-1]:\n",
    "                f[i] = f[i-1] + 1\n",
    "        # 再从右往左遍历一遍，如果左边孩子的评分比右边的高，且左边孩子当前的糖果数 不大于右边孩子的糖果数\n",
    "        # ，则左边孩子的糖果数更新为右边孩子的糖果数加 1，\n",
    "        # 将上述比较问题简化为,如果当前孩子的评分比右边的高，则当前孩子取右侧孩子糖果数+1和第一轮糖果的较大值\n",
    "        for i in range(n-2, -1, -1):\n",
    "            if ratings[i]>ratings[i+1]:\n",
    "                f[i] = max(f[i], f[i+1] + 1)\n",
    "        print(f)\n",
    "        return sum(f)"
   ]
  }
 ],
 "metadata": {
  "kernelspec": {
   "display_name": "Python 3",
   "language": "python",
   "name": "python3"
  },
  "language_info": {
   "codemirror_mode": {
    "name": "ipython",
    "version": 3
   },
   "file_extension": ".py",
   "mimetype": "text/x-python",
   "name": "python",
   "nbconvert_exporter": "python",
   "pygments_lexer": "ipython3",
   "version": "3.7.0"
  }
 },
 "nbformat": 4,
 "nbformat_minor": 4
}
