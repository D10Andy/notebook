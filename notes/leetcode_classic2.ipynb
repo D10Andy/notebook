{
 "cells": [
  {
   "cell_type": "markdown",
   "metadata": {},
   "source": [
    "## 贪心算法"
   ]
  },
  {
   "cell_type": "markdown",
   "metadata": {},
   "source": [
    "保证每次操作都是局部最优，从而使最后得到的结果使全局最优  \n",
    "局部最优是一种策略，不仅仅是选择最大的，或者最小的。"
   ]
  },
  {
   "cell_type": "markdown",
   "metadata": {},
   "source": [
    "**455[分发饼干](https://leetcode-cn.com/problems/assign-cookies/)**\n",
    "+ easy"
   ]
  },
  {
   "cell_type": "code",
   "execution_count": null,
   "metadata": {},
   "outputs": [],
   "source": [
    "# 给剩余孩子里最小饥饿度的孩子分配能果腹的最小饼干\n",
    "class Solution:\n",
    "    def findContentChildren(self, g: List[int], s: List[int]) -> int:\n",
    "        g = sorted(g, reverse=True) # 逆序排序，方便后面pop\n",
    "        s = sorted(s, reverse=True)\n",
    "        res = 0\n",
    "        while g and s:\n",
    "            gi = g.pop()\n",
    "            while s:\n",
    "                si = s.pop()\n",
    "                if si>=gi:\n",
    "                    res += 1\n",
    "                    break # 终端while，使用break\n",
    "        return res"
   ]
  },
  {
   "cell_type": "markdown",
   "metadata": {},
   "source": [
    "**135 [分发糖果](https://leetcode-cn.com/problems/candy/)**\n",
    "+ hard"
   ]
  },
  {
   "cell_type": "code",
   "execution_count": null,
   "metadata": {},
   "outputs": [],
   "source": [
    "# 贪心策略，在每次遍历中，只考虑更新相邻一侧的大小关系\n",
    "class Solution:\n",
    "    def candy(self, ratings: List[int]) -> int:\n",
    "        n = len(ratings)\n",
    "        if n <= 1:\n",
    "            return n\n",
    "        f = [1 for _ in range(n)]\n",
    "        # 如果右边孩子的评分比左边的高，则右边孩子的糖果数更新为左边孩子的 糖果数加 1\n",
    "        # 第一轮的分配，可以保证从左往右，单侧符合最小总和和大小的要求\n",
    "        for i in range(1, n):\n",
    "            if ratings[i]>ratings[i-1]:\n",
    "                f[i] = f[i-1] + 1\n",
    "        # 再从右往左遍历一遍，如果左边孩子的评分比右边的高，且左边孩子当前的糖果数 不大于右边孩子的糖果数\n",
    "        # ，则左边孩子的糖果数更新为右边孩子的糖果数加 1，\n",
    "        # 将上述比较问题简化为,如果当前孩子的评分比右边的高，则当前孩子取右侧孩子糖果数+1和第一轮糖果的较大值\n",
    "        for i in range(n-2, -1, -1):\n",
    "            if ratings[i]>ratings[i+1]:\n",
    "                f[i] = max(f[i], f[i+1] + 1)\n",
    "        print(f)\n",
    "        return sum(f)"
   ]
  },
  {
   "cell_type": "markdown",
   "metadata": {},
   "source": [
    "**435 [无重叠区间](https://leetcode-cn.com/problems/non-overlapping-intervals/)**\n",
    "+ medium"
   ]
  },
  {
   "cell_type": "code",
   "execution_count": null,
   "metadata": {},
   "outputs": [],
   "source": [
    "# 区间排序， 贪心策略\n",
    "class Solution:\n",
    "    def eraseOverlapIntervals(self, intervals: List[List[int]]) -> int:\n",
    "        # 排序\n",
    "        # 有重叠时，贪心删除右侧值较大的那个\n",
    "        intervals = sorted(intervals, key=lambda x: (x[0], x[1]))\n",
    "        if len(intervals) == 0:\n",
    "            return 0\n",
    "        res = 0\n",
    "        end = intervals[0][1] # 初始\n",
    "        for i, j in intervals[1:]:\n",
    "            if i < end:\n",
    "                # 有重叠时，删除end较大的值\n",
    "                end = min(end, j)\n",
    "                res += 1\n",
    "            else:\n",
    "                # 无重叠时，以当前区间为新的开始\n",
    "                end = j\n",
    "        \n",
    "        return res"
   ]
  },
  {
   "cell_type": "markdown",
   "metadata": {},
   "source": [
    "**452 [用最少数量的箭引爆气球](https://leetcode-cn.com/problems/minimum-number-of-arrows-to-burst-balloons/submissions/)**\n",
    "+ medium"
   ]
  },
  {
   "cell_type": "code",
   "execution_count": null,
   "metadata": {},
   "outputs": [],
   "source": [
    "# 贪心，单侧排序\n",
    "class Solution:\n",
    "    def findMinArrowShots(self, points: List[List[int]]) -> int:\n",
    "        # 排序\n",
    "        # 从左至右，贪心找到不能够重叠的位置\n",
    "        points = sorted(points, key=lambda x: x[1]) # 我们只是贪心的比较右侧端点，所以，只需要按照end排序\n",
    "        if len(points) == 0:\n",
    "            return 0\n",
    "        res = 0\n",
    "        end = points[0][1]\n",
    "        for i, j in points:\n",
    "            if end < i:\n",
    "                res += 1\n",
    "                end = j\n",
    "        # 最后还遗留一组重叠的气球\n",
    "        return res+1"
   ]
  },
  {
   "cell_type": "markdown",
   "metadata": {},
   "source": [
    "## 双指针"
   ]
  },
  {
   "cell_type": "markdown",
   "metadata": {},
   "source": [
    "+ 快慢指针\n",
    "+ 滑动窗口\n",
    "+ 双向指针\n",
    "+ 普通双指针"
   ]
  },
  {
   "cell_type": "markdown",
   "metadata": {},
   "source": [
    "**167 [两数之和 II](https://leetcode-cn.com/problems/two-sum-ii-input-array-is-sorted/)**\n",
    "+ easy"
   ]
  },
  {
   "cell_type": "markdown",
   "metadata": {},
   "source": [
    "**88 [合并两个有序数组](https://leetcode-cn.com/problems/merge-sorted-array/)**\n",
    "+ easy"
   ]
  },
  {
   "cell_type": "markdown",
   "metadata": {},
   "source": [
    "**142 [环形链表 II](https://leetcode-cn.com/problems/linked-list-cycle-ii/)**\n",
    "+ medium\n",
    "+ 快慢指针"
   ]
  },
  {
   "cell_type": "markdown",
   "metadata": {},
   "source": [
    "**76 [最小覆盖字串](https://leetcode-cn.com/problems/minimum-window-substring/)**\n",
    "+ hard\n",
    "+ 滑动窗口"
   ]
  },
  {
   "cell_type": "markdown",
   "metadata": {},
   "source": [
    "**524 [通过删除字母匹配到字典里最长单词](https://leetcode-cn.com/problems/longest-word-in-dictionary-through-deleting/)**\n",
    "+ mediumm"
   ]
  },
  {
   "cell_type": "code",
   "execution_count": null,
   "metadata": {},
   "outputs": [],
   "source": [
    "# 双指针，在两个字符串上的双指针\n",
    "class Solution:\n",
    "    def findLongestWord(self, s: str, dictionary: List[str]) -> str:\n",
    "        def compareTwo(s1, s2):\n",
    "            n, m = len(s1)-1, len(s2)-1\n",
    "            p1, p2 = 0, 0 # 起始双指针为s1和s2的首位\n",
    "            while p1<=n and p2<=m: # 未遍历完，则继续\n",
    "                if s1[p1] == s2[p2]: # 两字符相等，s2右移一位\n",
    "                    p2 += 1\n",
    "                p1 += 1 # s1右移一位\n",
    "                if p2>m:\n",
    "                    # s2已查找完成\n",
    "                    return True\n",
    "            return False # s2不是s1的子序列\n",
    "        \n",
    "        len_res, res = 0, \"\"\n",
    "        for ss in dictionary:\n",
    "            if compareTwo(s, ss):\n",
    "                len_ss = len(ss)\n",
    "                if len_ss > len_res: # 长度更大时，替换\n",
    "                    len_res, res = len_ss, ss\n",
    "                elif len_ss == len_res: # 长度相等时，比较\n",
    "                    res = ss if ss<res else res # 字符串比较大小\n",
    "        return res"
   ]
  },
  {
   "cell_type": "code",
   "execution_count": null,
   "metadata": {},
   "outputs": [],
   "source": []
  }
 ],
 "metadata": {
  "kernelspec": {
   "display_name": "Python 3",
   "language": "python",
   "name": "python3"
  },
  "language_info": {
   "codemirror_mode": {
    "name": "ipython",
    "version": 3
   },
   "file_extension": ".py",
   "mimetype": "text/x-python",
   "name": "python",
   "nbconvert_exporter": "python",
   "pygments_lexer": "ipython3",
   "version": "3.7.0"
  }
 },
 "nbformat": 4,
 "nbformat_minor": 4
}
