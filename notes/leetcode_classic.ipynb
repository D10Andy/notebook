{
 "cells": [
  {
   "cell_type": "code",
   "execution_count": null,
   "metadata": {},
   "outputs": [],
   "source": [
    "queue的处理时，使用： \n",
    "from collections import deque  \n",
    "\n",
    "d=deque([]) # 定义\n",
    "d.append('a') # 右侧添加\n",
    "d.appendleft('a') # 左侧添加\n",
    "\n",
    "d.pop() # 右侧删除\n",
    "d.popleft() # 左侧删除\n",
    "\n",
    "d.expand(['a', 'b', 'c'])  # 右侧扩展  结果 ['a', 'b', 'c']\n",
    "d.expand([1, 2, 3]) # 左侧扩展，注意顺序 结果 [3, 2, 1, 'a', 'b', 'c']"
   ]
  },
  {
   "cell_type": "code",
   "execution_count": null,
   "metadata": {},
   "outputs": [],
   "source": [
    "python bisect模块\n",
    "x_insert_point = bisect.bisect_left(L,x)　　#在L中查找x，x存在时返回x左侧的位置，x不存在返回应该插入的位置..这是3存在于列表中，返回左侧位置１\n",
    "x_insort_left = bisect.insort_left(L,x)  #将x插入到列表L中，x存在时插入在左侧\n",
    "同理有bisect.bisect_right(L,x)， bisect.insort_right(L,x)"
   ]
  },
  {
   "cell_type": "code",
   "execution_count": null,
   "metadata": {},
   "outputs": [],
   "source": [
    "heapq 模块\n",
    "heapq.heappush(heap,item):将item，推入heap (heap: List, item: 数值型)\n",
    "heapq.heappop(heap)：将heap的最小值pop出heap，heap为空时报IndexError错误\n",
    "heapq.heappushpop(heap,item)：pop出heap中最小的元素，推入item\n",
    "heapq.heapify(x)：将list X转换为heap\n",
    "\n",
    "可以利用其生成优先队列和最大最小堆"
   ]
  },
  {
   "cell_type": "code",
   "execution_count": null,
   "metadata": {},
   "outputs": [],
   "source": [
    "递归问题的处理技巧： 不要跳进递归， 而是利用明确的定义来时间算法的逻辑"
   ]
  },
  {
   "cell_type": "code",
   "execution_count": null,
   "metadata": {},
   "outputs": [],
   "source": [
    "dfs 或者bfs类的问题，如果原始访问的逻辑较麻烦，可以先构建邻接矩阵，然后再查找(例：课程表)"
   ]
  },
  {
   "cell_type": "markdown",
   "metadata": {},
   "source": [
    "## 框架"
   ]
  },
  {
   "cell_type": "markdown",
   "metadata": {},
   "source": [
    "**回溯算法(DFS)**"
   ]
  },
  {
   "cell_type": "markdown",
   "metadata": {},
   "source": [
    "回溯算法  \n",
    "+ 实际上就是一个决策树遍历+剪枝的过程\n",
    "+ 有三个重要的问题\n",
    " - 路径： 也就是已经做出的选择\n",
    " - 选择列表： 也就是你当前可以左的选择\n",
    " - 结束条件： 也就是到达决策树底层，无法再做出选择的条件"
   ]
  },
  {
   "cell_type": "code",
   "execution_count": null,
   "metadata": {},
   "outputs": [],
   "source": [
    "result = []\n",
    "def backtrack(路径， 选择列表):\n",
    "    if 满足条件:\n",
    "        result.append(路径)\n",
    "        return\n",
    "    for 选择 in 选择列表:\n",
    "        做选择\n",
    "        backtrack(路径， 选择列表)\n",
    "        撤销选择"
   ]
  },
  {
   "cell_type": "markdown",
   "metadata": {
    "jupyter": {
     "source_hidden": true
    }
   },
   "source": [
    "回溯算法代表题\n",
    " + 全排列\n",
    " + N皇后问题"
   ]
  },
  {
   "cell_type": "markdown",
   "metadata": {},
   "source": [
    "**BFS框架**"
   ]
  },
  {
   "cell_type": "markdown",
   "metadata": {
    "jupyter": {
     "source_hidden": true
    }
   },
   "source": [
    "BFS和DFS的最主要区别： BFS找到的路径一定是最短的，但代价就是空间复杂度比DFS大的多  \n",
    "BFS的本质就就在一幅图中找到起点到终点的最近距离  \n",
    "BFS优化方向：使用双向BFS，从起点和终点同时开始扩散，当两边有交集的时候停止  "
   ]
  },
  {
   "cell_type": "code",
   "execution_count": null,
   "metadata": {},
   "outputs": [],
   "source": [
    "# 计算从起点start到终点end的最近距离\n",
    "BFS(Node start, Node targe):\n",
    "    q = [start] # 将起点加入待寻找的列表\n",
    "    visit = [] # 避免走回头路  # 此处优化效率的话，应该换成set或者dict, set 使用或的方式增加元素\n",
    "    step = 0 # 记录扩散的步数\n",
    "    \n",
    "    while len(q)>0:\n",
    "        sz = len(q)\n",
    "        # 将当前队列中所有节点向四周扩散\n",
    "        for i in range(sz):\n",
    "            cur = q.pop()\n",
    "            # 重点： 这里判断是否到达终点\n",
    "            if cur is target:\n",
    "                return step\n",
    "            # 将cur的相邻节点加入队列\n",
    "            for Node:x in cur.adj(): # cur.adj() 泛指cur相邻的节点或者下一步可选的列表\n",
    "                    if x not in visited:\n",
    "                        q.insert(0, x)\n",
    "                        visited.append(x)\n",
    "        # 重点: 更新步数在这里"
   ]
  },
  {
   "cell_type": "markdown",
   "metadata": {
    "jupyter": {
     "source_hidden": true
    }
   },
   "source": [
    "BFS 代表题  \n",
    "+ 二叉树的最小深度\n",
    "+ 打开密码锁的最小步数"
   ]
  },
  {
   "cell_type": "markdown",
   "metadata": {},
   "source": [
    "**二分查找框架**"
   ]
  },
  {
   "cell_type": "code",
   "execution_count": null,
   "metadata": {},
   "outputs": [],
   "source": [
    "二分查找时，使用elif 条件代替所有的else,这样可以清楚的展现所有的细节"
   ]
  },
  {
   "cell_type": "code",
   "execution_count": null,
   "metadata": {},
   "outputs": [],
   "source": [
    "def binarySearch(nums: List, target: int):\n",
    "    left, right = 0, len(nums)-1\n",
    "    while left <= right:\n",
    "        mid = left + (right - left)//2\n",
    "        if nums[mid] == target:\n",
    "            # 操作\n",
    "        elif nums[mid] < target:\n",
    "            left = 操作\n",
    "        elif nums[mid] > target:\n",
    "            right = 操作\n",
    "    # 此处可以加验证的操作\n",
    "    return ..."
   ]
  },
  {
   "cell_type": "markdown",
   "metadata": {
    "jupyter": {
     "source_hidden": true
    }
   },
   "source": [
    "二分查找代表题  \n",
    "+ 寻找一个数\n",
    "+ 寻找排序数组的左/右侧边界"
   ]
  },
  {
   "cell_type": "markdown",
   "metadata": {},
   "source": [
    "**滑动窗口**"
   ]
  },
  {
   "cell_type": "code",
   "execution_count": null,
   "metadata": {},
   "outputs": [],
   "source": [
    "def slidingWindow(s: string, t: string):\n",
    "    need, window = dict(), dict()\n",
    "    # 需要判断的信息\n",
    "    for i in range(len(t)):\n",
    "        need[t[i]] = need.get(t[i], 0) + 1\n",
    "    left, right = 0, 0 # 区间[left, right)是左闭右开\n",
    "    valid = 0 # vaild 表示窗口中满足need条件的字符个数，如果valid和need.size的大小相同了，说明窗口已经满足条件\n",
    "    while right < len(s):\n",
    "        # c 是将移入窗口的字符\n",
    "        c = s[right]\n",
    "        right += 1\n",
    "        # 进行窗口内数据的一系列更新\n",
    "         # if window[c]满足条件，valid += 1\n",
    "        \n",
    "        # 判断左侧窗口是否需要收缩\n",
    "        while (window need shrink):\n",
    "            # d是将移除窗口的字符\n",
    "            d = s[left]\n",
    "            left += 1\n",
    "            # 进行窗口的一系列操作"
   ]
  },
  {
   "cell_type": "markdown",
   "metadata": {
    "jupyter": {
     "source_hidden": true
    }
   },
   "source": [
    "滑动窗口代表题\n",
    "+ 最小覆盖字串\n",
    "+ 字符串排列\n",
    "+ 找所有字母异位词\n",
    "+ 最长无重复字串"
   ]
  },
  {
   "cell_type": "markdown",
   "metadata": {},
   "source": [
    "**树的遍历框架**"
   ]
  },
  {
   "cell_type": "code",
   "execution_count": null,
   "metadata": {},
   "outputs": [],
   "source": [
    "# 二叉树的遍历\n",
    "def traverse(root: TreeNode):\n",
    "    # 前序遍历\n",
    "    traverse(root.left)\n",
    "    # 中序遍历\n",
    "    traverse(root.right)\n",
    "    # 后序遍历\n",
    "\n",
    "# 多叉树的遍历\n",
    "def traverse(TreeNode root):\n",
    "    for (TreeNode child: root.childern):\n",
    "        # 前序遍历需要的操作\n",
    "        traverse(child);\n",
    "        # 后序遍历需要的操作"
   ]
  },
  {
   "cell_type": "markdown",
   "metadata": {},
   "source": [
    "**链表遍历**"
   ]
  },
  {
   "cell_type": "code",
   "execution_count": null,
   "metadata": {},
   "outputs": [],
   "source": [
    "def traverse(ListNode head):\n",
    "    p = head\n",
    "    while p != None:\n",
    "        # 迭代式访问p.val\n",
    "        p = p.next\n",
    "        \n",
    "def traverse(ListNode head):\n",
    "    # 递归式访问head.val\n",
    "    traverse(head.next)"
   ]
  },
  {
   "cell_type": "markdown",
   "metadata": {},
   "source": [
    "**单调栈**"
   ]
  },
  {
   "cell_type": "markdown",
   "metadata": {
    "jupyter": {
     "source_hidden": true
    }
   },
   "source": [
    "单调栈实际上就是栈，只是利用了一些巧妙的逻辑，是的每次新元素入栈后，栈内的元素保持有序（单调递增或单调递减）"
   ]
  },
  {
   "cell_type": "code",
   "execution_count": null,
   "metadata": {},
   "outputs": [],
   "source": [
    "def nextGreaterElement(nums:List):\n",
    "    ans = [0]*lem(nums) # 存放答案的数组\n",
    "    s = [] # 栈\n",
    "    for i in range(len(nums)-1, -1, -1): # 倒着往栈里放\n",
    "        while len(s)>0 and s[-1] <= nums[i]: # 判定个子高矮\n",
    "            s.pop()\n",
    "        ans[i] = -1 if len(s)==0 else s[-1] # 这个元素身后的第一个高个\n",
    "        s.append(nums[i]) # 进栈，接受下一轮的身高判定\n",
    "    return ans"
   ]
  },
  {
   "cell_type": "markdown",
   "metadata": {},
   "source": [
    "单调栈代表题\n",
    "+ 每日温度"
   ]
  },
  {
   "cell_type": "markdown",
   "metadata": {},
   "source": [
    "**双指针**"
   ]
  },
  {
   "cell_type": "markdown",
   "metadata": {
    "jupyter": {
     "source_hidden": true
    }
   },
   "source": [
    "指针可分为两类： \n",
    "+ 快慢指针，主要解决链表中的问题\n",
    "+ 左右指针，主要解决数组/字符串问题\n",
    "+ 滑动窗口也可以认为是双指针类型"
   ]
  },
  {
   "cell_type": "code",
   "execution_count": null,
   "metadata": {},
   "outputs": [],
   "source": [
    "# 快慢指针\n",
    "def hasCycle(head: ListNode):\n",
    "    fast, slow = head, head\n",
    "    while fast != None and fast.next != None:\n",
    "        fast = fast.next.next\n",
    "        slow = slow.next\n",
    "        # 具体的操作"
   ]
  },
  {
   "cell_type": "markdown",
   "metadata": {},
   "source": [
    "**前缀和**"
   ]
  },
  {
   "cell_type": "markdown",
   "metadata": {},
   "source": [
    "+ 适合的问题：需要多次遍历计算sum(nums[i:j])\n",
    "+ 便直接记录下有几个sum[j]和sum[i]-k相等，直接更新结果，以避免循环计算\n",
    "+ 使用哈希表记录前缀和 和出现的次数"
   ]
  },
  {
   "cell_type": "markdown",
   "metadata": {},
   "source": [
    "前缀和代表题\n",
    "+ 和为K的连续子数组个数"
   ]
  },
  {
   "cell_type": "markdown",
   "metadata": {},
   "source": [
    "**位运算**"
   ]
  },
  {
   "cell_type": "code",
   "execution_count": null,
   "metadata": {},
   "outputs": [],
   "source": [
    "x^0=x\n",
    "x^11111......1111=~x\n",
    "x^ (~x) =11111......1111\n",
    "x^x=0\n",
    "a^b=c=>a^c=b=>b^c=a (交换律)\n",
    "a^b^c=a^ (b^c) = (a^b）^c (结合律)\n",
    "将x最右边的n位清零，x& ( ~0<<n )\n",
    "获取x的第n位值(0或者1)，(x>>n) &1\n",
    "获取x的第n位的幂值，x& (1<< (n-1))\n",
    "仅将第n位置为1，x| (1<<n)\n",
    "仅将第n位置为0，x& (~(1<<n))\n",
    "将x最高位至第n位(含)清零，x& ((1<<n) -1)\n",
    "将第n位至第0位(含)清零，x& (~((1<< (n+1)) -1)）\n",
    "X&1==1判断是否是奇数(偶数)\n",
    "X&= (X-1) 将最低位(LSB)的1清零\n",
    "X&-X得到最低位(LSB)的1X&~X=0"
   ]
  },
  {
   "cell_type": "markdown",
   "metadata": {},
   "source": [
    "**优先队列**"
   ]
  },
  {
   "cell_type": "code",
   "execution_count": null,
   "metadata": {},
   "outputs": [],
   "source": [
    "普通的队列是一种先进先出的数据结构，元素在队列尾追加，而从队列头删除。\n",
    "\n",
    "在优先队列中，元素被赋予优先级。当访问元素时，具有最高优先级的元素最先删除。优先队列具有最高级先出 的行为特征。\n",
    "可以认为是最大堆/最小堆"
   ]
  },
  {
   "cell_type": "markdown",
   "metadata": {},
   "source": [
    "## 典型题目"
   ]
  },
  {
   "cell_type": "markdown",
   "metadata": {},
   "source": [
    "**快速排序**"
   ]
  },
  {
   "cell_type": "code",
   "execution_count": 1,
   "metadata": {},
   "outputs": [],
   "source": [
    "def partition(nums, left, right):\n",
    "    pivot = nums[left] # 以第一个元素为基准\n",
    "    i = left # 索引j从起始位置开始\n",
    "    for j in range(left+1, right+1): # 遍历数组除基准元素以外的元素\n",
    "        if nums[j] < pivot: # 如果小于基准元素\n",
    "            i += 1 # i 的下一个为大于基准元素的值\n",
    "            nums[i], nums[j] = nums[j], nums[i] # 交换\n",
    "            \n",
    "    nums[left], nums[i] = nums[i], nums[left] # 将基准元素与最后小于基准元素的位置交换\n",
    "    return i\n",
    "\n",
    "# 挖坑法\n",
    "def partition(nums, left, right):\n",
    "    pivot = nums[left]\n",
    "    l, r = left, right\n",
    "    while l<r:\n",
    "        # 如果l 和r 未重合，r指向的元素大于等于pivot，则r 左移 \n",
    "        while l<r and  nums[r]>=pivot:\n",
    "            r -= 1\n",
    "        # r 指向一个比pivot小的元素，将r的元素放到l上，此时r指向的位置空着，接下来移动l找到合适的元素放在此处\n",
    "        nums[l] = nums[r]\n",
    "        while l<r and nums[l]<=pivot:\n",
    "            l += 1\n",
    "        nums[r] = nums[l]\n",
    "    nums[r] = pivot\n",
    "    return l\n",
    "\n",
    "def quick_sort(nums, left, right):\n",
    "    if left < right:\n",
    "        pi = partition(nums, left, right)\n",
    "        if pi > left:\n",
    "            quick_sort(nums, left, pi-1)\n",
    "        if pi < right:\n",
    "            quick_sort(nums, pi+1, right)\n",
    "    return nums\n",
    "\n",
    "def run(nums:'List[int]'):\n",
    "    n = len(A)\n",
    "    if n == 0:\n",
    "        return []\n",
    "    quick_sort(A,0,n-1)\n",
    "    return nums"
   ]
  },
  {
   "cell_type": "code",
   "execution_count": 2,
   "metadata": {},
   "outputs": [
    {
     "data": {
      "text/plain": [
       "[0, 1, 1, 1, 2, 2, 3, 3, 4, 4]"
      ]
     },
     "execution_count": 2,
     "metadata": {},
     "output_type": "execute_result"
    }
   ],
   "source": [
    "A=[0,1,1,2,4,4,1,3,3,2]#[3,2,9,5,6,4,1]\n",
    "run(A)"
   ]
  },
  {
   "cell_type": "markdown",
   "metadata": {},
   "source": [
    "**堆排序**"
   ]
  },
  {
   "cell_type": "code",
   "execution_count": 23,
   "metadata": {},
   "outputs": [],
   "source": [
    "def heap_sort(nums:'List[int]'):\n",
    "    n = len(nums)\n",
    "    if n == 0:\n",
    "        return nums\n",
    "#     build_heap(nums)\n",
    "    # 构建最大堆\n",
    "    for i in range(n//2-1, -1, -1):\n",
    "        max_heapify(nums, i, n)\n",
    "    # 一个一个交换元素\n",
    "    for i in range(n-1, -1, -1):\n",
    "        nums[i], nums[0] = nums[0], nums[i]\n",
    "        # 这里要排除最后一个元素\n",
    "        max_heapify(nums, 0, i)\n",
    "    return nums\n",
    "\n",
    "\n",
    "# def build_heap(nums):\n",
    "#     n = len(nums)\n",
    "#     for i in range(n//2-1, -1, -1):\n",
    "#         max_heapify(nums, i, n)\n",
    "    \n",
    "def max_heapify(nums, i, n):\n",
    "    left = 2*i+1\n",
    "    right = 2*i+2\n",
    "    if left<n and nums[left]>nums[i]:\n",
    "        largest = left\n",
    "    else:\n",
    "        largest = i\n",
    "    if right<n and nums[right]>nums[largest]:\n",
    "        largest = right\n",
    "    if largest != i:\n",
    "        nums[i], nums[largest] = nums[largest], nums[i]\n",
    "        # 子树调整\n",
    "        max_heapify(nums, largest, n)"
   ]
  },
  {
   "cell_type": "code",
   "execution_count": 24,
   "metadata": {},
   "outputs": [
    {
     "data": {
      "text/plain": [
       "[1, 2, 3, 4, 5, 6, 9]"
      ]
     },
     "execution_count": 24,
     "metadata": {},
     "output_type": "execute_result"
    }
   ],
   "source": [
    "heap_sort(A)"
   ]
  },
  {
   "cell_type": "markdown",
   "metadata": {},
   "source": [
    "**归并排序**"
   ]
  },
  {
   "cell_type": "code",
   "execution_count": null,
   "metadata": {},
   "outputs": [],
   "source": [
    "\n",
    "def merge(s1,s2,s):\n",
    "    \"\"\"将两个列表是s1，s2按顺序融合为一个列表s,s为原列表\"\"\"\n",
    "    # j和i就相当于两个指向的位置，i指s1，j指s2\n",
    "    i = j = 0\n",
    "    while i+j<len(s):\n",
    "        # j==len(s2)时说明s2走完了，或者s1没走完并且s1中该位置是最小的\n",
    "        if j==len(s2) or (i<len(s1) and s1[i]<s2[j]):\n",
    "            s[i+j] = s1[i]\n",
    "            i += 1\n",
    "        else:\n",
    "            s[i+j] = s2[j]\n",
    "            j += 1\n",
    "\n",
    "def merge_sort(s):\n",
    "    \"\"\"归并排序\"\"\"\n",
    "    n = len(s)\n",
    "    # 剩一个或没有直接返回，不用排序\n",
    "    if n < 2:\n",
    "        return\n",
    "    # 拆分\n",
    "    mid = n // 2\n",
    "    s1 = s[0:mid]\n",
    "    s2 = s[mid:n]\n",
    "    # 子序列递归调用排序\n",
    "    merge_sort(s1)\n",
    "    merge_sort(s2)\n",
    "    # 合并\n",
    "    merge(s1,s2,s)\n",
    "\n",
    "\n",
    "if __name__ == '__main__':\n",
    "    s = [1,7,3,5,4]\n",
    "    merge_sort(s)\n",
    "    print(s)"
   ]
  },
  {
   "cell_type": "markdown",
   "metadata": {},
   "source": [
    "**桶排序**"
   ]
  },
  {
   "cell_type": "code",
   "execution_count": null,
   "metadata": {},
   "outputs": [],
   "source": [
    "# 方法1\n",
    "def bucketSort(nums):\n",
    "    # 选择一个最大的数\n",
    "    max_num = max(nums)\n",
    "    # 创建一个元素全是0的列表, 当做桶\n",
    "    bucket = [0] * (max_num + 1)\n",
    "    # 把所有元素放入桶中, 即把对应元素个数加一\n",
    "    for i in nums:\n",
    "        bucket[i] += 1\n",
    "    # 存储排序好的元素\n",
    "    sort_nums = []\n",
    "    # 取出桶中的元素\n",
    "    for j in range(len(bucket)):\n",
    "        if bucket[j] != 0:\n",
    "            for y in range(bucket[j]):\n",
    "                sort_nums.append(j)\n",
    "    return sort_nums\n",
    "\n",
    "# 方法二\n",
    "from collections import Counter\n",
    "\n",
    "class Solution(object):\n",
    "    def topKFrequent(self,nums,k):\n",
    "        # map = {}\n",
    "        # for i in nums:\n",
    "        #     map[i] = map.get(i,0) + 1    #生成字典映射\n",
    "        map = Counter(nums) # 建立哈希表\n",
    "\n",
    "        max_freq = max(map.values())\n",
    "        bucket = [[] for _ in range(max_freq+1)] # 用列表推导式建立桶，因为同一频次可能有多个值\n",
    "        for num, freq in map.items():\n",
    "            bucket[freq].append(num) # 这里要用append，因为bucket[freq]是一个列表\n",
    "\n",
    "        res = []\n",
    "        for i in range(max_freq,0,-1): # 取前k频次\n",
    "            if bucket[i]:\n",
    "                res.extend(bucket[i]) # 这里要用extend，而不是append\n",
    "            if len(res) >= k:\n",
    "                return res[:k]\n",
    "\n",
    "\n",
    "nums = [2,2,2,1,1,4,5,5,5,5]\n",
    "# nums = [1,2]\n",
    "k = 2\n",
    "s = Solution()\n",
    "print(s.topKFrequent(nums,k))"
   ]
  },
  {
   "cell_type": "markdown",
   "metadata": {},
   "source": [
    "**二分查找**"
   ]
  },
  {
   "cell_type": "code",
   "execution_count": 1,
   "metadata": {},
   "outputs": [],
   "source": [
    "def binarySearch(nums:'List[int]', target:'int'):\n",
    "    n = len(nums)\n",
    "    left, right = 0, n-1\n",
    "    while(left <= right):\n",
    "#         mid = (left + right) // 2 \n",
    "        mid  = left + (right - left)//2 # 为了防止数值相加溢出\n",
    "        if nums[mid] == target:\n",
    "            return mid\n",
    "        elif nums[mid] < target:\n",
    "            left = mid + 1\n",
    "        elif nums[mid] > target:\n",
    "            right = mid-1\n",
    "    return -1"
   ]
  },
  {
   "cell_type": "code",
   "execution_count": 3,
   "metadata": {},
   "outputs": [
    {
     "data": {
      "text/plain": [
       "-1"
      ]
     },
     "execution_count": 3,
     "metadata": {},
     "output_type": "execute_result"
    }
   ],
   "source": [
    "binarySearch(nums=[1, 2, 3, 4, 5, 6, 9], target=5)"
   ]
  },
  {
   "cell_type": "markdown",
   "metadata": {},
   "source": [
    "**寻找左侧边界的二分搜索**"
   ]
  },
  {
   "cell_type": "code",
   "execution_count": 9,
   "metadata": {},
   "outputs": [],
   "source": [
    "def binarySearch(nums:'List[int]', target:'int'):\n",
    "    n = len(nums)\n",
    "    left, right = 0, n-1\n",
    "    while(left <= right):\n",
    "#         mid = (left + right) // 2 \n",
    "        mid  = left + (right - left)//2 # 为了防止数值相加溢出\n",
    "        if nums[mid] == target:\n",
    "            right = mid - 1\n",
    "        elif nums[mid] < target:\n",
    "            left = mid + 1\n",
    "        elif nums[mid] > target:\n",
    "            right = mid-1\n",
    "    if left >=n or nums[left] != target: # 防止右侧边界溢出的情况\n",
    "        return -1\n",
    "    return left"
   ]
  },
  {
   "cell_type": "code",
   "execution_count": 10,
   "metadata": {},
   "outputs": [
    {
     "data": {
      "text/plain": [
       "3"
      ]
     },
     "execution_count": 10,
     "metadata": {},
     "output_type": "execute_result"
    }
   ],
   "source": [
    "binarySearch(nums=[1, 2, 3, 5, 5, 5, 5, 6, 9], target=5)"
   ]
  },
  {
   "cell_type": "markdown",
   "metadata": {},
   "source": [
    "**二叉树的非递归遍历**"
   ]
  },
  {
   "cell_type": "code",
   "execution_count": null,
   "metadata": {},
   "outputs": [],
   "source": [
    "class TreeNode:\n",
    "    def __init__(self, x):\n",
    "        self.val = x\n",
    "        self.left = None\n",
    "        self.right = None\n",
    "        \n",
    "# 前序遍历\n",
    "def pre_order(head):\n",
    "    '''\n",
    "    二叉树先序遍历非递归实现\n",
    "    :param head: 头节点\n",
    "    :return: result列表类型\n",
    "    '''\n",
    "    if not head: # 空\n",
    "        return []\n",
    "    stack, result = [], []\n",
    "    stack.append(head)\n",
    "    while len(stack) != 0:\n",
    "        node = stack.pop() # 先序 遇到就先输出\n",
    "        result.append(node.val)\n",
    "        # 栈的弹出顺序与入栈顺序相反 因此先入右再入左\n",
    "        if node.right:\n",
    "            stack.append(node.right)\n",
    "        if node.left:\n",
    "            stack.append(node.left)\n",
    "    return result\n",
    "\n",
    "# 中序遍历\n",
    "def mid_order(head):\n",
    "    '''\n",
    "    二叉树中序遍历非递归实现\n",
    "    1.当前节点如有左节点就不断压栈 无左节点就可以出栈打印\n",
    "    2.打印出栈的节点若有右子树则将右节点执行1的步骤\n",
    "    :param head: 头结点\n",
    "    :return: result列表类型\n",
    "    '''\n",
    "    if not head: #空\n",
    "        return []\n",
    "    stack, result = [], []\n",
    "    node = head\n",
    "    # 循环条件：1.栈非空则还可以输出 2.栈空但是节点非空说明还有节点可以压栈\n",
    "    while node or len(stack) != 0:\n",
    "        if not node: # 如果节点为空 证明没有左子树 弹出一个\n",
    "            node = stack.pop()\n",
    "            result.append(node.val)\n",
    "            node = node.right #尝试是否有右节点\n",
    "        else: # 节点非空 压栈 尝试是否有左子树\n",
    "            stack.append(node)\n",
    "            node = node.left\n",
    "    return result\n",
    "\n",
    "# 后序遍历\n",
    "# 该方法太投机取巧了\n",
    "def post_order(head):\n",
    "    '''\n",
    "    后序遍历二叉树非递归 后序遍历是 左-右-中\n",
    "    反过来就是 中-右-左 其实就是先序遍历镜像二叉树(即左右互换)\n",
    "    :param head: 头节点\n",
    "    :return: result[::-1] 逆序\n",
    "    '''\n",
    "    if not head:\n",
    "        return []\n",
    "    stack, result = [], []\n",
    "    stack.append(head)\n",
    "    while len(stack) != 0:\n",
    "        node = stack.pop() # 先序 遇到就先输出\n",
    "        result.append(node.val)\n",
    "        # 先压栈左节点再压右节点 所以输出就是先右后左\n",
    "        if node.left:\n",
    "            stack.append(node.left)\n",
    "        if node.right:\n",
    "            stack.append(node.right)\n",
    "    return result[::-1] # 将 中-右-左 逆序变为 左-右-中\n",
    "\n",
    "# 后序遍历的另一种写法\n",
    "def post_order(root):\n",
    "    '''\n",
    "    利用一个栈和一个标志节点实现后序遍历\n",
    "    '''\n",
    "    s=[]\n",
    "    s.append(root)\n",
    "    lastNode=None #上一个访问过(打印出来)的节点\n",
    "    while s:\n",
    "        while s[-1].lchild: # 使用while到达其分支最底层的左节点\n",
    "            s.append(s[-1].lchild)\n",
    "        while s:\n",
    "            # 如果当前节点的右节点为空或者已经访问过时，此时当前节点已经遍历完成，出栈，并打印\n",
    "            if s[-1].rchild==lastNode or not s[-1].rchild:\n",
    "                node=s.pop()\n",
    "                print(node.value)\n",
    "                lastNode=node\n",
    "            elif s[-1].rchild: #如果当前节点的右节点没有访问过，则当前节点入栈\n",
    "                s.append(s[-1].rchild)\n",
    "                break #当前节点入栈后，需要首先遍历其左节点，因此break,使用while到达其分支最底层的左节点\n",
    "\n",
    "\n",
    "# 测试案例\n",
    "\n",
    "if __name__ == '__main__':\n",
    "    l1 = TreeNode(1)\n",
    "    l2 = TreeNode(2)\n",
    "    l3 = TreeNode(3)\n",
    "    l4 = TreeNode(4)\n",
    "    l5 = TreeNode(5)\n",
    "    l6 = TreeNode(6)\n",
    " \n",
    "    l1.left = l2\n",
    "    l1.right = l3\n",
    " \n",
    "    l2.left = l4\n",
    "    l2.right = l5\n",
    " \n",
    "    l3.left = l6\n",
    "    print('pre_order', pre_order(l1))\n",
    "    print('mid_order', mid_order(l1))\n",
    "    print('post_order', post_order(l1))"
   ]
  },
  {
   "cell_type": "markdown",
   "metadata": {},
   "source": [
    "**前序，中序，后序遍历二叉树**"
   ]
  },
  {
   "cell_type": "code",
   "execution_count": null,
   "metadata": {},
   "outputs": [],
   "source": [
    "class TreeNode:\n",
    "    def __init__(self, x):\n",
    "         self.val = x\n",
    "         self.left = None\n",
    "         self.right = None\n",
    "#\n",
    "# @param root TreeNode类 the root of binary tree\n",
    "# @return int整型二维数组\n",
    "#\n",
    "class Solution:\n",
    "    def threeOrders(self , root ):\n",
    "        pre_order, in_order, post_order = [], [], []\n",
    "        def find(root):\n",
    "            if not root: return None\n",
    "            pre_order.append(root.val)  # 先序：根左右\n",
    "            find(root.left)\n",
    "            in_order.append(root.val)   # 中序：左根右\n",
    "            find(root.right)\n",
    "            post_order.append(root.val) # 后序：左右根\n",
    "        find(root)\n",
    "        return [pre_order, in_order, post_order]"
   ]
  },
  {
   "cell_type": "markdown",
   "metadata": {},
   "source": [
    "**反转链表**"
   ]
  },
  {
   "cell_type": "code",
   "execution_count": null,
   "metadata": {},
   "outputs": [],
   "source": [
    "def ReverseList(self, pHead):\n",
    "    # write code here\n",
    "    if pHead == None or pHead.next is None:\n",
    "        return pHead\n",
    "    pre= None\n",
    "    cur = pHead\n",
    "    # 该方式会丢失掉原来的head\n",
    "    while pHead:\n",
    "        cur = pHead.next\n",
    "        pHead.next = pre\n",
    "        pre = pHead\n",
    "        pHead = cur\n",
    "        return pre\n",
    "    \n",
    "def reverse(phead: ListNode):\n",
    "    cur, pre = phead, None # 当前节点和前一个节点\n",
    "    while cur:\n",
    "        pnext = cur.next\n",
    "        cur.next = pre\n",
    "        pre = cur\n",
    "        cur = pnext\n",
    "    return pre\n",
    "\n",
    "# 递归反转链表\n",
    "def reverse(head: ListNode):\n",
    "    if head.next == None:\n",
    "        return head\n",
    "    last = reverse(head.next)\n",
    "    head.next.next = head\n",
    "    head.next = None\n",
    "    return last # 新的头节点是last"
   ]
  },
  {
   "cell_type": "markdown",
   "metadata": {},
   "source": [
    "**LRU缓存结构**"
   ]
  },
  {
   "cell_type": "code",
   "execution_count": null,
   "metadata": {},
   "outputs": [],
   "source": [
    "class Solution:\n",
    "    def __init__(self):\n",
    "        self.lru_dict = {}\n",
    "        self.lru_list = []\n",
    "        \n",
    "    def set_v(self, key, value, cap):\n",
    "        if len(self.lru_list) == cap:\n",
    "            del self.lru_dict[self.lru_list[-1]] # 此处是按照lru_list[-1]去删除dict中的内容，而不是根据key值删除\n",
    "            self.lru_list.pop(-1)\n",
    "        self.lru_list.insert(0, key)\n",
    "        self.lru_dict[key] = value\n",
    "        \n",
    "        \n",
    "    def get_v(self, key):\n",
    "        res = self.lru_dict.get(key)\n",
    "        if res:\n",
    "            self.lru_list.remove(key)\n",
    "            self.lru_list.insert(0, key)\n",
    "            return res\n",
    "        return -1\n",
    "    \n",
    "    \n",
    "    def LRU(self , operators , k ):\n",
    "        # write code here\n",
    "        # map + list\n",
    "        # map + linklist\n",
    "        lru_res = []\n",
    "        cap = k\n",
    "        for operator in operators:\n",
    "            if operator[0] == 1:\n",
    "                self.set_v(operator[1], operator[2], cap)\n",
    "            elif operator[0] == 2:\n",
    "                lru_res.append(self.get_v(operator[1]))\n",
    "            else:\n",
    "                print(\"wrong dataformat.\")\n",
    "                \n",
    "        return lru_res"
   ]
  },
  {
   "cell_type": "markdown",
   "metadata": {},
   "source": [
    "**链表是否有环**"
   ]
  },
  {
   "cell_type": "code",
   "execution_count": null,
   "metadata": {},
   "outputs": [],
   "source": [
    "# 五种解题思路记录\n",
    "# hash表： 使用hash表记录已经访问过的节点\n",
    "# 快慢指针\n",
    "# 链表计数： 链表中最多10000个节点，超过10000就是有环\n",
    "# 链表反转： 按顺序反转链表，由于环之前的部分已经反转，最后会返回到head节点\n",
    "# 标记val值： 将原链表val值变为特殊值，若访问的节点val已经被变更过就是有环  python中可以给节点添加新属性不改变原链表，则空间复杂度变为O(n)\n",
    "\n",
    "class Solution:\n",
    "    def hasCycle(self , head ):\n",
    "        # write code here\n",
    "        if head == None or head.next == None:\n",
    "            return False\n",
    "        fast, slow = head, head\n",
    "        while fast and fast.next:\n",
    "            slow = slow.next\n",
    "            fast = fast.next.next\n",
    "            if slow == fast:\n",
    "                return True\n",
    "        return False"
   ]
  },
  {
   "cell_type": "markdown",
   "metadata": {},
   "source": [
    "**最小的k个数**"
   ]
  },
  {
   "cell_type": "code",
   "execution_count": null,
   "metadata": {},
   "outputs": [],
   "source": [
    "# 有四种解决方式\n",
    "# 1. 基于快速排序\n",
    "# 2. 基于堆排序\n",
    "# 3. 基于二叉搜索树\n",
    "# 4. 计数排序\n",
    "\n",
    "# 快排\n",
    "class Solution(object):\n",
    "    def getLeastNumbers(self, arr, k):\n",
    "        \"\"\"\n",
    "        :type arr: List[int]\n",
    "        :type k: int\n",
    "        :rtype: List[int]\n",
    "        \"\"\"\n",
    "        n = len(arr)\n",
    "        if n == 0: return []\n",
    "        self.quicksort(arr, 0, n-1, k)\n",
    "        return arr[:k]\n",
    "\n",
    "    def partition(self, arr, left, right):\n",
    "        pivot = arr[left]\n",
    "        i = left\n",
    "        for j in range(left+1, right+1):\n",
    "            if arr[j]< pivot:\n",
    "                i += 1\n",
    "                arr[i] , arr[j] = arr[j], arr[i]\n",
    "        arr[left], arr[i] = arr[i], arr[left]\n",
    "        return i\n",
    "\n",
    "    def quicksort(self, arr, left, right, k):\n",
    "        # 只有该函数发生了变化\n",
    "        if left < right:\n",
    "            pi = self.partition(arr, left, right)\n",
    "            if pi == k:\n",
    "                return arr\n",
    "            if pi > k:\n",
    "                self.quicksort(arr, left, pi - 1, k)\n",
    "            if pi < k:\n",
    "                self.quicksort(arr, pi + 1, right, k)\n",
    "        return arr"
   ]
  },
  {
   "cell_type": "markdown",
   "metadata": {},
   "source": [
    "**二叉树的层序遍历**"
   ]
  },
  {
   "cell_type": "code",
   "execution_count": null,
   "metadata": {},
   "outputs": [],
   "source": [
    "# 迭代实现 \n",
    "class Solution(object):\n",
    "    def levelOrder(self, root):\n",
    "        \"\"\"\n",
    "        :type root: TreeNode\n",
    "        :rtype: List[List[int]]\n",
    "        \"\"\"\n",
    "        res = []\n",
    "        if not root: return []\n",
    "        tree_queue = [root]\n",
    "        while tree_queue:\n",
    "            level_res = []\n",
    "            # 获取当前队列的长度，这个长度相当于 当前这一层的节点个数\n",
    "            len_queue = len(tree_queue)\n",
    "            # 将队列中的元素都拿出来(也就是获取这一层的节点)，放到临时list中\n",
    "            # 如果节点的左/右子树不为空，也放入队列中\n",
    "            for i in range(len_queue):\n",
    "                tree_tmp = tree_queue.pop()\n",
    "                level_res.append(tree_tmp.val)\n",
    "                if tree_tmp.left:\n",
    "                    tree_queue.insert(0, tree_tmp.left)\n",
    "                if tree_tmp.right:\n",
    "                    tree_queue.insert(0, tree_tmp.right)\n",
    "            # 将临时list加入最终返回结果中\n",
    "            res.append(level_res)\n",
    "\n",
    "        return res\n",
    "\n",
    "    \n",
    "# 递归实现DFS\n",
    "class Solution(object):\n",
    "    def levelOrder(self, root):\n",
    "        \"\"\"\n",
    "        :type root: TreeNode\n",
    "        :rtype: List[List[int]]\n",
    "        \"\"\"\n",
    "        res = []\n",
    "        if not root: return []\n",
    "        def dfs(index, tree):\n",
    "            # 假设res是[ [1],[2,3] ]， index是3，就再插入一个空list放到res中\n",
    "            if len(res) < index+1:\n",
    "                res.append([])\n",
    "            #  将当前节点的值加入到res中，index代表当前层，假设index是3，节点值是99\n",
    "            # res是[ [1],[2,3] [4] ]，加入后res就变为 [ [1],[2,3] [4,99] ]\n",
    "            res[index].append(tree.val)\n",
    "            # 递归的处理左子树，右子树，同时将层数index+1\n",
    "            if tree.left:\n",
    "                dfs(index+1, tree.left)\n",
    "            if tree.right:\n",
    "                dfs(index+1, tree.right)\n",
    "\n",
    "        dfs(0, root)\n",
    "        return res"
   ]
  },
  {
   "cell_type": "markdown",
   "metadata": {},
   "source": [
    "**合并两个有序链表**"
   ]
  },
  {
   "cell_type": "code",
   "execution_count": null,
   "metadata": {},
   "outputs": [],
   "source": [
    "class Solution(object):\n",
    "    def mergeTwoLists(self, l1, l2):\n",
    "        \"\"\"\n",
    "        :type l1: ListNode\n",
    "        :type l2: ListNode\n",
    "        :rtype: ListNode\n",
    "        \"\"\"\n",
    "        # 此处没有必要，如果l1或者l2为空，只保留下面的代码会是同样的结果\n",
    "        # if not l1: return l2 \n",
    "        # if not l2: return l1\n",
    "        phead_bk = phead = ListNode(0)\n",
    "        while l1 and l2:\n",
    "            if l1.val <= l2.val:\n",
    "                phead.next, l1 = l1, l1.next\n",
    "            else:\n",
    "                phead.next, l2 = l2, l2.next\n",
    "            phead = phead.next\n",
    "        phead.next = l1 if l1 else l2\n",
    "        return phead_bk.next"
   ]
  },
  {
   "cell_type": "markdown",
   "metadata": {},
   "source": [
    "**gcd**"
   ]
  },
  {
   "cell_type": "code",
   "execution_count": null,
   "metadata": {},
   "outputs": [],
   "source": [
    "def get_gcd_eventcnt(amt_list, min_amt=100, min_gcd=100, **kwargs):\n",
    "    \"\"\"\n",
    "    计算呈倍数关系的交易金额数量\n",
    "\n",
    "    :param amt_list: 交易金额序列\n",
    "    :param min_amt: 交易金额最小值，低于最小值的会被删掉\n",
    "    :param min_gcd: gcd最小值，低于最小值的gcd不予考虑\n",
    "    :param kwargs: 参数集合\n",
    "    :return: 呈倍数关系的金额数量\n",
    "    \"\"\"\n",
    "\n",
    "    def gcd(a, b):\n",
    "        if a < b:\n",
    "            a, b = b, a\n",
    "        r = a % b\n",
    "        if r == 0:\n",
    "            return b\n",
    "        while r != 0:\n",
    "            a = b\n",
    "            b = r\n",
    "            r = a % b\n",
    "        return b\n",
    "\n",
    "    if not amt_list:\n",
    "        return -1\n",
    "    amt_list = [int(x) for x in amt_list if x >= min_amt]\n",
    "    if not amt_list:\n",
    "        return -1\n",
    "    amt_ct = {}\n",
    "    for x in amt_list:\n",
    "        t = int(x)\n",
    "        amt_ct[t] = amt_ct.get(t, 0) + 1\n",
    "    amt_ct = sorted(amt_ct.items())\n",
    "\n",
    "    gcd_amt_set = set()  # 记录已经被计数过的gcd和amt配对\n",
    "    gcd_ct = {}\n",
    "    for k, (x, ct) in enumerate(amt_ct):\n",
    "        gcd_ct[x] = gcd_ct.get(x, 0) + ct  # 把自身计数进去\n",
    "        gcd_amt_set.add((x, x))\n",
    "        for i in range(k + 1, len(amt_ct)):\n",
    "            y = amt_ct[i][0]\n",
    "            gcd_value = gcd(x, y)\n",
    "            if gcd_value >= min_gcd:\n",
    "                #                     print x,y,gcd_value\n",
    "                if (gcd_value, x) not in gcd_amt_set:\n",
    "                    gcd_ct[gcd_value] = gcd_ct.get(gcd_value, 0) + ct\n",
    "                    gcd_amt_set.add((gcd_value, x))\n",
    "                if (gcd_value, y) not in gcd_amt_set:\n",
    "                    gcd_ct[gcd_value] = gcd_ct.get(gcd_value, 0) + amt_ct[i][1]\n",
    "                    gcd_amt_set.add((gcd_value, y))\n",
    "\n",
    "    gcd_value, count = sorted(gcd_ct.items(), key=lambda x: -x[1])[0]\n",
    "    #         print gcd_value, count\n",
    "    return gcd_value, count, sorted(gcd_ct.items(), key=lambda x: -x[1])\n",
    "\n",
    "import random\n",
    "amt_list = []\n",
    "list_length = 50\n",
    "random.seed()\n",
    "for i in range(list_length):\n",
    "    amt_list.append(random.randint(100, 1000))\n",
    "amt_list.sort()    \n",
    "print(amt_list[:100])\n",
    "\n",
    "gcd_value, count, gcd_ct = get_gcd_eventcnt(amt_list)\n",
    "print(gcd_value, count, gcd_ct)"
   ]
  },
  {
   "cell_type": "markdown",
   "metadata": {},
   "source": [
    "**两个栈实现队列的添加和删除**"
   ]
  },
  {
   "cell_type": "code",
   "execution_count": null,
   "metadata": {},
   "outputs": [],
   "source": [
    "class CQueue(object):\n",
    "    def __init__(self):\n",
    "        self.stack_in = []\n",
    "        self.stack_out = []\n",
    "\n",
    "    def appendTail(self, value):\n",
    "        \"\"\"\n",
    "        :type value: int\n",
    "        :rtype: None\n",
    "        \"\"\"\n",
    "        self.stack_in.append(value)\n",
    "\n",
    "    def deleteHead(self):\n",
    "        \"\"\"\n",
    "        :rtype: int\n",
    "        \"\"\"\n",
    "        if not self.stack_out:\n",
    "            if not self.stack_in:\n",
    "                return -1 # 都为空， 返回-1\n",
    "            else: # 把in栈中的东西全部倒入out栈中\n",
    "                while self.stack_in:\n",
    "                    self.stack_out.append(self.stack_in.pop())\n",
    "        return self.stack_out.pop()\n",
    "\n",
    "# Your CQueue object will be instantiated and called as such:\n",
    "# obj = CQueue()\n",
    "# obj.appendTail(value)\n",
    "# param_2 = obj.deleteHead()"
   ]
  },
  {
   "cell_type": "markdown",
   "metadata": {},
   "source": [
    "**两数之和**"
   ]
  },
  {
   "cell_type": "code",
   "execution_count": null,
   "metadata": {},
   "outputs": [],
   "source": [
    "class Solution:\n",
    "    def twoSum(self, nums: List[int], target: int) -> List[int]:\n",
    "        # 哈希表的查询时间复杂度是O(1)\n",
    "        hashtable = dict()\n",
    "        for i, num in enumerate(nums):\n",
    "            if target - num in hashtable:\n",
    "                return [hashtable[target - num], i]\n",
    "            hashtable[nums[i]] = i\n",
    "        return []\n"
   ]
  },
  {
   "cell_type": "markdown",
   "metadata": {},
   "source": [
    "**BFS寻找树的最小树深**"
   ]
  },
  {
   "cell_type": "code",
   "execution_count": null,
   "metadata": {},
   "outputs": [],
   "source": [
    "# Definition for a binary tree node.\n",
    "# class TreeNode(object):\n",
    "#     def __init__(self, val=0, left=None, right=None):\n",
    "#         self.val = val\n",
    "#         self.left = left\n",
    "#         self.right = right\n",
    "class Solution(object):\n",
    "    def minDepth(self, root):\n",
    "        \"\"\"\n",
    "        :type root: TreeNode\n",
    "        :rtype: int\n",
    "        \"\"\"\n",
    "        if not root:\n",
    "            return 0\n",
    "        q = [root]\n",
    "        depth = 1\n",
    "        while len(q)>0:\n",
    "            q_len = len(q)\n",
    "            for i in range(q_len):\n",
    "                qi = q.pop()\n",
    "                if (qi.left == None and qi.right == None):\n",
    "                    return depth\n",
    "                if qi.left:\n",
    "                    q.insert(0,qi.left)\n",
    "                if qi.right:\n",
    "                    q.insert(0,qi.right)\n",
    "            depth += 1\n",
    "        return depth"
   ]
  },
  {
   "cell_type": "markdown",
   "metadata": {},
   "source": [
    "**高效计算素数**"
   ]
  },
  {
   "cell_type": "code",
   "execution_count": null,
   "metadata": {},
   "outputs": [],
   "source": [
    "import math\n",
    "\n",
    "n = 21\n",
    "is_primes = [True for i in range(n+1)] # 为了计算到值n\n",
    "for x in range(2, int(math.sqrt(n))): # sqrt(n)是相乘反转计算的分界点\n",
    "    # 是否为素数\n",
    "    if is_primes[x]:\n",
    "        # 从 x*x开始，就可以保证无重复\n",
    "        for xi in range(x*x, n+1, x):\n",
    "            is_primes[xi] = False\n",
    "            \n",
    "count_n = 0\n",
    "# 0，1是不计算再内的\n",
    "for i in range(2, n+1):\n",
    "    if is_primes[i]:\n",
    "        print(i)\n",
    "        count_n += 1\n",
    "        \n",
    "print(count_n)"
   ]
  },
  {
   "cell_type": "markdown",
   "metadata": {},
   "source": [
    "**后序打印链表**"
   ]
  },
  {
   "cell_type": "code",
   "execution_count": null,
   "metadata": {},
   "outputs": [],
   "source": [
    "# 链表的后续遍历，需要借助于递归操作\n",
    "# 倒序打印单链表中的元素值 \n",
    "def traverse(ListNode head):\n",
    "    if (head == null):\n",
    "        return; \n",
    "    traverse(head.next); \n",
    "    # 后序遍历代码 \n",
    "    print(head.val);\n"
   ]
  },
  {
   "cell_type": "markdown",
   "metadata": {},
   "source": [
    "**异或操作**"
   ]
  },
  {
   "cell_type": "code",
   "execution_count": null,
   "metadata": {},
   "outputs": [],
   "source": [
    "一个数和它本身做异或运算结果为0， 一个数和0做异或运算还是它本身\n",
    "\n",
    "a^a = 0,  a^0 = a"
   ]
  },
  {
   "cell_type": "markdown",
   "metadata": {},
   "source": [
    "**回文链表**"
   ]
  },
  {
   "cell_type": "code",
   "execution_count": null,
   "metadata": {},
   "outputs": [],
   "source": [
    "# Definition for singly-linked list.\n",
    "# class ListNode:\n",
    "#     def __init__(self, val=0, next=None):\n",
    "#         self.val = val\n",
    "#         self.next = next\n",
    "class Solution:\n",
    "    def isPalindrome(self, head: ListNode) -> bool:\n",
    "        # 找到中间链表的中间节点\n",
    "        slow, fast = head, head\n",
    "        while fast and fast.next:\n",
    "            slow = slow.next\n",
    "            fast = fast.next.next\n",
    "        if fast: # 链表长度为偶数时，向前移一位\n",
    "            slow = slow.next\n",
    "        def reverse(phead: ListNode):\n",
    "            # 链表反转\n",
    "            cur, pre = phead, None\n",
    "            while cur:\n",
    "                pnext = cur.next\n",
    "                cur.next = pre\n",
    "                pre = cur\n",
    "                cur = pnext\n",
    "            return pre\n",
    "        # 比较是否为回文链表\n",
    "        left = head\n",
    "        right = reverse(slow)\n",
    "        # 两个链表比较值是否相同\n",
    "        while right:\n",
    "            if left.val != right.val:\n",
    "                return False\n",
    "            left = left.next\n",
    "            right = right.next\n",
    "        return True "
   ]
  },
  {
   "cell_type": "markdown",
   "metadata": {},
   "source": [
    "**二分查找左侧区间的应用**"
   ]
  },
  {
   "cell_type": "code",
   "execution_count": null,
   "metadata": {},
   "outputs": [],
   "source": [
    "# 爱吃香蕉的珂珂\n",
    "class Solution:\n",
    "    def minEatingSpeed(self, piles: List[int], h: int) -> int:\n",
    "        # 特殊情况判断\n",
    "        if len(piles)<=0:\n",
    "            return 0\n",
    "        if len(piles)>h:\n",
    "            return float('inf')\n",
    "        # 速度的可取范围\n",
    "        max_sp = max(piles)\n",
    "        min_sp = max(int(sum(piles)/h), 1)\n",
    "        # 以速度K吃香蕉，吃完需要的时间\n",
    "        def canFinished(lc_piles, lc_k, lc_h):\n",
    "            import math\n",
    "            res_hours = 0\n",
    "            for lc_pile in lc_piles:\n",
    "                res_hours += math.ceil(lc_pile*1.0/lc_k)\n",
    "\n",
    "            if res_hours <= lc_h:\n",
    "                return True\n",
    "            return False\n",
    "        # 吃完所需的最小速度\n",
    "        # 右侧区间问题\n",
    "        left, right = min_sp, max_sp\n",
    "        while left <= right:\n",
    "            mid = left + (right-left)//2\n",
    "            if canFinished(piles, mid, h):\n",
    "                right = mid - 1 # 如果前面是left<= right，则此处必须是right = mid - 1\n",
    "            else:\n",
    "                left = mid + 1\n",
    "        if left > max_sp:\n",
    "            return -1\n",
    "        return left\n",
    "# 轮船的最低运载能力\n",
    "class Solution:\n",
    "    def shipWithinDays(self, weights: List[int], D: int) -> int:\n",
    "        # 特殊情况分析\n",
    "        if len(weights)<=0:\n",
    "            return 0\n",
    "        if D <= 0:\n",
    "            return -1\n",
    "        # 运载能力的边界\n",
    "        min_cap = min(weights)\n",
    "        max_cap = sum(weights)\n",
    "        # 运载能力为cap时，能否完成\n",
    "        def canFinish(lc_weights, lc_d, lc_cap):\n",
    "            lc_sum = 0\n",
    "            lc_ct = 1\n",
    "            for lc_weight in lc_weights:\n",
    "                if lc_weight>lc_cap: # 此处一定要判断单个的重量是否满足要求\n",
    "                    return False\n",
    "                if (lc_sum + lc_weight) <= lc_cap:\n",
    "                    lc_sum += lc_weight\n",
    "                else:\n",
    "                    lc_sum= lc_weight\n",
    "                    lc_ct += 1\n",
    "            if lc_ct <= lc_d:\n",
    "                return True\n",
    "            return False\n",
    "\n",
    "        #  canFinish的另一种简便写法\n",
    "        def canFinish(lc_weights, lc_d, lc_cap):\n",
    "            i = 0\n",
    "            for day in range(lc_d):\n",
    "                lc_max_cap = lc_cap \n",
    "                while (lc_max_cap - lc_weights[i]) >= 0:\n",
    "                    lc_max_cap -= lc_weights[i]\n",
    "                    i += 1\n",
    "                    if i == len(lc_weights):\n",
    "                        return True\n",
    "            return False\n",
    "        # 查找最低的运载能力\n",
    "        # 左侧区间问题\n",
    "        left, right = min_cap, max_cap\n",
    "        while left <= right:\n",
    "            mid = left + (right - left)//2\n",
    "            if canFinish(weights, D, mid):\n",
    "                right = mid - 1\n",
    "            else:\n",
    "                left = mid + 1\n",
    "        return left\n",
    "\n"
   ]
  },
  {
   "cell_type": "markdown",
   "metadata": {},
   "source": [
    "**接雨水问题**"
   ]
  },
  {
   "cell_type": "code",
   "execution_count": null,
   "metadata": {},
   "outputs": [],
   "source": [
    "class Solution:\n",
    "    def trap(self, height: List[int]) -> int:\n",
    "        # # 计算每个柱子左面的最大值和右面的最大值\n",
    "        # if len(height) == 0:\n",
    "        #     return 0\n",
    "        # left_max, right_max = [0], [0]\n",
    "        # l_max, r_max = 0, 0\n",
    "        # n = len(height)\n",
    "        # for i in range(1, n):\n",
    "        #     l_max = max(l_max, height[i-1])\n",
    "        #     r_max = max(r_max, height[n-i])\n",
    "        #     left_max.append(l_max)\n",
    "        #     right_max.insert(0,r_max)\n",
    "        # # print(right_max)\n",
    "        # # 每个柱子可以接水的量为min(left_max[i], right_max[i]) - height[i]\n",
    "        # res_sum = 0\n",
    "        # for i in range(n):\n",
    "        #     res_sum  += max(0, min(left_max[i], right_max[i])-height[i])\n",
    "        #     # print(res_sum, max(0, min(left_max[i], right_max[i])-height[i]))\n",
    "        # return res_sum\n",
    "\n",
    "        l_max, r_max = 0, 0\n",
    "        left, right = 0, len(height) - 1\n",
    "        sum_res = 0\n",
    "        # 计算容量的时候，只要max(l_max, r_max)是正确的值即可，至于是不是全局的l_max或r_max我们并不关心\n",
    "        # 所以对于每只要有一侧是真正的最大值即可\n",
    "        while left <= right:\n",
    "            if l_max<= r_max:\n",
    "                sum_res += max(0, min(l_max, r_max)-height[left])\n",
    "                l_max = max(l_max, height[left])\n",
    "                left += 1\n",
    "            else:\n",
    "                sum_res += max(0, min(l_max, r_max)-height[right])\n",
    "                r_max = max(r_max, height[right])\n",
    "                right -= 1\n",
    "        return sum_res\n",
    "        "
   ]
  },
  {
   "cell_type": "markdown",
   "metadata": {},
   "source": [
    "**K个一组翻转链表**"
   ]
  },
  {
   "cell_type": "code",
   "execution_count": null,
   "metadata": {},
   "outputs": [],
   "source": [
    "# Definition for singly-linked list.\n",
    "# class ListNode:\n",
    "#     def __init__(self, val=0, next=None):\n",
    "#         self.val = val\n",
    "#         self.next = next\n",
    "class Solution:\n",
    "    def reverseKGroup(self, head: ListNode, k: int) -> ListNode:\n",
    "        # 翻转链表\n",
    "        def reverse(phead, pend):\n",
    "            p_cur, p_pre = phead, None\n",
    "            while (p_cur != pend):\n",
    "                p_next = p_cur.next\n",
    "                p_cur.next = p_pre\n",
    "                p_pre = p_cur\n",
    "                p_cur = p_next\n",
    "            return p_pre\n",
    "        # k个一组分组\n",
    "        a, b = head, head\n",
    "        for i in range(k):\n",
    "            if b == None:\n",
    "                return a\n",
    "            b = b.next\n",
    "        newHead = reverse(a, b)# neadHead 在递归以后，一直是翻转后的头节点（因为只有一个return,指向的是a, 后面一直在传递该变量）\n",
    "        a.next = self.reverseKGroup(b, k) # a.next的作用只有连接， 没有修改头节点的作用。\n",
    "        return newHead"
   ]
  },
  {
   "cell_type": "markdown",
   "metadata": {},
   "source": [
    "**寻找缺失和重复的元素**"
   ]
  },
  {
   "cell_type": "code",
   "execution_count": null,
   "metadata": {},
   "outputs": [],
   "source": [
    "# 645\n",
    "# 查找过的元素，*-1，再次遇到负数的元素，即为重复值\n",
    "# 最后会有一个元素没有被查找过，仍然为正值\n",
    "class Solution:\n",
    "    def findErrorNums(self, nums: List[int]) -> List[int]:\n",
    "        # 特殊情况\n",
    "        n = len(nums)\n",
    "        if n == 0:\n",
    "            return []\n",
    "        res = []\n",
    "        # *-1 查找重复的数值\n",
    "        for i in range(n):\n",
    "            abs_num = abs(nums[i])-1 # 由于数值是1 - n的，所以索引应该-1\n",
    "            if nums[abs_num]<0:\n",
    "                res.append(abs_num+1)\n",
    "            else:\n",
    "                nums[abs_num] *= -1\n",
    "        # for循环查找缺失的数值\n",
    "        for i in range(n):\n",
    "            if nums[i]>0:\n",
    "                res.append(i+1)\n",
    "                break\n",
    "        return res"
   ]
  },
  {
   "cell_type": "markdown",
   "metadata": {},
   "source": [
    "**最长回文子串**"
   ]
  },
  {
   "cell_type": "code",
   "execution_count": null,
   "metadata": {},
   "outputs": [],
   "source": [
    "# 5\n",
    "class Solution:\n",
    "    def longestPalindrome(self, s: str) -> str:\n",
    "        # 正常的解法\n",
    "        # 判断某字符串是否为回文串\n",
    "        def palindrome(lc_s, lc_l , lc_r):\n",
    "            # 判断边界\n",
    "            while (lc_l>=0 and lc_r < len(lc_s) and lc_s[lc_l] == lc_s[lc_r]):\n",
    "                lc_l -= 1\n",
    "                lc_r += 1\n",
    "            return lc_s[lc_l+1: lc_r] \n",
    "        # 比较字符是否相等\n",
    "        # 寻找字符串的分割点，并判断在此分割点下，最长的回文串长度为多少\n",
    "        res = \"\"\n",
    "        for i in range(len(s)):\n",
    "            s1 = palindrome(s, i, i)\n",
    "            s2 = palindrome(s, i, i+1)\n",
    "            if len(s1) >len(res):\n",
    "                res = s1\n",
    "            if len(s2) > len(res):\n",
    "                res = s2\n",
    "        return res\n",
    "    \n",
    "## 动态规划方式\n",
    "# 动态规划解法\n",
    "# 确定状态和子问题\n",
    "# f[i][j]表示s[i][j]是否为回文串\n",
    "# 转移方程\n",
    "# f[i][j] = f[i+1][j-1] and (s[i] == s[j])\n",
    "# 初始条件和边界条件\n",
    "# f[i][i] = True  len(s)-1>=j>=i>=0\n",
    "# 计算顺序\n",
    "# 从上到下，从左到右\n",
    "\n",
    "n = len(s)\n",
    "if n == 0:\n",
    "    return 0\n",
    "max_len = 1\n",
    "max_str = s[0]\n",
    "f = [[False for i in range(n)] for j in range(n)]\n",
    "for i in range(n):\n",
    "    f[i][i] = True\n",
    "\n",
    "# for i in range(n):\n",
    "#     for j in range(i+1, n):\n",
    "for j in range(1, n): # 此处一定是先循环j，否则会造成中间的很多f[i][j]是先使用后判断的。\n",
    "    for i in range(0,j):\n",
    "        if j-i == 1:\n",
    "            f[i][j] = s[i] == s[j]\n",
    "        if j-i>=2:\n",
    "            f[i][j] = f[i+1][j-1] and s[i] == s[j]\n",
    "        if f[i][j] and max_len < j - i + 1:\n",
    "            max_len = j - i + 1\n",
    "            max_str = s[i:j+1]\n",
    "\n",
    "        # print(i,j, f[i][j])\n",
    "\n",
    "# for i in range(n):\n",
    "#     for j in range(i, n):\n",
    "#         if f[i][j]:\n",
    "#             max_len = max(max_len, j - i - 1)\n",
    "\n",
    "return max_str "
   ]
  },
  {
   "cell_type": "markdown",
   "metadata": {},
   "source": [
    "**考场就坐**"
   ]
  },
  {
   "cell_type": "code",
   "execution_count": null,
   "metadata": {},
   "outputs": [],
   "source": [
    "# 该题不要将问题想的太复杂了，labuladong解法里虽然可取，但是思路太复杂了\n",
    "# 将问题简化为在list中插入和删除元素\n",
    "# list中每个位置的表示该学生坐在第i个座位上。\n",
    "\n",
    "class ExamRoom:\n",
    "\n",
    "    def __init__(self, N: int):\n",
    "        self.N = N\n",
    "        self.students = []\n",
    "        \n",
    "    def seat(self) -> int:\n",
    "        i = 0 # 记录需要插入的坐标\n",
    "        if not self.students:\n",
    "            # 如果考场中已经没有学生了\n",
    "            student = 0\n",
    "        else:\n",
    "            dist, student = self.students[0], 0\n",
    "            for loc, st in enumerate(self.students):\n",
    "                if loc: # 从第二个开始计算\n",
    "                    prev = self.students[loc-1]\n",
    "                    d = (st-prev) // 2\n",
    "                    if d>dist:\n",
    "                        dist, student, i = d, prev+d, loc\n",
    "            # 检查最后一个座位是否符合\n",
    "            d = self.N - self.students[-1] - 1\n",
    "            if d > dist:\n",
    "                student, i = self.N-1, -1\n",
    "                self.students.append(student)\n",
    "                return student\n",
    "        self.students.insert(i, student)\n",
    "        return student\n",
    "\n",
    "    def leave(self, p: int) -> None:\n",
    "        self.students.remove(p)\n",
    "        \n",
    "# Your ExamRoom object will be instantiated and called as such:\n",
    "# obj = ExamRoom(N)\n",
    "# param_1 = obj.seat()\n",
    "# obj.leave(p)"
   ]
  },
  {
   "cell_type": "markdown",
   "metadata": {},
   "source": [
    "**二叉树递归的框架**"
   ]
  },
  {
   "cell_type": "code",
   "execution_count": null,
   "metadata": {},
   "outputs": [],
   "source": [
    "def traverse(TreeNode root):\n",
    "    # root 需要做什么？在这做。 \n",
    "    #其他的不⽤ root 操⼼，抛给框架 \n",
    "    traverse(root.left)\n",
    "    traverse(root.right)"
   ]
  },
  {
   "cell_type": "markdown",
   "metadata": {},
   "source": [
    "**比较两棵树是否相同**"
   ]
  },
  {
   "cell_type": "code",
   "execution_count": null,
   "metadata": {},
   "outputs": [],
   "source": [
    "# Definition for a binary tree node.\n",
    "# class TreeNode:\n",
    "#     def __init__(self, val=0, left=None, right=None):\n",
    "#         self.val = val\n",
    "#         self.left = left\n",
    "#         self.right = right\n",
    "class Solution:\n",
    "    def isSameTree(self, p: TreeNode, q: TreeNode) -> bool:\n",
    "        if p == None and q == None:\n",
    "            return True\n",
    "        if p == None or q == None:\n",
    "            return False\n",
    "        if p.val != q.val:\n",
    "            return False\n",
    "        return self.isSameTree(p.left, q.left) & self.isSameTree(p.right, q.right)"
   ]
  },
  {
   "cell_type": "markdown",
   "metadata": {},
   "source": [
    "**BFS和DFS实现图的遍历**"
   ]
  },
  {
   "cell_type": "code",
   "execution_count": null,
   "metadata": {},
   "outputs": [],
   "source": [
    "graph = {\n",
    "        'a' : ['b', 'c'],\n",
    "        'b' : ['a', 'c', 'd'],\n",
    "        'c' : ['a','b', 'd','e'],\n",
    "        'd' : ['b' , 'c', 'e', 'f'],\n",
    "        'e' : ['c', 'd'],\n",
    "        'f' : ['d']\n",
    "        }\n",
    "\n",
    "\n",
    "def BFS(graph, s):\n",
    "    queue = []\n",
    "    queue.append(s)\n",
    "    seen = set()\n",
    "    seen.add(s)\n",
    "    while len(queue) > 0:\n",
    "        vertex = queue.pop(0)\n",
    "        nodes = graph[vertex]\n",
    "        for node in nodes:\n",
    "            if node not in seen:\n",
    "                queue.append(node)\n",
    "                seen.add(node)\n",
    "        print(vertex)\n",
    "        \n",
    "BFS(graph, 'a')\n",
    "\n",
    "\n",
    "def DFS(graph, s):\n",
    "    stack = []\n",
    "    stack.append(s)\n",
    "    seen = set()\n",
    "    seen.add(s)\n",
    "    while len(stack) > 0:\n",
    "        vertex = stack.pop()\n",
    "        nodes  = graph[vertex]\n",
    "        for node in nodes:\n",
    "            if node not in seen:\n",
    "                stack.append(node)\n",
    "                seen.add(node)\n",
    "        print(vertex)\n",
    "DFS(graph, 'a')\n",
    "\n",
    "\n",
    "def DFS1(graph, s, queue=[]):\n",
    "    queue.append(s)\n",
    "    for i in graph[s]:\n",
    "        if i not in queue:\n",
    "            DFS1(graph, i, queue)\n",
    "    return queue\n",
    "print(DFS1(graph, 'a'))"
   ]
  },
  {
   "cell_type": "markdown",
   "metadata": {},
   "source": [
    "**31 下一个排列**"
   ]
  },
  {
   "cell_type": "code",
   "execution_count": null,
   "metadata": {},
   "outputs": [],
   "source": [
    "class Solution(object):\n",
    "    def nextPermutation(self, nums):\n",
    "        \"\"\"\n",
    "        :type nums: List[int]\n",
    "        :rtype: None Do not return anything, modify nums in-place instead.\n",
    "        \"\"\"\n",
    "        # [1 2 3 4] -> [1 2 4 3] -> [1 3 2 4]\n",
    "        # 1. 从右往左找到第一个降序的数字 nums[i]\n",
    "        # 2. 从右往左找到第一个比nums[i]大的数字nums[j]\n",
    "        # 3. 交换nums[i], nums[j],此时nums[i]右侧的数字一定还是降序的(从左往右)\n",
    "        # 4. 翻转nums[i]右侧的数组\n",
    "        n = len(nums)\n",
    "        if n <= 1:\n",
    "            return nums\n",
    "        # 找到i的位置\n",
    "        i = n-2\n",
    "        while i >= 0 and nums[i]>=nums[i+1]:\n",
    "            i -= 1\n",
    "        # 找到j的位置\n",
    "        if i >= 0: # 如果整个数字序列，都是降序的，就不需要再去找j了\n",
    "            j = n - 1\n",
    "            while i<=j and nums[i]>=nums[j]:\n",
    "                j -= 1\n",
    "            # 交换\n",
    "            nums[i], nums[j] = nums[j], nums[i]\n",
    "        left, right = i + 1, n-1 # 双指针\n",
    "        while left <= right:\n",
    "            nums[left], nums[right] = nums[right], nums[left]\n",
    "            left += 1\n",
    "            right -= 1\n",
    "        \n",
    "        return nums"
   ]
  },
  {
   "cell_type": "markdown",
   "metadata": {},
   "source": [
    "**搜索旋转排序数组**"
   ]
  },
  {
   "cell_type": "code",
   "execution_count": null,
   "metadata": {},
   "outputs": [],
   "source": [
    "class Solution(object):\n",
    "    def search(self, nums, target):\n",
    "        \"\"\"\n",
    "        :type nums: List[int]\n",
    "        :type target: int\n",
    "        :rtype: int\n",
    "        \"\"\"\n",
    "        def binarySearch(nums, target, left, right):\n",
    "            if left > right:\n",
    "                return -1\n",
    "            mid = left + (right - left) // 2\n",
    "            if nums[mid] == target:\n",
    "                return mid\n",
    "            # 正常二分查找\n",
    "            if nums[left]<nums[right]:\n",
    "                if nums[mid]<target:\n",
    "                    return binarySearch(nums, target, mid + 1, right)\n",
    "                elif nums[mid] > target:\n",
    "                    return binarySearch(nums, target, left, mid - 1)\n",
    "            elif nums[left]>nums[right]:\n",
    "                # 此处一定要判断，不能直接return\n",
    "                b_res = binarySearch(nums, target, mid + 1, right)\n",
    "                if b_res != -1:\n",
    "                    return b_res\n",
    "                return binarySearch(nums, target, left, mid - 1)\n",
    "            return -1\n",
    "\n",
    "        n = len(nums)\n",
    "        left, right = 0, n-1\n",
    "        res = binarySearch(nums, target, left, n-1)\n",
    "\n",
    "        return res\n",
    "    \n",
    "# 直接循环的方式也可以\n",
    "class Solution:\n",
    "    def search(self, nums: List[int], target: int) -> int:\n",
    "        if not nums:\n",
    "            return -1\n",
    "        l, r = 0, len(nums) - 1\n",
    "        while l <= r:\n",
    "            mid = (l + r) // 2\n",
    "            if nums[mid] == target:\n",
    "                return mid\n",
    "            if nums[0] <= nums[mid]:\n",
    "                # 多区分一种情况即可\n",
    "                if nums[0] <= target < nums[mid]:\n",
    "                    r = mid - 1\n",
    "                else:\n",
    "                    l = mid + 1\n",
    "            else:\n",
    "                if nums[mid] < target <= nums[len(nums) - 1]:\n",
    "                    l = mid + 1\n",
    "                else:\n",
    "                    r = mid - 1\n",
    "        return -1"
   ]
  },
  {
   "cell_type": "markdown",
   "metadata": {},
   "source": [
    "**中文字符串转阿拉伯数字**"
   ]
  },
  {
   "cell_type": "code",
   "execution_count": null,
   "metadata": {},
   "outputs": [],
   "source": [
    "import re\n",
    "common_used_numerals_tmp = {\"零\": 0, \"壹\": 1, \"贰\": 2, \"叁\":3, \"肆\":4, \"伍\": 5, \"陆\": 6, \"柒\": 7, \"捌\": 8, \"玖\": 9, \"两\": 2,\n",
    "          \"仟\": 1000, \"亿\": 1000000000, \"万\": 10000,\"百\":100, \"拾\":10}\n",
    "\n",
    "def chstring2int(uchar):\n",
    "    sep_char = re.split(r'亿|万',uchar)\n",
    "    total_sum = 0\n",
    "    for i,sc in enumerate(sep_char):\n",
    "        split_num = sc.replace('仟', '1000').replace('佰', '100').replace('拾', '10')\n",
    "        int_series = re.split(r'(\\d{1,})', split_num)\n",
    "        int_series.append(\"\")\n",
    "        int_series = [\"\".join(i) for i in zip(int_series[0::2],int_series[1::2])]\n",
    "        int_series = ['零' if i == '' else i for i in int_series]\n",
    "        num = 0\n",
    "        for ix, it in enumerate(int_series):\n",
    "            it = re.sub('零', '', it) if it != '零' else it\n",
    "            temp = common_used_numerals_tmp[it[0]]*int(it[1:]) if len(it)>1 else common_used_numerals_tmp[it[0]]\n",
    "            num += temp\n",
    "        total_sum += num * (10 ** (4*(len(sep_char) - i - 1)))\n",
    "    return total_sum\n",
    "\n",
    "chstring2int(\"壹亿玖仟肆佰万零伍\")"
   ]
  },
  {
   "cell_type": "markdown",
   "metadata": {},
   "source": [
    "**最小覆盖字串**"
   ]
  },
  {
   "cell_type": "code",
   "execution_count": null,
   "metadata": {},
   "outputs": [],
   "source": [
    "class Solution(object):\n",
    "    def minWindow(self, s, t):\n",
    "        need, window = dict(), dict()\n",
    "        res = s+\"1\"\n",
    "        for i in range(len(t)):\n",
    "            need[t[i]] = need.get(t[i], 0) + 1\n",
    "        left, right, valid = 0, 0, 0\n",
    "        while right < len(s):\n",
    "            # 窗口右移操作\n",
    "            c = s[right]\n",
    "            right += 1\n",
    "            # 更新窗口中的内容\n",
    "            window[c] = window.get(c, 0) + 1\n",
    "            if window[c] == need.get(c):\n",
    "                valid += 1\n",
    "\n",
    "            # 判断窗口是否需要缩减\n",
    "            while valid == len(need):\n",
    "                # 判断是否为最小字串\n",
    "                if right - left < len(res):\n",
    "                    res = s[left:right]\n",
    "                d = s[left]\n",
    "                left += 1\n",
    "                # 更新窗口中内容\n",
    "                if need.get(d):\n",
    "                    if window[d] == need[d]:\n",
    "                        valid -= 1\n",
    "                    window[d] -= 1\n",
    "                \n",
    "        return \"\" if len(res)> len(s) else res"
   ]
  },
  {
   "cell_type": "markdown",
   "metadata": {},
   "source": [
    "**和为K的子数组个数**"
   ]
  },
  {
   "cell_type": "code",
   "execution_count": null,
   "metadata": {},
   "outputs": [],
   "source": [
    "class Solution(object):\n",
    "    def subarraySum(self, nums, k):\n",
    "        \"\"\"\n",
    "        :type nums: List[int]\n",
    "        :type k: int\n",
    "        :rtype: int\n",
    "        \"\"\"\n",
    "        res_count = 0\n",
    "        dsum = {0:1}# 初始化的时候，一定要将0加上，表示的是前i的和为k\n",
    "        pre_sum = 0\n",
    "\n",
    "        for i in range(len(nums)):\n",
    "            pre_sum += nums[i]\n",
    "            if dsum.get(pre_sum - k):\n",
    "                res_count += dsum.get(pre_sum - k)\n",
    "            dsum[pre_sum] = dsum.get(pre_sum, 0) + 1\n",
    "        return res_count"
   ]
  },
  {
   "cell_type": "markdown",
   "metadata": {},
   "source": [
    "**每日气温**"
   ]
  },
  {
   "cell_type": "code",
   "execution_count": null,
   "metadata": {},
   "outputs": [],
   "source": [
    "class Solution(object):\n",
    "    def dailyTemperatures(self, T):\n",
    "        \"\"\"\n",
    "        :type T: List[int]\n",
    "        :rtype: List[int]\n",
    "        \"\"\"\n",
    "        n = len(T)\n",
    "        res = [0]*n\n",
    "        s = []\n",
    "        for i in range(n-1, -1, -1):\n",
    "            while len(s)>0 and T[s[-1]]<= T[i]:\n",
    "                s.pop() # 直至遇到一个比当前数字大的值\n",
    "            res[i] = s[-1] - i if len(s)>0 else 0\n",
    "            s.append(i) # 需要先计算完成，最后加入本轮的值\n",
    "        return res"
   ]
  },
  {
   "cell_type": "markdown",
   "metadata": {},
   "source": [
    "**合并二叉树**"
   ]
  },
  {
   "cell_type": "code",
   "execution_count": null,
   "metadata": {},
   "outputs": [],
   "source": [
    "# Definition for a binary tree node.\n",
    "# class TreeNode(object):\n",
    "#     def __init__(self, val=0, left=None, right=None):\n",
    "#         self.val = val\n",
    "#         self.left = left\n",
    "#         self.right = right\n",
    "class Solution(object):\n",
    "    def mergeTrees(self, root1, root2):\n",
    "        \"\"\"\n",
    "        :type root1: TreeNode\n",
    "        :type root2: TreeNode\n",
    "        :rtype: TreeNode\n",
    "        \"\"\"\n",
    "        def dfs(root1, root2):\n",
    "            if root1 == None or root2 == None: # 只要其中某一个为None,则终止\n",
    "                return root1 if root2 == None else root2\n",
    "            \n",
    "            root1.val = root1.val + root2.val\n",
    "            root1.left = dfs(root1.left, root2.left)\n",
    "            root1.right = dfs(root1.right, root2.right)\n",
    "            return root1\n",
    "\n",
    "        return dfs(root1, root2)\n",
    "\n",
    "        # BFS \n",
    "        if root1 == None or root2 == None:\n",
    "            return root1 if root2 == None else root2\n",
    "        \n",
    "        q = [(root1, root2)]\n",
    "        while len(q)>0:\n",
    "            sz = len(q)\n",
    "            for i in range(sz):\n",
    "                r1, r2 = q.pop()\n",
    "                r1.val += r2.val\n",
    "                # 如果r1和r2左子树都不为空，则放入到队列中\n",
    "                # r1左子树为空，则将r2的左子树放到r1左子树上\n",
    "                if r1.left and r2.left:\n",
    "                    q.insert(0, (r1.left, r2.left))\n",
    "                elif r2.left != None: # 此处不会再放到队列q中\n",
    "                    r1.left = r2.left\n",
    "                # 右子树同样的操作\n",
    "                if r1.right and r2.right:\n",
    "                    q.insert(0, (r1.right, r2.right))\n",
    "                elif r2.right != None:\n",
    "                    r1.right = r2.right\n",
    "        return root1"
   ]
  },
  {
   "cell_type": "markdown",
   "metadata": {},
   "source": [
    "**最短无序连续子数组**"
   ]
  },
  {
   "cell_type": "code",
   "execution_count": null,
   "metadata": {},
   "outputs": [],
   "source": [
    "class Solution(object):\n",
    "    def findUnsortedSubarray(self, nums):\n",
    "        \"\"\"\n",
    "        :type nums: List[int]\n",
    "        :rtype: int\n",
    "        \"\"\"\n",
    "        n = len(nums)\n",
    "        # sort_nums = sorted(nums)\n",
    "        # l,r = 0, n-1\n",
    "        # while l<=r:\n",
    "        #     if nums[l] != sort_nums[l] and nums[r] != sort_nums[r]:\n",
    "        #         break\n",
    "        #     if nums[l] == sort_nums[l]:\n",
    "        #         l+=1\n",
    "        #     if nums[r] == sort_nums[r]:\n",
    "        #         r-=1\n",
    "        # return max(0, r-l+1)\n",
    "\n",
    "        # 分别找出左边第一个下降的边界和右边第一个上升的边界\n",
    "        # 然后在中间段找到最大值和最小值\n",
    "        # 最后找到左边第一个大于最小值的位置和右边第一个小于最大值的位置\n",
    "        if n <= 1:\n",
    "            return 0\n",
    "        m_min, m_max = float('inf'), float('-inf')\n",
    "        l,r = 1, n-2\n",
    "        while l<=n-1 and nums[l-1] <= nums[l]:\n",
    "            l += 1\n",
    "        while r>=0 and nums[r+1] >= nums[r]:\n",
    "            r -= 1\n",
    "        print(l,r)        \n",
    "        for i in range(l-1, r+2):\n",
    "            m_min = min(m_min, nums[i])\n",
    "            m_max = max(m_max, nums[i])\n",
    "        print(m_min,m_max)\n",
    "        l1, r1 = 0, n-1\n",
    "        while l1<l and r1>r:\n",
    "            if nums[l1]>m_min and nums[r1] < m_max:\n",
    "                break\n",
    "            if nums[l1]<=m_min:\n",
    "                l1 += 1\n",
    "            if nums[r1]>= m_max:\n",
    "                r1 -= 1\n",
    "        return max(0, r1-l1+1)"
   ]
  },
  {
   "cell_type": "markdown",
   "metadata": {},
   "source": [
    "**把二叉搜索树转换为累加树**"
   ]
  },
  {
   "cell_type": "code",
   "execution_count": null,
   "metadata": {},
   "outputs": [],
   "source": [
    "# 该题使用的是反序中序排序\n",
    "# 同时需要使用一个nonlocal变量记录累加和\n",
    "# Definition for a binary tree node.\n",
    "# class TreeNode(object):\n",
    "#     def __init__(self, val=0, left=None, right=None):\n",
    "#         self.val = val\n",
    "#         self.left = left\n",
    "#         self.right = right\n",
    "class Solution(object):\n",
    "    def convertBST(self, root):\n",
    "        \"\"\"\n",
    "        :type root: TreeNode\n",
    "        :rtype: TreeNode\n",
    "        \"\"\"\n",
    "        # 中序遍历\n",
    "        def traverse(root):\n",
    "            nonlocal total\n",
    "            if not root:\n",
    "                return\n",
    "            traverse(root.right)\n",
    "            total += root.val\n",
    "            root.val = total\n",
    "            traverse(root.left)\n",
    "        total = 0\n",
    "        traverse(root)\n",
    "        return root"
   ]
  },
  {
   "cell_type": "markdown",
   "metadata": {},
   "source": [
    "**目标和**"
   ]
  },
  {
   "cell_type": "code",
   "execution_count": null,
   "metadata": {},
   "outputs": [],
   "source": [
    "class Solution:\n",
    "    def findTargetSumWays(self, nums: List[int], target: int) -> int:\n",
    "\n",
    "        # 前i个数可以组成值j的方法数\n",
    "        # f[i][j] = f[i-1][j-nums[i]] + f[i-1][j+nums[i]]\n",
    "        # 初始值f[0][0-nums[0]+1000] = 1, f[0][0+nums[0]+1000] = 1\n",
    "\n",
    "        n = len(nums)\n",
    "        if n == 0:\n",
    "            return 0\n",
    "        f = [[0]*2001 for _ in range(n)] # 因为可以有-sums[i],所以最后结果的范围是[-1000, 1000]\n",
    "        # 初始化\n",
    "        f[0][0-nums[0]+1000] = 1\n",
    "        f[0][0+nums[0]+1000] += 1 # 需要考虑到nums[0]==0的情况\n",
    "\n",
    "        for i in range(1, n):\n",
    "            for j in range(0, 2001):\n",
    "                if j-nums[i]>=0 and  j-nums[i] <= 2000:\n",
    "                    f[i][j] += f[i-1][j-nums[i]]\n",
    "                if j+nums[i]>=0 and  j+nums[i] <= 2000:\n",
    "                    f[i][j] += f[i-1][j+nums[i]]\n",
    "        # print(f[0][-5+1000:1005])\n",
    "        return f[n-1][target+1000]"
   ]
  },
  {
   "cell_type": "markdown",
   "metadata": {},
   "source": [
    "**路径总和III**"
   ]
  },
  {
   "cell_type": "code",
   "execution_count": null,
   "metadata": {},
   "outputs": [],
   "source": [
    "# 回溯 + 前缀和\n",
    "# Definition for a binary tree node.\n",
    "# class TreeNode:\n",
    "#     def __init__(self, val=0, left=None, right=None):\n",
    "#         self.val = val\n",
    "#         self.left = left\n",
    "#         self.right = right\n",
    "class Solution:\n",
    "    def pathSum(self, root: TreeNode, targetSum: int) -> int:\n",
    "\n",
    "        # 回溯 + 前缀和\n",
    "        def dfs(root, pre_sum ,sum_dict={}):\n",
    "            nonlocal path_count\n",
    "            if root == None:\n",
    "                return \n",
    "            # 计算有哪些是满足的\n",
    "            # print(pre_sum, root.val)\n",
    "            pre_sum += root.val\n",
    "            path_count += sum_dict.get(pre_sum-targetSum, 0)\n",
    "            sum_dict[pre_sum] = sum_dict.get(pre_sum, 0) + 1\n",
    "\n",
    "            dfs(root.left, pre_sum, sum_dict)\n",
    "            dfs(root.right, pre_sum, sum_dict)\n",
    "            sum_dict[pre_sum] -= 1  # 此处需要撤销选择\n",
    "            pre_sum -= root.val\n",
    "            \n",
    "        path_count = 0\n",
    "        sum_dict = {0: 1}\n",
    "        pre_sum = 0\n",
    "        dfs(root, pre_sum, {0: 1})\n",
    "        # print(sum_dict, path_count)\n",
    "        return path_count"
   ]
  },
  {
   "cell_type": "markdown",
   "metadata": {},
   "source": [
    "**分割等和子集**"
   ]
  },
  {
   "cell_type": "code",
   "execution_count": null,
   "metadata": {},
   "outputs": [],
   "source": [
    "class Solution:\n",
    "    def canPartition(self, nums: List[int]) -> bool:\n",
    "        # 转化为0-1背包问题：是否可以从数组中选出一些数字，使得这些数字的和等于整个数组的元素和的一半\n",
    "        # f[i][j] 表示前i个数字能否得到和值为j\n",
    "        # f[i][j] = f[i-1][j-nums[k]] | k in [i:len(nums)-1]\n",
    "\n",
    "        n = len(nums)\n",
    "        nsum = sum(nums)\n",
    "        hsum = nsum//2\n",
    "        if hsum*2 != nsum or n<=1:\n",
    "            return False\n",
    "        f = [[False]*(hsum+1) for _ in range(n)]\n",
    "        # 初始化\n",
    "        if nums[0] <= hsum:\n",
    "            f[0][nums[0]] = True\n",
    "        for i in range(1,n):\n",
    "            for j in range(hsum+1):\n",
    "                if nums[i] <= hsum:\n",
    "                    f[i][nums[i]] = True\n",
    "                f[i][j] |=  f[i-1][j]\n",
    "                if j-nums[i]>=0:\n",
    "                    f[i][j] |= f[i-1][j-nums[i]]\n",
    "        # print(hsum, f)\n",
    "        res = False\n",
    "        for i in range(n):\n",
    "            res |= f[i][hsum]\n",
    "\n",
    "        return res"
   ]
  },
  {
   "cell_type": "markdown",
   "metadata": {},
   "source": [
    "**根据身高重建队列**"
   ]
  },
  {
   "cell_type": "code",
   "execution_count": null,
   "metadata": {},
   "outputs": [],
   "source": [
    "class Solution:\n",
    "    def reconstructQueue(self, people: List[List[int]]) -> List[List[int]]:\n",
    "        n = len(people)\n",
    "        # 一般这种数对，还涉及排序的，根据第一个元素正向排序，根据第二个元素反向排序\n",
    "        # ，或者根据第一个元素反向排序，根据第二个元素正向排序，往往能够简化解题过程。\n",
    "\n",
    "        # 本题中，按照元素 1 进行降序排序，对于每个元素，在其之前的元素的个数，就是大于等于他的元素的数量\n",
    "        # ，而按照第二个元素正向排序，我们希望 k 大的尽量在后面，减少插入操作的次数。\n",
    "        people.sort(key=lambda x:(x[0], -x[1]))\n",
    "        res = [[] for _ in range(n)]\n",
    "\n",
    "        for person in people:\n",
    "            space = person[1] + 1\n",
    "            for i in range(n):\n",
    "                if not res[i]:\n",
    "                    space -= 1\n",
    "                    if space == 0:\n",
    "                        res[i] = person\n",
    "        return res"
   ]
  },
  {
   "cell_type": "markdown",
   "metadata": {},
   "source": [
    "**编辑距离**"
   ]
  },
  {
   "cell_type": "code",
   "execution_count": null,
   "metadata": {},
   "outputs": [],
   "source": [
    "class Solution:\n",
    "    def minDistance(self, word1: str, word2: str) -> int:\n",
    "        # f[i][j]表示word1的前i个字符转换为word2的前j个字符需要的最短距离\n",
    "        # f[i][j] = f[i-1][j-1] if f[i] == f[j]\n",
    "        # 增 f[i][j] = f[i-1][j] + 1\n",
    "        # 删 f[i][j] = f[i][j-1] + 1\n",
    "        # 改 f[i][j] = f[i-1][j-1] + 1\n",
    "\n",
    "        m, n = len(word1), len(word2)\n",
    "        if n == 0 or m == 0:\n",
    "            return n+m\n",
    "        f = [[float('inf')]*(n+1) for _ in range(m+1)]\n",
    "        for i in range(m+1):\n",
    "            f[i][0] = i\n",
    "        for j in range(n+1):\n",
    "            f[0][j] = j\n",
    "\n",
    "        for i in range(1, m+1):\n",
    "            for j in range(1, n+1):\n",
    "                if word1[i-1] == word2[j-1]:\n",
    "                    f[i][j] = min(f[i][j], f[i-1][j-1])\n",
    "                else:\n",
    "                    f[i][j] = min(f[i][j], f[i-1][j] + 1, f[i][j-1] + 1, f[i-1][j-1] + 1)\n",
    "        # print(f)\n",
    "        return f[m][n]"
   ]
  },
  {
   "cell_type": "markdown",
   "metadata": {},
   "source": [
    "**寻找重复数**"
   ]
  },
  {
   "cell_type": "code",
   "execution_count": null,
   "metadata": {},
   "outputs": [],
   "source": [
    "class Solution:\n",
    "    def findDuplicate(self, nums: List[int]) -> int:\n",
    "        # 根据抽屉原理，使用二分查找(二分的是重复的值是什么，而不是在哪里))\n",
    "        # 这道题要求我们查找的数是一个整数，并且给出了这个整数的范围（在 11 和 nn 之间，包括 1 和 n）\n",
    "        # ，并且给出了一些限制，于是可以使用二分查找法定位在一个区间里的整数；\n",
    "\n",
    "        # 二分法的思路是先猜一个数（有效范围 [left, right]里的中间数 mid），然后统计原始数组中小于等于这个中间数的元素的个数 cnt\n",
    "        # ，如果 cnt 严格大于 mid，（注意我加了着重号的部分「小于等于」、「严格大于」）。根据抽屉原理，重复元素就在区间 [left, mid] 里；\n",
    "        n = len(nums)\n",
    "        left, right = 1, n\n",
    "        while left <= right:\n",
    "            mid = left + (right - left)//2\n",
    "            cnt = 0\n",
    "            for num in nums:\n",
    "                if num <= mid:\n",
    "                    cnt += 1\n",
    "            if cnt>mid:\n",
    "                right = mid - 1\n",
    "            else:\n",
    "                left = mid + 1\n",
    "        return left"
   ]
  },
  {
   "cell_type": "markdown",
   "metadata": {},
   "source": [
    "**会议室II**"
   ]
  },
  {
   "cell_type": "code",
   "execution_count": null,
   "metadata": {},
   "outputs": [],
   "source": [
    "class Solution:\n",
    "    import heapq\n",
    "    def minMeetingRooms(self, intervals: List[List[int]]) -> int:\n",
    "        n = len(intervals)\n",
    "        if n == 0:\n",
    "            return 0\n",
    "        intervals = sorted(intervals)\n",
    "        res = [intervals[0][1]]\n",
    "        for i in range(1, n):\n",
    "        #     # res中的最小值大于interval[0] -> +1 且res.append(interval[1]\n",
    "        #     min_val, min_pos = float('inf'), 0\n",
    "        #     # 此处可以使用最小堆heap\n",
    "        #     for j in range(len(res)):\n",
    "        #         if res[j]<min_val:\n",
    "        #             min_val = res[j]\n",
    "        #             min_pos = j\n",
    "\n",
    "        #     if min_val > intervals[i][0]:\n",
    "        #         res.append(intervals[i][1])\n",
    "        #     # 否则，可以使用上一个会议室,res最小值替换为interval[1]\n",
    "        #     else:\n",
    "        #         res[min_pos] = intervals[i][1]\n",
    "        # return len(res)\n",
    "        \n",
    "            min_val = heapq.heappop(res)\n",
    "            heapq.heappush(res, intervals[i][1])\n",
    "            if min_val > intervals[i][0]:\n",
    "                heapq.heappush(res, min_val)\n",
    "        return len(res)"
   ]
  },
  {
   "cell_type": "markdown",
   "metadata": {},
   "source": [
    "**搜索二维矩阵**"
   ]
  },
  {
   "cell_type": "code",
   "execution_count": null,
   "metadata": {},
   "outputs": [],
   "source": [
    "class Solution:\n",
    "    def searchMatrix(self, matrix: List[List[int]], target: int) -> bool:\n",
    "        m, n = len(matrix), len(matrix[0])\n",
    "        i, j = 0, n-1\n",
    "        while i <= m-1 and j>=0:\n",
    "            if matrix[i][j] == target:\n",
    "                return True\n",
    "            if matrix[i][j] < target:\n",
    "                i += 1\n",
    "            elif matrix[i][j] > target:\n",
    "                j -= 1\n",
    "        return False"
   ]
  },
  {
   "cell_type": "markdown",
   "metadata": {},
   "source": [
    "**数组中的第K个最大元素**"
   ]
  },
  {
   "cell_type": "code",
   "execution_count": null,
   "metadata": {},
   "outputs": [],
   "source": [
    "class Solution:\n",
    "    def findKthLargest(self, nums: List[int], k: int) -> int:\n",
    "        n = len(nums)\n",
    "        if n<=1:\n",
    "            return nums[k-1]\n",
    "        def partition(nums, left, right):\n",
    "            pivot = nums[left]\n",
    "            i = left\n",
    "            for j in range(left+1, right+1):\n",
    "                if nums[j]<pivot:\n",
    "                    i += 1\n",
    "                    nums[i], nums[j] = nums[j], nums[i]\n",
    "            nums[i], nums[left] = nums[left], nums[i]\n",
    "            return i\n",
    "\n",
    "        def quick_sort(nums, left, right, k):\n",
    "            pi = partition(nums, left, right)\n",
    "            if pi == k:\n",
    "                return nums[pi]\n",
    "            if pi>left and pi>k:\n",
    "                return quick_sort(nums, left, pi-1, k)  #注意修改的区间是[left, pi-1] 而不是[left+1, pi]\n",
    "            if pi<right and pi<k:\n",
    "                return quick_sort(nums, pi+1, right, k)\n",
    "\n",
    "        return quick_sort(nums, 0, n-1, n-k) # 需要的是第K个最大，所以改为n-k，不是改成n-k-1"
   ]
  },
  {
   "cell_type": "markdown",
   "metadata": {},
   "source": [
    "**除自身以外数组的乘积**"
   ]
  },
  {
   "cell_type": "code",
   "execution_count": null,
   "metadata": {},
   "outputs": [],
   "source": [
    "class Solution:\n",
    "    def productExceptSelf(self, nums: List[int]) -> List[int]:\n",
    "        n  = len(nums)\n",
    "        res = [1]*n\n",
    "        mul = 1\n",
    "        # 前缀乘积\n",
    "        for i in range(1, n):\n",
    "            mul *= nums[i-1]\n",
    "            res[i] = mul\n",
    "        mul = 1\n",
    "        # 后缀乘积\n",
    "        for i in range(n-2, -1, -1):\n",
    "            mul *= nums[i+1]\n",
    "            res[i] *= mul\n",
    "        return res      "
   ]
  },
  {
   "cell_type": "markdown",
   "metadata": {},
   "source": [
    "**最大正方形**"
   ]
  },
  {
   "cell_type": "code",
   "execution_count": null,
   "metadata": {},
   "outputs": [],
   "source": [
    "class Solution:\n",
    "    def maximalSquare(self, matrix: List[List[str]]) -> int:\n",
    "        # f[i][j] 表示的是以[i][j]为右下角的最大正方形的边长\n",
    "        # f[i][j] = min(f[i-1][j-1], f[i][j-1], f[i-1][j]) + 1 if matrix[i][j] == '1' \n",
    "        m, n = len(matrix), len(matrix[0])\n",
    "        f = [[0 for j in range(n)] for _ in range(m)]\n",
    "        res = 0\n",
    "        for i in range(m):\n",
    "            for j in range(n):\n",
    "                if i == 0 or j == 0:\n",
    "                    f[i][j] = 1 if matrix[i][j]=='1' else 0\n",
    "                elif matrix[i][j] == '1':\n",
    "                    f[i][j] = min(f[i-1][j-1], f[i][j-1], f[i-1][j]) + 1\n",
    "                res = max(res, f[i][j])\n",
    "        return res**2"
   ]
  },
  {
   "cell_type": "markdown",
   "metadata": {},
   "source": [
    "**课程表**"
   ]
  },
  {
   "cell_type": "code",
   "execution_count": null,
   "metadata": {},
   "outputs": [],
   "source": [
    "class Solution:\n",
    "    def canFinish(self, numCourses: int, prerequisites: List[List[int]]) -> bool:\n",
    "        # -1 表示被其他节点访问了\n",
    "        # 0 表示未访问\n",
    "        # 1 表示在当前dfs中被访问了\n",
    "        result = [0]*numCourses\n",
    "        def dfs(adj, ai):\n",
    "            if result[ai] == -1:\n",
    "                return True\n",
    "            if result[ai] == 1:\n",
    "                return False\n",
    "            result[ai] = 1\n",
    "            for bi in adj[ai]:\n",
    "                if not dfs(adj, bi):\n",
    "                    return False\n",
    "            result[ai] = -1\n",
    "            return True\n",
    "        # 首先构建邻接矩阵\n",
    "        adj = [[] for _ in range(numCourses)]\n",
    "        for ai, bi in prerequisites:\n",
    "            adj[ai].append(bi)\n",
    "        # 然后遍历临界矩阵的每一个点\n",
    "        for i in range(numCourses):\n",
    "            if not dfs(adj, i):\n",
    "                return False\n",
    "        return True"
   ]
  },
  {
   "cell_type": "markdown",
   "metadata": {},
   "source": [
    "**岛屿数量**"
   ]
  },
  {
   "cell_type": "code",
   "execution_count": null,
   "metadata": {},
   "outputs": [],
   "source": [
    "# 该题，bfs和dfs都可以得到答案\n",
    "# 时间复杂度为O(MN)\n",
    "class Solution:\n",
    "    def numIslands(self, grid: List[List[str]]) -> int:\n",
    "        # bfs\n",
    "        m, n = len(grid), len(grid[0])\n",
    "        visited = [[0]*n for _ in range(m)]\n",
    "        step = 0\n",
    "        q = []\n",
    "        \n",
    "        for i in range(m):\n",
    "            for j in range(n):\n",
    "                # 判断跳过条件\n",
    "                if visited[i][j] == 1 or grid[i][j] == \"0\":\n",
    "                    continue\n",
    "                # 开始的顶点\n",
    "                if grid[i][j] == \"1\":\n",
    "                    q.insert(0, (i, j))\n",
    "                    visited[i][j] = 1\n",
    "                # 以该顶点开始，bfs,直至连通查找结束\n",
    "                while len(q)>0:\n",
    "                    sz = len(q)\n",
    "                    for _ in range(sz):\n",
    "                        cur0, cur1 = q.pop()\n",
    "                        # 四个方向\n",
    "                        if cur0 > 0 and visited[cur0-1][cur1] == 0 and grid[cur0-1][cur1] == \"1\":\n",
    "                            q.insert(0, (cur0-1, cur1))\n",
    "                            visited[cur0-1][cur1] = 1\n",
    "                        if cur0 < m-1 and visited[cur0+1][cur1] == 0 and grid[cur0+1][cur1] == \"1\":\n",
    "                            q.insert(0, (cur0+1, cur1))\n",
    "                            visited[cur0+1][cur1] = 1\n",
    "                        if cur1 > 0 and visited[cur0][cur1-1] == 0 and grid[cur0][cur1-1] == \"1\":\n",
    "                            q.insert(0, (cur0, cur1-1))\n",
    "                            visited[cur0][cur1-1] = 1\n",
    "                        if cur1 < n-1 and visited[cur0][cur1+1] == 0 and grid[cur0][cur1+1] == \"1\":\n",
    "                            q.insert(0, (cur0, cur1+1))\n",
    "                            visited[cur0][cur1+1] = 1\n",
    "                step += 1 # 注意岛屿+1的位置\n",
    "        return step"
   ]
  },
  {
   "cell_type": "markdown",
   "metadata": {},
   "source": [
    "**区间合并**"
   ]
  },
  {
   "cell_type": "code",
   "execution_count": null,
   "metadata": {},
   "outputs": [],
   "source": [
    "# 排序+双指针\n",
    "class Solution:\n",
    "    def merge(self, intervals: List[List[int]]) -> List[List[int]]:\n",
    "        n = len(intervals)\n",
    "        if n == 0:\n",
    "            return intervals\n",
    "        intervals.sort(key=lambda x: x[0])\n",
    "        res = []\n",
    "        right_max = intervals[0][1]\n",
    "        left_min = intervals[0][0]\n",
    "\n",
    "        for i in range(1, len(intervals)):\n",
    "            if intervals[i][0]>right_max:\n",
    "                res.append([left_min, right_max])\n",
    "                left_min = intervals[i][0]\n",
    "            \n",
    "            right_max  = max(right_max, intervals[i][1])\n",
    "        res.append([left_min, right_max])\n",
    "        return res"
   ]
  },
  {
   "cell_type": "markdown",
   "metadata": {},
   "source": [
    "**组合总和**"
   ]
  },
  {
   "cell_type": "code",
   "execution_count": null,
   "metadata": {},
   "outputs": [],
   "source": [
    "# 路径回溯\n",
    "class Solution:\n",
    "    def combinationSum(self, candidates: List[int], target: int) -> List[List[int]]:\n",
    "        \n",
    "        res = []\n",
    "        # 此处也可以不记录路径和，改为在判断的时候求sum(path)\n",
    "        def backtrack(path, candidates, target, sum_p):\n",
    "            if sum_p>target:\n",
    "                return\n",
    "            if sum_p == target:\n",
    "                res.append(path)\n",
    "                return\n",
    "            \n",
    "            nn = len(candidates)\n",
    "            for ii in range(nn):\n",
    "                backtrack(path+[candidates[ii]], candidates[ii:], target, sum_p+candidates[ii])\n",
    "        \n",
    "        n = len(candidates)\n",
    "        for i in range(n):\n",
    "            backtrack([candidates[i]],candidates[i:], target, candidates[i])\n",
    "        return res"
   ]
  },
  {
   "cell_type": "markdown",
   "metadata": {},
   "source": [
    "**删除链表的倒数第N个节点**"
   ]
  },
  {
   "cell_type": "code",
   "execution_count": null,
   "metadata": {},
   "outputs": [],
   "source": [
    "# Definition for singly-linked list.\n",
    "# class ListNode:\n",
    "#     def __init__(self, val=0, next=None):\n",
    "#         self.val = val\n",
    "#         self.next = next\n",
    "class Solution:\n",
    "    def removeNthFromEnd(self, head: ListNode, n: int) -> ListNode:\n",
    "        left, right = head, head\n",
    "        while right:\n",
    "            if n < 0:\n",
    "                left = left.next\n",
    "            right = right.next\n",
    "            n -= 1\n",
    "        if n == 0: # 删除的是头节点的情况\n",
    "            head = head.next\n",
    "        left.next = left.next.next if left.next else None # 考虑left.next 是None的情况\n",
    "        return head"
   ]
  },
  {
   "cell_type": "markdown",
   "metadata": {},
   "source": [
    "**全排列**"
   ]
  },
  {
   "cell_type": "code",
   "execution_count": null,
   "metadata": {},
   "outputs": [],
   "source": [
    "# 回溯法\n",
    "class Solution:\n",
    "    def permute(self, nums: List[int]) -> List[List[int]]:\n",
    "        res = []\n",
    "        def backtrack(path, candidates):\n",
    "            if not candidates:\n",
    "                res.append(path)\n",
    "                return\n",
    "            for c in candidates: # 使用set的方式，去掉当前排列的值\n",
    "                backtrack(path+[c], candidates-set([c]))\n",
    "\n",
    "        for n in nums:\n",
    "            backtrack([n], set(nums)-set([n]))\n",
    "\n",
    "        return res"
   ]
  },
  {
   "cell_type": "markdown",
   "metadata": {},
   "source": [
    "**子集**"
   ]
  },
  {
   "cell_type": "code",
   "execution_count": null,
   "metadata": {},
   "outputs": [],
   "source": [
    "# 回溯法\n",
    "class Solution:\n",
    "    def subsets(self, nums: List[int]) -> List[List[int]]:\n",
    "        res = [[],]\n",
    "        def backtrack(path, candidates):\n",
    "            res.append(path)\n",
    "            if len(candidates) == 0:\n",
    "                return\n",
    "            \n",
    "            for i in range(len(candidates)):\n",
    "                backtrack(path+[candidates[i]], candidates[i+1:] )\n",
    "        \n",
    "        for n in range(len(nums)):\n",
    "            backtrack([nums[n]], nums[n+1:])\n",
    "\n",
    "        return res\n",
    "    \n",
    "# 使用库函数 itertools.combinations()\n",
    "# 使用迭代  res = res + [[i] + num for num in res]"
   ]
  },
  {
   "cell_type": "markdown",
   "metadata": {},
   "source": [
    "**单词搜索**"
   ]
  },
  {
   "cell_type": "code",
   "execution_count": null,
   "metadata": {},
   "outputs": [],
   "source": [
    "# 回溯法\n",
    "# 使用标记法记录路径\n",
    "# 标记为全局变量，在搜索不成功时，将路径值复原\n",
    "class Solution:\n",
    "    def exist(self, board: List[List[str]], word: str) -> bool:\n",
    "        m, n = len(board), len(board[0])\n",
    "        mark = [[0 for _ in range(n)] for _ in range(m)]\n",
    "        # 带全局标记的方法，一定要记得将标记也进行回溯\n",
    "        def backtrck(mark, pi, pj, subword):\n",
    "            if subword[0] == board[pi][pj] and len(subword)==1:\n",
    "                return True\n",
    "            if subword[0] != board[pi][pj]:\n",
    "                return False\n",
    "            mark[pi][pj]=1 # 更新标记\n",
    "            next_p = [(-1, 0), (1, 0), (0, -1), (0, 1)]\n",
    "            for x, y in next_p:\n",
    "                if m-1>=pi+x>=0 and n-1>=pj+y>=0 and mark[pi+x][pj+y]==0:\n",
    "                    if backtrck(mark, pi+x, pj+y, subword[1:]):\n",
    "                        return True\n",
    "                    else:\n",
    "                        mark[pi+x][pj+y]=0 # 回溯\n",
    "\n",
    "        for i in range(m):\n",
    "            for j in range(n):\n",
    "                if mark[i][j]==1:\n",
    "                    continue\n",
    "                if board[i][j]==word[0] and backtrck(mark, i, j, word):\n",
    "                    return True\n",
    "                else:\n",
    "                    mark[i][j]=0\n",
    "        return False"
   ]
  }
 ],
 "metadata": {
  "kernelspec": {
   "display_name": "Python 3",
   "language": "python",
   "name": "python3"
  },
  "language_info": {
   "codemirror_mode": {
    "name": "ipython",
    "version": 3
   },
   "file_extension": ".py",
   "mimetype": "text/x-python",
   "name": "python",
   "nbconvert_exporter": "python",
   "pygments_lexer": "ipython3",
   "version": "3.7.0"
  },
  "toc-autonumbering": false,
  "toc-showcode": false,
  "toc-showmarkdowntxt": true
 },
 "nbformat": 4,
 "nbformat_minor": 4
}
