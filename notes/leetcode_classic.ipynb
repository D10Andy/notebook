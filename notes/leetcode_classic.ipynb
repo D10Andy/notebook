{
 "cells": [
  {
   "cell_type": "raw",
   "metadata": {},
   "source": [
    "queue的处理时，使用： from collections import deque  "
   ]
  },
  {
   "cell_type": "code",
   "execution_count": null,
   "metadata": {},
   "outputs": [],
   "source": [
    "动态规划的题在判断计算顺序时，原则是使用到的数一定是经过计算的，且使用过后不会再更新"
   ]
  },
  {
   "cell_type": "code",
   "execution_count": null,
   "metadata": {},
   "outputs": [],
   "source": [
    "python bisect模块\n",
    "x_insert_point = bisect.bisect_left(L,x)　　#在L中查找x，x存在时返回x左侧的位置，x不存在返回应该插入的位置..这是3存在于列表中，返回左侧位置１\n",
    "x_insort_left = bisect.insort_left(L,x)  #将x插入到列表L中，x存在时插入在左侧\n",
    "同理有bisect.bisect_right(L,x)， bisect.insort_right(L,x)"
   ]
  },
  {
   "cell_type": "code",
   "execution_count": null,
   "metadata": {},
   "outputs": [],
   "source": [
    "递归问题的处理技巧： 不要跳进递归， 而是利用明确的定义来时间算法的逻辑"
   ]
  },
  {
   "cell_type": "markdown",
   "metadata": {},
   "source": [
    "**快速排序**"
   ]
  },
  {
   "cell_type": "code",
   "execution_count": 1,
   "metadata": {},
   "outputs": [],
   "source": [
    "def partition(nums, left, right):\n",
    "    pivot = nums[left] # 以第一个元素为基准\n",
    "    i = left # 索引j从起始位置开始\n",
    "    for j in range(left+1, right+1): # 遍历数组除基准元素以外的元素\n",
    "        if nums[j] < pivot: # 如果小于基准元素\n",
    "            i += 1 # i 的下一个为大于基准元素的值\n",
    "            nums[i], nums[j] = nums[j], nums[i] # 交换\n",
    "            \n",
    "    nums[left], nums[i] = nums[i], nums[left] # 将基准元素与最后小于基准元素的位置交换\n",
    "    return i\n",
    "\n",
    "# 挖坑法\n",
    "def partition(nums, left, right):\n",
    "    pivot = nums[left]\n",
    "    l, r = left, right\n",
    "    while l<r:\n",
    "        # 如果l 和r 未重合，r指向的元素大于等于pivot，则r 左移 \n",
    "        while l<r and  nums[r]>=pivot:\n",
    "            r -= 1\n",
    "        # r 指向一个比pivot小的元素，将r的元素放到l上，此时r指向的位置空着，接下来移动l找到合适的元素放在此处\n",
    "        nums[l] = nums[r]\n",
    "        while l<r and nums[l]<=pivot:\n",
    "            l += 1\n",
    "        nums[r] = nums[l]\n",
    "    nums[r] = pivot\n",
    "    return l\n",
    "\n",
    "def quick_sort(nums, left, right):\n",
    "    if left < right:\n",
    "        pi = partition(nums, left, right)\n",
    "        if pi > left:\n",
    "            quick_sort(nums, left, pi-1)\n",
    "        if pi < right:\n",
    "            quick_sort(nums, pi+1, right)\n",
    "    return nums\n",
    "\n",
    "def run(nums:'List[int]'):\n",
    "    n = len(A)\n",
    "    if n == 0:\n",
    "        return []\n",
    "    quick_sort(A,0,n-1)\n",
    "    return nums"
   ]
  },
  {
   "cell_type": "code",
   "execution_count": 2,
   "metadata": {},
   "outputs": [
    {
     "data": {
      "text/plain": [
       "[0, 1, 1, 1, 2, 2, 3, 3, 4, 4]"
      ]
     },
     "execution_count": 2,
     "metadata": {},
     "output_type": "execute_result"
    }
   ],
   "source": [
    "A=[0,1,1,2,4,4,1,3,3,2]#[3,2,9,5,6,4,1]\n",
    "run(A)"
   ]
  },
  {
   "cell_type": "markdown",
   "metadata": {},
   "source": [
    "**堆排序**"
   ]
  },
  {
   "cell_type": "code",
   "execution_count": 23,
   "metadata": {},
   "outputs": [],
   "source": [
    "def heap_sort(nums:'List[int]'):\n",
    "    n = len(nums)\n",
    "    if n == 0:\n",
    "        return nums\n",
    "    build_heap(nums)\n",
    "    for i in range(n-1, -1, -1):\n",
    "        nums[i], nums[0] = nums[0], nums[i]\n",
    "        # 这里要排除最后一个元素\n",
    "        max_heapify(nums, 0, i)\n",
    "    return nums\n",
    "\n",
    "\n",
    "def build_heap(nums):\n",
    "    n = len(nums)\n",
    "    for i in range(n//2-1, -1, -1):\n",
    "        max_heapify(nums, i, n)\n",
    "    \n",
    "def max_heapify(nums, i, n):\n",
    "    left = 2*i+1\n",
    "    right = 2*i+2\n",
    "    if left<n and nums[left]>nums[i]:\n",
    "        largest = left\n",
    "    else:\n",
    "        largest = i\n",
    "    if right<n and nums[right]>nums[largest]:\n",
    "        largest = right\n",
    "    if largest != i:\n",
    "        nums[i], nums[largest] = nums[largest], nums[i]\n",
    "        # 子树调整\n",
    "        max_heapify(nums, largest, n)"
   ]
  },
  {
   "cell_type": "code",
   "execution_count": 24,
   "metadata": {},
   "outputs": [
    {
     "data": {
      "text/plain": [
       "[1, 2, 3, 4, 5, 6, 9]"
      ]
     },
     "execution_count": 24,
     "metadata": {},
     "output_type": "execute_result"
    }
   ],
   "source": [
    "heap_sort(A)"
   ]
  },
  {
   "cell_type": "markdown",
   "metadata": {},
   "source": [
    "**二分查找**"
   ]
  },
  {
   "cell_type": "code",
   "execution_count": 1,
   "metadata": {},
   "outputs": [],
   "source": [
    "def binarySearch(nums:'List[int]', target:'int'):\n",
    "    n = len(nums)\n",
    "    left, right = 0, n-1\n",
    "    while(left <= right):\n",
    "#         mid = (left + right) // 2 \n",
    "        mid  = left + (right - left)//2 # 为了防止数值相加溢出\n",
    "        if nums[mid] == target:\n",
    "            return mid\n",
    "        elif nums[mid] < target:\n",
    "            left = mid + 1\n",
    "        elif nums[mid] > target:\n",
    "            right = mid-1\n",
    "    return -1"
   ]
  },
  {
   "cell_type": "code",
   "execution_count": 3,
   "metadata": {},
   "outputs": [
    {
     "data": {
      "text/plain": [
       "-1"
      ]
     },
     "execution_count": 3,
     "metadata": {},
     "output_type": "execute_result"
    }
   ],
   "source": [
    "binarySearch(nums=[1, 2, 3, 4, 5, 6, 9], target=5)"
   ]
  },
  {
   "cell_type": "markdown",
   "metadata": {},
   "source": [
    "**寻找左侧边界的二分搜索**"
   ]
  },
  {
   "cell_type": "code",
   "execution_count": 9,
   "metadata": {},
   "outputs": [],
   "source": [
    "def binarySearch(nums:'List[int]', target:'int'):\n",
    "    n = len(nums)\n",
    "    left, right = 0, n-1\n",
    "    while(left <= right):\n",
    "#         mid = (left + right) // 2 \n",
    "        mid  = left + (right - left)//2 # 为了防止数值相加溢出\n",
    "        if nums[mid] == target:\n",
    "            right = mid - 1\n",
    "        elif nums[mid] < target:\n",
    "            left = mid + 1\n",
    "        elif nums[mid] > target:\n",
    "            right = mid-1\n",
    "    if left >=n or nums[left] != target: # 防止右侧边界溢出的情况\n",
    "        return -1\n",
    "    return left"
   ]
  },
  {
   "cell_type": "code",
   "execution_count": 10,
   "metadata": {},
   "outputs": [
    {
     "data": {
      "text/plain": [
       "3"
      ]
     },
     "execution_count": 10,
     "metadata": {},
     "output_type": "execute_result"
    }
   ],
   "source": [
    "binarySearch(nums=[1, 2, 3, 5, 5, 5, 5, 6, 9], target=5)"
   ]
  },
  {
   "cell_type": "markdown",
   "metadata": {},
   "source": [
    "**前序，中序，后序遍历二叉树**"
   ]
  },
  {
   "cell_type": "code",
   "execution_count": null,
   "metadata": {},
   "outputs": [],
   "source": [
    "class TreeNode:\n",
    "    def __init__(self, x):\n",
    "         self.val = x\n",
    "         self.left = None\n",
    "         self.right = None\n",
    "#\n",
    "# @param root TreeNode类 the root of binary tree\n",
    "# @return int整型二维数组\n",
    "#\n",
    "class Solution:\n",
    "    def threeOrders(self , root ):\n",
    "        pre_order, in_order, post_order = [], [], []\n",
    "        def find(root):\n",
    "            if not root: return None\n",
    "            pre_order.append(root.val)  # 先序：根左右\n",
    "            find(root.left)\n",
    "            in_order.append(root.val)   # 中序：左根右\n",
    "            find(root.right)\n",
    "            post_order.append(root.val) # 后序：左右根\n",
    "        find(root)\n",
    "        return [pre_order, in_order, post_order]"
   ]
  },
  {
   "cell_type": "markdown",
   "metadata": {},
   "source": [
    "**反转链表**"
   ]
  },
  {
   "cell_type": "code",
   "execution_count": null,
   "metadata": {},
   "outputs": [],
   "source": [
    "def ReverseList(self, pHead):\n",
    "    # write code here\n",
    "    if pHead == None or pHead.next is None:\n",
    "        return pHead\n",
    "    pre= None\n",
    "    cur = pHead\n",
    "    # 该方式会丢失掉原来的head\n",
    "    while pHead:\n",
    "        cur = pHead.next\n",
    "        pHead.next = pre\n",
    "        pre = pHead\n",
    "        pHead = cur\n",
    "        return pre\n",
    "    \n",
    "def reverse(phead: ListNode):\n",
    "    cur, pre = phead, None\n",
    "    while cur:\n",
    "        pnext = cur.next\n",
    "        cur.next = pre\n",
    "        pre = cur\n",
    "        cur = pnext\n",
    "    return pre\n",
    "\n",
    "# 递归反转链表\n",
    "def reverse(phead: ListNode):\n",
    "    if head.next == None:\n",
    "        return head\n",
    "    last = reverse(head.next)\n",
    "    head.next.next = head\n",
    "    head.next = None\n",
    "    return last # 新的头节点是last"
   ]
  },
  {
   "cell_type": "markdown",
   "metadata": {},
   "source": [
    "**LRU缓存结构**"
   ]
  },
  {
   "cell_type": "code",
   "execution_count": null,
   "metadata": {},
   "outputs": [],
   "source": [
    "class Solution:\n",
    "    def __init__(self):\n",
    "        self.lru_dict = {}\n",
    "        self.lru_list = []\n",
    "        \n",
    "    def set_v(self, key, value, cap):\n",
    "        if len(self.lru_list) == cap:\n",
    "            del self.lru_dict[self.lru_list[-1]] # 此处是按照lru_list[-1]去删除dict中的内容，而不是根据key值删除\n",
    "            self.lru_list.pop(-1)\n",
    "        self.lru_list.insert(0, key)\n",
    "        self.lru_dict[key] = value\n",
    "        \n",
    "        \n",
    "    def get_v(self, key):\n",
    "        res = self.lru_dict.get(key)\n",
    "        if res:\n",
    "            self.lru_list.remove(key)\n",
    "            self.lru_list.insert(0, key)\n",
    "            return res\n",
    "        return -1\n",
    "    \n",
    "    \n",
    "    def LRU(self , operators , k ):\n",
    "        # write code here\n",
    "        # map + list\n",
    "        # map + linklist\n",
    "        lru_res = []\n",
    "        cap = k\n",
    "        for operator in operators:\n",
    "            if operator[0] == 1:\n",
    "                self.set_v(operator[1], operator[2], cap)\n",
    "            elif operator[0] == 2:\n",
    "                lru_res.append(self.get_v(operator[1]))\n",
    "            else:\n",
    "                print(\"wrong dataformat.\")\n",
    "                \n",
    "        return lru_res"
   ]
  },
  {
   "cell_type": "markdown",
   "metadata": {},
   "source": [
    "**链表是否有环**"
   ]
  },
  {
   "cell_type": "code",
   "execution_count": null,
   "metadata": {},
   "outputs": [],
   "source": [
    "# 五种解题思路记录\n",
    "# hash表： 使用hash表记录已经访问过的节点\n",
    "# 快慢指针\n",
    "# 链表计数： 链表中最多10000个节点，超过10000就是有环\n",
    "# 链表反转： 按顺序反转链表，由于环之前的部分已经反转，最后会返回到head节点\n",
    "# 标记val值： 将原链表val值变为特殊值，若访问的节点val已经被变更过就是有环  python中可以给节点添加新属性不改变原链表，则空间复杂度变为O(n)\n",
    "\n",
    "class Solution:\n",
    "    def hasCycle(self , head ):\n",
    "        # write code here\n",
    "        if head == None or head.next == None:\n",
    "            return False\n",
    "        fast, slow = head, head\n",
    "        while fast and fast.next:\n",
    "            slow = slow.next\n",
    "            fast = fast.next.next\n",
    "            if slow == fast:\n",
    "                return True\n",
    "        return False"
   ]
  },
  {
   "cell_type": "markdown",
   "metadata": {},
   "source": [
    "**最小的k个数**"
   ]
  },
  {
   "cell_type": "code",
   "execution_count": null,
   "metadata": {},
   "outputs": [],
   "source": [
    "# 有四种解决方式\n",
    "# 1. 基于快速排序\n",
    "# 2. 基于堆排序\n",
    "# 3. 基于二叉搜索树\n",
    "# 4. 计数排序\n",
    "\n",
    "# 快排\n",
    "class Solution(object):\n",
    "    def getLeastNumbers(self, arr, k):\n",
    "        \"\"\"\n",
    "        :type arr: List[int]\n",
    "        :type k: int\n",
    "        :rtype: List[int]\n",
    "        \"\"\"\n",
    "        n = len(arr)\n",
    "        if n == 0: return []\n",
    "        self.quicksort(arr, 0, n-1, k)\n",
    "        return arr[:k]\n",
    "\n",
    "    def partition(self, arr, left, right):\n",
    "        pivot = arr[left]\n",
    "        i = left\n",
    "        for j in range(left+1, right+1):\n",
    "            if arr[j]< pivot:\n",
    "                i += 1\n",
    "                arr[i] , arr[j] = arr[j], arr[i]\n",
    "        arr[left], arr[i] = arr[i], arr[left]\n",
    "        return i\n",
    "\n",
    "    def quicksort(self, arr, left, right, k):\n",
    "        # 只有该函数发生了变化\n",
    "        if left < right:\n",
    "            pi = self.partition(arr, left, right)\n",
    "            if pi == k:\n",
    "                return arr\n",
    "            if pi > k:\n",
    "                self.quicksort(arr, left, pi - 1, k)\n",
    "            if pi < k:\n",
    "                self.quicksort(arr, pi + 1, right, k)\n",
    "        return arr"
   ]
  },
  {
   "cell_type": "markdown",
   "metadata": {},
   "source": [
    "**二叉树的层序遍历**"
   ]
  },
  {
   "cell_type": "code",
   "execution_count": null,
   "metadata": {},
   "outputs": [],
   "source": [
    "# 迭代实现 \n",
    "class Solution(object):\n",
    "    def levelOrder(self, root):\n",
    "        \"\"\"\n",
    "        :type root: TreeNode\n",
    "        :rtype: List[List[int]]\n",
    "        \"\"\"\n",
    "        res = []\n",
    "        if not root: return []\n",
    "        tree_queue = [root]\n",
    "        while tree_queue:\n",
    "            level_res = []\n",
    "            # 获取当前队列的长度，这个长度相当于 当前这一层的节点个数\n",
    "            len_queue = len(tree_queue)\n",
    "            # 将队列中的元素都拿出来(也就是获取这一层的节点)，放到临时list中\n",
    "            # 如果节点的左/右子树不为空，也放入队列中\n",
    "            for i in range(len_queue):\n",
    "                tree_tmp = tree_queue.pop()\n",
    "                level_res.append(tree_tmp.val)\n",
    "                if tree_tmp.left:\n",
    "                    tree_queue.insert(0, tree_tmp.left)\n",
    "                if tree_tmp.right:\n",
    "                    tree_queue.insert(0, tree_tmp.right)\n",
    "            # 将临时list加入最终返回结果中\n",
    "            res.append(level_res)\n",
    "\n",
    "        return res\n",
    "\n",
    "    \n",
    "# 递归实现\n",
    "class Solution(object):\n",
    "    def levelOrder(self, root):\n",
    "        \"\"\"\n",
    "        :type root: TreeNode\n",
    "        :rtype: List[List[int]]\n",
    "        \"\"\"\n",
    "        res = []\n",
    "        if not root: return []\n",
    "        def dfs(index, tree):\n",
    "            # 假设res是[ [1],[2,3] ]， index是3，就再插入一个空list放到res中\n",
    "            if len(res) < index+1:\n",
    "                res.append([])\n",
    "            #  将当前节点的值加入到res中，index代表当前层，假设index是3，节点值是99\n",
    "            # res是[ [1],[2,3] [4] ]，加入后res就变为 [ [1],[2,3] [4,99] ]\n",
    "            res[index].append(tree.val)\n",
    "            # 递归的处理左子树，右子树，同时将层数index+1\n",
    "            if tree.left:\n",
    "                dfs(index+1, tree.left)\n",
    "            if tree.right:\n",
    "                dfs(index+1, tree.right)\n",
    "\n",
    "        dfs(0, root)\n",
    "        return res"
   ]
  },
  {
   "cell_type": "markdown",
   "metadata": {},
   "source": [
    "**合并两个有序链表**"
   ]
  },
  {
   "cell_type": "code",
   "execution_count": null,
   "metadata": {},
   "outputs": [],
   "source": [
    "class Solution(object):\n",
    "    def mergeTwoLists(self, l1, l2):\n",
    "        \"\"\"\n",
    "        :type l1: ListNode\n",
    "        :type l2: ListNode\n",
    "        :rtype: ListNode\n",
    "        \"\"\"\n",
    "        # 此处没有必要，如果l1或者l2为空，只保留下面的代码会是同样的结果\n",
    "        # if not l1: return l2 \n",
    "        # if not l2: return l1\n",
    "        phead_bk = phead = ListNode(0)\n",
    "        while l1 and l2:\n",
    "            if l1.val <= l2.val:\n",
    "                phead.next, l1 = l1, l1.next\n",
    "            else:\n",
    "                phead.next, l2 = l2, l2.next\n",
    "            phead = phead.next\n",
    "        phead.next = l1 if l1 else l2\n",
    "        return phead_bk.next"
   ]
  },
  {
   "cell_type": "markdown",
   "metadata": {},
   "source": [
    "**gcd**"
   ]
  },
  {
   "cell_type": "code",
   "execution_count": null,
   "metadata": {},
   "outputs": [],
   "source": [
    "def get_gcd_eventcnt(amt_list, min_amt=100, min_gcd=100, **kwargs):\n",
    "    \"\"\"\n",
    "    计算呈倍数关系的交易金额数量\n",
    "\n",
    "    :param amt_list: 交易金额序列\n",
    "    :param min_amt: 交易金额最小值，低于最小值的会被删掉\n",
    "    :param min_gcd: gcd最小值，低于最小值的gcd不予考虑\n",
    "    :param kwargs: 参数集合\n",
    "    :return: 呈倍数关系的金额数量\n",
    "    \"\"\"\n",
    "\n",
    "    def gcd(a, b):\n",
    "        if a < b:\n",
    "            a, b = b, a\n",
    "        r = a % b\n",
    "        if r == 0:\n",
    "            return b\n",
    "        while r != 0:\n",
    "            a = b\n",
    "            b = r\n",
    "            r = a % b\n",
    "        return b\n",
    "\n",
    "    if not amt_list:\n",
    "        return -1\n",
    "    amt_list = [int(x) for x in amt_list if x >= min_amt]\n",
    "    if not amt_list:\n",
    "        return -1\n",
    "    amt_ct = {}\n",
    "    for x in amt_list:\n",
    "        t = int(x)\n",
    "        amt_ct[t] = amt_ct.get(t, 0) + 1\n",
    "    amt_ct = sorted(amt_ct.items())\n",
    "\n",
    "    gcd_amt_set = set()  # 记录已经被计数过的gcd和amt配对\n",
    "    gcd_ct = {}\n",
    "    for k, (x, ct) in enumerate(amt_ct):\n",
    "        gcd_ct[x] = gcd_ct.get(x, 0) + ct  # 把自身计数进去\n",
    "        gcd_amt_set.add((x, x))\n",
    "        for i in range(k + 1, len(amt_ct)):\n",
    "            y = amt_ct[i][0]\n",
    "            gcd_value = gcd(x, y)\n",
    "            if gcd_value >= min_gcd:\n",
    "                #                     print x,y,gcd_value\n",
    "                if (gcd_value, x) not in gcd_amt_set:\n",
    "                    gcd_ct[gcd_value] = gcd_ct.get(gcd_value, 0) + ct\n",
    "                    gcd_amt_set.add((gcd_value, x))\n",
    "                if (gcd_value, y) not in gcd_amt_set:\n",
    "                    gcd_ct[gcd_value] = gcd_ct.get(gcd_value, 0) + amt_ct[i][1]\n",
    "                    gcd_amt_set.add((gcd_value, y))\n",
    "\n",
    "    gcd_value, count = sorted(gcd_ct.items(), key=lambda x: -x[1])[0]\n",
    "    #         print gcd_value, count\n",
    "    return gcd_value, count, sorted(gcd_ct.items(), key=lambda x: -x[1])\n",
    "\n",
    "import random\n",
    "amt_list = []\n",
    "list_length = 50\n",
    "random.seed()\n",
    "for i in range(list_length):\n",
    "    amt_list.append(random.randint(100, 1000))\n",
    "amt_list.sort()    \n",
    "print(amt_list[:100])\n",
    "\n",
    "gcd_value, count, gcd_ct = get_gcd_eventcnt(amt_list)\n",
    "print(gcd_value, count, gcd_ct)"
   ]
  },
  {
   "cell_type": "markdown",
   "metadata": {},
   "source": [
    "**两个栈实现队列的添加和删除**"
   ]
  },
  {
   "cell_type": "code",
   "execution_count": null,
   "metadata": {},
   "outputs": [],
   "source": [
    "class CQueue(object):\n",
    "    def __init__(self):\n",
    "        self.stack_in = []\n",
    "        self.stack_out = []\n",
    "\n",
    "    def appendTail(self, value):\n",
    "        \"\"\"\n",
    "        :type value: int\n",
    "        :rtype: None\n",
    "        \"\"\"\n",
    "        self.stack_in.append(value)\n",
    "\n",
    "    def deleteHead(self):\n",
    "        \"\"\"\n",
    "        :rtype: int\n",
    "        \"\"\"\n",
    "        if not self.stack_out:\n",
    "            if not self.stack_in:\n",
    "                return -1 # 都为空， 返回-1\n",
    "            else: # 把in栈中的东西全部倒入out栈中\n",
    "                while self.stack_in:\n",
    "                    self.stack_out.append(self.stack_in.pop())\n",
    "        return self.stack_out.pop()\n",
    "\n",
    "# Your CQueue object will be instantiated and called as such:\n",
    "# obj = CQueue()\n",
    "# obj.appendTail(value)\n",
    "# param_2 = obj.deleteHead()"
   ]
  },
  {
   "cell_type": "markdown",
   "metadata": {},
   "source": [
    "**两数之和**"
   ]
  },
  {
   "cell_type": "code",
   "execution_count": null,
   "metadata": {},
   "outputs": [],
   "source": [
    "class Solution:\n",
    "    def twoSum(self, nums: List[int], target: int) -> List[int]:\n",
    "        # 哈希表的查询时间复杂度是O(1)\n",
    "        hashtable = dict()\n",
    "        for i, num in enumerate(nums):\n",
    "            if target - num in hashtable:\n",
    "                return [hashtable[target - num], i]\n",
    "            hashtable[nums[i]] = i\n",
    "        return []\n"
   ]
  },
  {
   "cell_type": "markdown",
   "metadata": {},
   "source": [
    "**BFS寻找树的最小树深**"
   ]
  },
  {
   "cell_type": "code",
   "execution_count": null,
   "metadata": {},
   "outputs": [],
   "source": [
    "# Definition for a binary tree node.\n",
    "# class TreeNode(object):\n",
    "#     def __init__(self, val=0, left=None, right=None):\n",
    "#         self.val = val\n",
    "#         self.left = left\n",
    "#         self.right = right\n",
    "class Solution(object):\n",
    "    def minDepth(self, root):\n",
    "        \"\"\"\n",
    "        :type root: TreeNode\n",
    "        :rtype: int\n",
    "        \"\"\"\n",
    "        if not root:\n",
    "            return 0\n",
    "        q = [root]\n",
    "        depth = 1\n",
    "        while len(q)>0:\n",
    "            q_len = len(q)\n",
    "            for i in range(q_len):\n",
    "                qi = q.pop()\n",
    "                if (qi.left == None and qi.right == None):\n",
    "                    return depth\n",
    "                if qi.left:\n",
    "                    q.insert(0,qi.left)\n",
    "                if qi.right:\n",
    "                    q.insert(0,qi.right)\n",
    "            depth += 1\n",
    "        return depth"
   ]
  },
  {
   "cell_type": "markdown",
   "metadata": {},
   "source": [
    "**高效计算素数**"
   ]
  },
  {
   "cell_type": "code",
   "execution_count": null,
   "metadata": {},
   "outputs": [],
   "source": [
    "import math\n",
    "\n",
    "n = 21\n",
    "is_primes = [True for i in range(n+1)] # 为了计算到值n\n",
    "for x in range(2, int(math.sqrt(n))): # sqrt(n)是相乘反转计算的分界点\n",
    "    # 是否为素数\n",
    "    if is_primes[x]:\n",
    "        # 从 x*x开始，就可以保证无重复\n",
    "        for xi in range(x*x, n+1, x):\n",
    "            is_primes[xi] = False\n",
    "            \n",
    "count_n = 0\n",
    "# 0，1是不计算再内的\n",
    "for i in range(2, n+1):\n",
    "    if is_primes[i]:\n",
    "        print(i)\n",
    "        count_n += 1\n",
    "        \n",
    "print(count_n)"
   ]
  },
  {
   "cell_type": "markdown",
   "metadata": {},
   "source": [
    "**后续打印链表**"
   ]
  },
  {
   "cell_type": "code",
   "execution_count": null,
   "metadata": {},
   "outputs": [],
   "source": [
    "# 链表的后续遍历，需要借助于递归操作\n",
    "# 倒序打印单链表中的元素值 \n",
    "def traverse(ListNode head):\n",
    "    if (head == null):\n",
    "        return; \n",
    "    traverse(head.next); \n",
    "    # 后序遍历代码 \n",
    "    print(head.val);\n"
   ]
  },
  {
   "cell_type": "markdown",
   "metadata": {},
   "source": [
    "**异或操作**"
   ]
  },
  {
   "cell_type": "code",
   "execution_count": null,
   "metadata": {},
   "outputs": [],
   "source": [
    "一个数和它本身做异或运算结果为0， 一个数和0做异或运算还是它本身\n",
    "\n",
    "a^a = 0,  a^0 = a"
   ]
  },
  {
   "cell_type": "markdown",
   "metadata": {},
   "source": [
    "**回文链表**"
   ]
  },
  {
   "cell_type": "code",
   "execution_count": null,
   "metadata": {},
   "outputs": [],
   "source": [
    "# Definition for singly-linked list.\n",
    "# class ListNode:\n",
    "#     def __init__(self, val=0, next=None):\n",
    "#         self.val = val\n",
    "#         self.next = next\n",
    "class Solution:\n",
    "    def isPalindrome(self, head: ListNode) -> bool:\n",
    "        # 找到中间链表的中间节点\n",
    "        slow, fast = head, head\n",
    "        while fast and fast.next:\n",
    "            slow = slow.next\n",
    "            fast = fast.next.next\n",
    "        if fast: # 链表长度为偶数时，向前移一位\n",
    "            slow = slow.next\n",
    "        def reverse(phead: ListNode):\n",
    "            # 链表反转\n",
    "            cur, pre = phead, None\n",
    "            while cur:\n",
    "                pnext = cur.next\n",
    "                cur.next = pre\n",
    "                pre = cur\n",
    "                cur = pnext\n",
    "            return pre\n",
    "        # 比较是否为回文链表\n",
    "        left = head\n",
    "        right = reverse(slow)\n",
    "        # 两个链表比较值是否相同\n",
    "        while right:\n",
    "            if left.val != right.val:\n",
    "                return False\n",
    "            left = left.next\n",
    "            right = right.next\n",
    "        return True "
   ]
  },
  {
   "cell_type": "markdown",
   "metadata": {},
   "source": [
    "**二分查找左侧区间的应用**"
   ]
  },
  {
   "cell_type": "code",
   "execution_count": null,
   "metadata": {},
   "outputs": [],
   "source": [
    "# 爱吃香蕉的珂珂\n",
    "class Solution:\n",
    "    def minEatingSpeed(self, piles: List[int], h: int) -> int:\n",
    "        # 特殊情况判断\n",
    "        if len(piles)<=0:\n",
    "            return 0\n",
    "        if len(piles)>h:\n",
    "            return float('inf')\n",
    "        # 速度的可取范围\n",
    "        max_sp = max(piles)\n",
    "        min_sp = max(int(sum(piles)/h), 1)\n",
    "        # 以速度K吃香蕉，吃完需要的时间\n",
    "        def canFinished(lc_piles, lc_k, lc_h):\n",
    "            import math\n",
    "            res_hours = 0\n",
    "            for lc_pile in lc_piles:\n",
    "                res_hours += math.ceil(lc_pile*1.0/lc_k)\n",
    "\n",
    "            if res_hours <= lc_h:\n",
    "                return True\n",
    "            return False\n",
    "        # 吃完所需的最小速度\n",
    "        # 右侧区间问题\n",
    "        left, right = min_sp, max_sp\n",
    "        while left <= right:\n",
    "            mid = left + (right-left)//2\n",
    "            if canFinished(piles, mid, h):\n",
    "                right = mid - 1 # 如果前面是left<= right，则此处必须是right = mid - 1\n",
    "            else:\n",
    "                left = mid + 1\n",
    "        if left > max_sp:\n",
    "            return -1\n",
    "        return left\n",
    "# 轮船的最低运载能力\n",
    "class Solution:\n",
    "    def shipWithinDays(self, weights: List[int], D: int) -> int:\n",
    "        # 特殊情况分析\n",
    "        if len(weights)<=0:\n",
    "            return 0\n",
    "        if D <= 0:\n",
    "            return -1\n",
    "        # 运载能力的边界\n",
    "        min_cap = min(weights)\n",
    "        max_cap = sum(weights)\n",
    "        # 运载能力为cap时，能否完成\n",
    "        def canFinish(lc_weights, lc_d, lc_cap):\n",
    "            lc_sum = 0\n",
    "            lc_ct = 1\n",
    "            for lc_weight in lc_weights:\n",
    "                if lc_weight>lc_cap: # 此处一定要判断单个的重量是否满足要求\n",
    "                    return False\n",
    "                if (lc_sum + lc_weight) <= lc_cap:\n",
    "                    lc_sum += lc_weight\n",
    "                else:\n",
    "                    lc_sum= lc_weight\n",
    "                    lc_ct += 1\n",
    "            if lc_ct <= lc_d:\n",
    "                return True\n",
    "            return False\n",
    "\n",
    "        #  canFinish的另一种简便写法\n",
    "        def canFinish(lc_weights, lc_d, lc_cap):\n",
    "            i = 0\n",
    "            for day in range(lc_d):\n",
    "                lc_max_cap = lc_cap \n",
    "                while (lc_max_cap - lc_weights[i]) >= 0:\n",
    "                    lc_max_cap -= lc_weights[i]\n",
    "                    i += 1\n",
    "                    if i == len(lc_weights):\n",
    "                        return True\n",
    "            return False\n",
    "        # 查找最低的运载能力\n",
    "        # 左侧区间问题\n",
    "        left, right = min_cap, max_cap\n",
    "        while left <= right:\n",
    "            mid = left + (right - left)//2\n",
    "            if canFinish(weights, D, mid):\n",
    "                right = mid - 1\n",
    "            else:\n",
    "                left = mid + 1\n",
    "        return left\n",
    "\n"
   ]
  },
  {
   "cell_type": "markdown",
   "metadata": {},
   "source": [
    "**接雨水问题**"
   ]
  },
  {
   "cell_type": "code",
   "execution_count": null,
   "metadata": {},
   "outputs": [],
   "source": [
    "class Solution:\n",
    "    def trap(self, height: List[int]) -> int:\n",
    "        # # 计算每个柱子左面的最大值和右面的最大值\n",
    "        # if len(height) == 0:\n",
    "        #     return 0\n",
    "        # left_max, right_max = [0], [0]\n",
    "        # l_max, r_max = 0, 0\n",
    "        # n = len(height)\n",
    "        # for i in range(1, n):\n",
    "        #     l_max = max(l_max, height[i-1])\n",
    "        #     r_max = max(r_max, height[n-i])\n",
    "        #     left_max.append(l_max)\n",
    "        #     right_max.insert(0,r_max)\n",
    "        # # print(right_max)\n",
    "        # # 每个柱子可以接水的量为min(left_max[i], right_max[i]) - height[i]\n",
    "        # res_sum = 0\n",
    "        # for i in range(n):\n",
    "        #     res_sum  += max(0, min(left_max[i], right_max[i])-height[i])\n",
    "        #     # print(res_sum, max(0, min(left_max[i], right_max[i])-height[i]))\n",
    "        # return res_sum\n",
    "\n",
    "        l_max, r_max = 0, 0\n",
    "        left, right = 0, len(height) - 1\n",
    "        sum_res = 0\n",
    "        # 计算容量的时候，只要max(l_max, r_max)是正确的值即可，至于是不是全局的l_max或r_max我们并不关心\n",
    "        # 所以对于每只要有一侧是真正的最大值即可\n",
    "        while left <= right:\n",
    "            if l_max<= r_max:\n",
    "                sum_res += max(0, min(l_max, r_max)-height[left])\n",
    "                l_max = max(l_max, height[left])\n",
    "                left += 1\n",
    "            else:\n",
    "                sum_res += max(0, min(l_max, r_max)-height[right])\n",
    "                r_max = max(r_max, height[right])\n",
    "                right -= 1\n",
    "        return sum_res\n",
    "        "
   ]
  },
  {
   "cell_type": "markdown",
   "metadata": {},
   "source": [
    "**K个一组翻转链表**"
   ]
  },
  {
   "cell_type": "code",
   "execution_count": null,
   "metadata": {},
   "outputs": [],
   "source": [
    "# Definition for singly-linked list.\n",
    "# class ListNode:\n",
    "#     def __init__(self, val=0, next=None):\n",
    "#         self.val = val\n",
    "#         self.next = next\n",
    "class Solution:\n",
    "    def reverseKGroup(self, head: ListNode, k: int) -> ListNode:\n",
    "        # 翻转链表\n",
    "        def reverse(phead, pend):\n",
    "            p_cur, p_pre = phead, None\n",
    "            while (p_cur != pend):\n",
    "                p_next = p_cur.next\n",
    "                p_cur.next = p_pre\n",
    "                p_pre = p_cur\n",
    "                p_cur = p_next\n",
    "            return p_pre\n",
    "        # k个一组分组\n",
    "        a, b = head, head\n",
    "        for i in range(k):\n",
    "            if b == None:\n",
    "                return a\n",
    "            b = b.next\n",
    "        newHead = reverse(cur, b)# neadHead 在递归以后，一直是翻转后的头节点（因为只有一个return,指向的是a, 后面一直在传递该变量）\n",
    "        cur.next = self.reverseKGroup(b, k) # cur.next的作用只有连接， 没有修改头节点的作用。\n",
    "        return newHead"
   ]
  },
  {
   "cell_type": "markdown",
   "metadata": {},
   "source": [
    "**寻找缺失和重复的元素**"
   ]
  },
  {
   "cell_type": "code",
   "execution_count": null,
   "metadata": {},
   "outputs": [],
   "source": [
    "# 645\n",
    "# 查找过的元素，*-1，再次遇到负数的元素，即为重复值\n",
    "# 最后会有一个元素没有被查找过，仍然为正值\n",
    "class Solution:\n",
    "    def findErrorNums(self, nums: List[int]) -> List[int]:\n",
    "        # 特殊情况\n",
    "        n = len(nums)\n",
    "        if n == 0:\n",
    "            return []\n",
    "        res = []\n",
    "        # *-1 查找重复的数值\n",
    "        for i in range(n):\n",
    "            abs_num = abs(nums[i])-1 # 由于数值是1 - n的，所以索引应该-1\n",
    "            if nums[abs_num]<0:\n",
    "                res.append(abs_num+1)\n",
    "            else:\n",
    "                nums[abs_num] *= -1\n",
    "        # for循环查找确实的数值\n",
    "        for i in range(n):\n",
    "            if nums[i]>0:\n",
    "                res.append(i+1)\n",
    "                break\n",
    "        return res"
   ]
  },
  {
   "cell_type": "markdown",
   "metadata": {},
   "source": [
    "**最长回文子串**"
   ]
  },
  {
   "cell_type": "code",
   "execution_count": null,
   "metadata": {},
   "outputs": [],
   "source": [
    "# 5\n",
    "class Solution:\n",
    "    def longestPalindrome(self, s: str) -> str:\n",
    "        # 正常的解法\n",
    "        # 判断某字符串是否为回文串\n",
    "        def palindrome(lc_s, lc_l , lc_r):\n",
    "            # 判断边界\n",
    "            while (lc_l>=0 and lc_r < len(lc_s) and lc_s[lc_l] == lc_s[lc_r]):\n",
    "                lc_l -= 1\n",
    "                lc_r += 1\n",
    "            return lc_s[lc_l+1: lc_r] \n",
    "        # 比较字符是否相等\n",
    "        # 寻找字符串的分割点，并判断在此分割点下，最长的回文串长度为多少\n",
    "        res = \"\"\n",
    "        for i in range(len(s)):\n",
    "            s1 = palindrome(s, i, i)\n",
    "            s2 = palindrome(s, i, i+1)\n",
    "            if len(s1) >len(res):\n",
    "                res = s1\n",
    "            if len(s2) > len(res):\n",
    "                res = s2\n",
    "        return res\n",
    "    \n",
    "## 动态规划方式\n",
    "# 动态规划解法\n",
    "# 确定状态和子问题\n",
    "# f[i][j]表示s[i][j]是否为回文串\n",
    "# 转移方程\n",
    "# f[i][j] = f[i+1][j-1] and (s[i] == s[j])\n",
    "# 初始条件和边界条件\n",
    "# f[i][i] = True  len(s)-1>=j>=i>=0\n",
    "# 计算顺序\n",
    "# 从上到下，从左到右\n",
    "\n",
    "n = len(s)\n",
    "if n == 0:\n",
    "    return 0\n",
    "max_len = 1\n",
    "max_str = s[0]\n",
    "f = [[False for i in range(n)] for j in range(n)]\n",
    "for i in range(n):\n",
    "    f[i][i] = True\n",
    "\n",
    "# for i in range(n):\n",
    "#     for j in range(i+1, n):\n",
    "for j in range(1, n): # 此处一定是先循环j，否则会造成中间的很多f[i][j]是先使用后判断的。\n",
    "    for i in range(0,j):\n",
    "        if j-i == 1:\n",
    "            f[i][j] = s[i] == s[j]\n",
    "        if j-i>=2:\n",
    "            f[i][j] = f[i+1][j-1] and s[i] == s[j]\n",
    "        if f[i][j] and max_len < j - i + 1:\n",
    "            max_len = j - i + 1\n",
    "            max_str = s[i:j+1]\n",
    "\n",
    "        # print(i,j, f[i][j])\n",
    "\n",
    "# for i in range(n):\n",
    "#     for j in range(i, n):\n",
    "#         if f[i][j]:\n",
    "#             max_len = max(max_len, j - i - 1)\n",
    "\n",
    "return max_str "
   ]
  },
  {
   "cell_type": "markdown",
   "metadata": {},
   "source": [
    "**考场就坐**"
   ]
  },
  {
   "cell_type": "code",
   "execution_count": null,
   "metadata": {},
   "outputs": [],
   "source": [
    "# 该题不要将问题想的太复杂了，labuladong解法里虽然可取，但是思路太复杂了\n",
    "# 将问题简化为在list中插入和删除元素\n",
    "# list中每个位置的表示该学生坐在第i个座位上。\n",
    "\n",
    "class ExamRoom:\n",
    "\n",
    "    def __init__(self, N: int):\n",
    "        self.N = N\n",
    "        self.students = []\n",
    "        \n",
    "    def seat(self) -> int:\n",
    "        i = 0 # 记录需要插入的坐标\n",
    "        if not self.students:\n",
    "            # 如果考场中已经没有学生了\n",
    "            student = 0\n",
    "        else:\n",
    "            dist, student = self.students[0], 0\n",
    "            for loc, st in enumerate(self.students):\n",
    "                if loc: # 从第二个开始计算\n",
    "                    prev = self.students[loc-1]\n",
    "                    d = (st-prev) // 2\n",
    "                    if d>dist:\n",
    "                        dist, student, i = d, prev+d, loc\n",
    "            # 检查最后一个座位是否符合\n",
    "            d = self.N - self.students[-1] - 1\n",
    "            if d > dist:\n",
    "                student, i = self.N-1, -1\n",
    "                self.students.append(student)\n",
    "                return student\n",
    "        self.students.insert(i, student)\n",
    "        return student\n",
    "\n",
    "    def leave(self, p: int) -> None:\n",
    "        self.students.remove(p)\n",
    "        \n",
    "# Your ExamRoom object will be instantiated and called as such:\n",
    "# obj = ExamRoom(N)\n",
    "# param_1 = obj.seat()\n",
    "# obj.leave(p)"
   ]
  },
  {
   "cell_type": "markdown",
   "metadata": {},
   "source": [
    "**二叉树递归的框架**"
   ]
  },
  {
   "cell_type": "code",
   "execution_count": null,
   "metadata": {},
   "outputs": [],
   "source": [
    "def traverse(TreeNode root):\n",
    "    # root 需要做什么？在这做。 \n",
    "    #其他的不⽤ root 操⼼，抛给框架 \n",
    "    traverse(root.left)\n",
    "    traverse(root.right)"
   ]
  },
  {
   "cell_type": "markdown",
   "metadata": {},
   "source": [
    "**比较两棵树是否相同**"
   ]
  },
  {
   "cell_type": "code",
   "execution_count": null,
   "metadata": {},
   "outputs": [],
   "source": [
    "# Definition for a binary tree node.\n",
    "# class TreeNode:\n",
    "#     def __init__(self, val=0, left=None, right=None):\n",
    "#         self.val = val\n",
    "#         self.left = left\n",
    "#         self.right = right\n",
    "class Solution:\n",
    "    def isSameTree(self, p: TreeNode, q: TreeNode) -> bool:\n",
    "        if p == None and q == None:\n",
    "            return True\n",
    "        if p == None or q == None:\n",
    "            return False\n",
    "        if p.val != q.val:\n",
    "            return False\n",
    "        return self.isSameTree(p.left, q.left) & self.isSameTree(p.right, q.right)"
   ]
  }
 ],
 "metadata": {
  "kernelspec": {
   "display_name": "Python 3",
   "language": "python",
   "name": "python3"
  },
  "language_info": {
   "codemirror_mode": {
    "name": "ipython",
    "version": 3
   },
   "file_extension": ".py",
   "mimetype": "text/x-python",
   "name": "python",
   "nbconvert_exporter": "python",
   "pygments_lexer": "ipython3",
   "version": "3.7.0"
  },
  "toc-autonumbering": true,
  "toc-showcode": false,
  "toc-showmarkdowntxt": true
 },
 "nbformat": 4,
 "nbformat_minor": 4
}
