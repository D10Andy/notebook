{
 "cells": [
  {
   "cell_type": "markdown",
   "metadata": {},
   "source": [
    "**lightgbm中文文档**  \n",
    "https://lightgbm.apachecn.org/#/docs/3"
   ]
  },
  {
   "cell_type": "code",
   "execution_count": null,
   "metadata": {},
   "outputs": [],
   "source": []
  },
  {
   "cell_type": "markdown",
   "metadata": {},
   "source": [
    "## 样例 "
   ]
  },
  {
   "cell_type": "code",
   "execution_count": null,
   "metadata": {},
   "outputs": [],
   "source": [
    "import lightgbm as lgb\n",
    "from sklearn import datasets\n",
    "from sklearn.model_selection import train_test_split\n",
    "iris=datasets.load_iris()\n",
    "X_train,X_test,y_train,y_test=train_test_split(iris.data,iris.target,test_size=0.3)\n",
    "import numpy as np\n",
    "train_data=lgb.Dataset(X_train,label=y_train)\n",
    "validation_data=lgb.Dataset(X_test,label=y_test)\n",
    "params={\n",
    "    'learning_rate':0.1,\n",
    "    'lambda_l1':0.1,\n",
    "    'lambda_l2':0.2,\n",
    "    'max_depth':4,\n",
    "    'objective':'multiclass',\n",
    "    'num_class':3,  #lightgbm.basic.LightGBMError: b‘Number of classes should be specified and greater than 1 for multiclass training‘\n",
    "}\n",
    "clf=lgb.train(params,train_data,valid_sets=[validation_data])\n",
    "from sklearn.metrics import roc_auc_score,accuracy_score\n",
    "y_pred=clf.predict(X_test)\n",
    "y_pred=[list(x).index(max(x)) for x in y_pred]\n",
    "print(y_pred)\n",
    "print(accuracy_score(y_test,y_pred))"
   ]
  },
  {
   "cell_type": "code",
   "execution_count": null,
   "metadata": {},
   "outputs": [],
   "source": [
    "iter_num = 5000\n",
    "lgb_model = lgb.LGBMClassifier(\n",
    "    boosting_type='gbdt', \n",
    "    objective='binary',\n",
    "    metric='auc',\n",
    "    num_leaves=31, \n",
    "    reg_alpha=0.25, \n",
    "    reg_lambda=0.25,\n",
    "    max_depth=-1, \n",
    "    n_estimators=iter_num, \n",
    "    subsample=0.75, \n",
    "    colsample_bytree=0.75, \n",
    "    subsample_freq=1,\n",
    "    learning_rate=0.03, \n",
    "    min_child_weight=10,\n",
    "    random_state=2019,\n",
    "    n_jobs=16, \n",
    ")\n",
    "\n",
    "lgb_model.fit(X_train, y_train,eval_set=[(X_train, y_train)], verbose=500, feature_name=feat_df_cols)\n",
    "\n",
    "y_pred_val = lgb_model.predict_proba(X_test, num_iteration=lgb_model.best_iteration_)[:, 1].tolist()"
   ]
  }
 ],
 "metadata": {
  "kernelspec": {
   "display_name": "Python 3",
   "language": "python",
   "name": "python3"
  },
  "language_info": {
   "codemirror_mode": {
    "name": "ipython",
    "version": 3
   },
   "file_extension": ".py",
   "mimetype": "text/x-python",
   "name": "python",
   "nbconvert_exporter": "python",
   "pygments_lexer": "ipython3",
   "version": "3.7.0"
  },
  "toc-autonumbering": false,
  "toc-showcode": false
 },
 "nbformat": 4,
 "nbformat_minor": 4
}
