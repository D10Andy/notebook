{
 "cells": [
  {
   "cell_type": "markdown",
   "metadata": {},
   "source": [
    "**leetcode dp number**\n",
    "+ 322 [Coin Change](https://leetcode-cn.com/problems/coin-change)\n",
    "+ 62 [Unique Paths](https://leetcode-cn.com/problems/unique-paths)\n",
    "+ 55 [Jump Game](https://leetcode-cn.com/problems/jump-game)\n",
    "+ 152 [Maximum Product Subarray](https://leetcode-cn.com/problems/maximum-product-subarray)\n",
    "+ **坐标&位操作**\n",
    "+ 63 [Unique Paths II](https://leetcode-cn.com/problems/unique-paths-ii)\n",
    "+ 256 [Paint House](https://leetcode-cn.com/problems/paint-house)\n",
    "+ 91 [Decode Ways](https://leetcode-cn.com/problems/decode-ways)\n",
    "+ 674 [Longest Increasing Continuous Subsequence](https://leetcode-cn.com/problems/longest-continuous-increasing-subsequence)\n",
    "+ 64 [Minimum Path Sum](https://leetcode-cn.com/problems/minimum-path-sum)\n",
    "+ 361 [Bomb Enemy](https://leetcode-cn.com/problems/bomb-enemy)\n",
    "+ 338 [Counting Bits](https://leetcode-cn.com/problems/counting-bits)\n",
    "+ **序列**\n",
    "+ 265 [Paint House II](https://leetcode-cn.com/problems/paint-house-ii)\n",
    "+ 198 [House Robber](https://leetcode-cn.com/problems/house-robber)\n",
    "+ 213 [House Robber II](https://leetcode-cn.com/problems/house-robber-ii)\n",
    "+ 121 [Best Time To Buy And Sell Stock](https://leetcode-cn.com/problems/best-time-to-buy-and-sell-stock)\n",
    "+ 122 [Best Time To Buy And Sell Stock II](https://leetcode-cn.com/problems/best-time-to-buy-and-sell-stock-ii)\n",
    "+ 123 [Best Time To Buy And Sell Stock III](https://leetcode-cn.com/problems/best-time-to-buy-and-sell-stock-iii)\n",
    "+ 188 [Best Time To Buy And Sell Stock IV](https://leetcode-cn.com/problems/best-time-to-buy-and-sell-stock-iv)\n",
    "+ 300 [Longest Increasing Subsequence](https://leetcode-cn.com/problems/longest-increasing-subsequence)\n",
    "+ 354 [Russian Doll Envelopes](https://leetcode-cn.com/problems/russian-doll-envelopes)\n",
    "+ **划分&博弈&背包**\n",
    "+ 279 [Perfect Squares](https://leetcode-cn.com/problems/perfect-squares)\n",
    "+ 132 [Palindrome Partitioning II](https://leetcode-cn.com/problems/palindrome-partitioning-ii)\n",
    "+ [Copy Books](https://www.lintcode.com/problem/copy-books/)\n",
    "+ [Coins in A Line](https://www.lintcode.com/problem/coins-in-a-line/)\n",
    "+ [Backpack](https://www.lintcode.com/problem/backpack/)\n",
    "+ [Backpack V](https://www.lintcode.com/problem/backpack-v/)\n",
    "+ [Backpack VI](https://www.jiuzhang.com/solutions/backpack-vi/)\n",
    "+ **背包和区间**\n",
    "+ [Backpack II](https://www.lintcode.com/problem/backpack-ii/)\n",
    "+ [Backpack III](https://www.lintcode.com/problem/backpack-iii/)\n",
    "+ 516 [Longest Palindromic Subsequence](https://leetcode-cn.com/problems/longest-palindromic-subsequence/)\n",
    "+ [Coins In A Line III](https://www.jiuzhang.com/solution/coins-in-a-line-iii/)\n",
    "+ 87 [Scramble String](https://leetcode-cn.com/problems/scramble-string/)\n",
    "+ 312 [Burst Balloons](https://leetcode-cn.com/problems/burst-balloons/)\n",
    "+ **双序列**\n",
    "+ 1143 [Longest Common Subsequence](https://leetcode-cn.com/problems/longest-common-subsequence)\n",
    "+ 97 [Interleaving String](https://leetcode-cn.com/problems/interleaving-string)\n",
    "+ 72 [Edit Distance](https://leetcode-cn.com/problems/edit-distance)\n",
    "+ 115 [Distinct Subsequences](https://leetcode-cn.com/problems/distinct-subsequences)\n",
    "+ 10 [Regular Expression Matching](https://leetcode-cn.com/problems/regular-expression-matching)\n",
    "+ 44 [Wildcard Matching](https://leetcode-cn.com/problems/wildcard-matching)\n",
    "+ 474 [Ones and Zeroes](https://leetcode-cn.com/problems/ones-and-zeroes)\n",
    "+ **难题**\n",
    "+ 983 [Minimum Adjustment Cost](https://leetcode-cn.com/problems/minimum-cost-for-tickets)\n",
    "+ [K-Sum](https://www.lintcode.com/problem/k-sum/)\n",
    "+ [K Edit Distance](https://www.jiuzhang.com/solutions/k-edit-distance/)\n",
    "+ 403 [Frog Jump](https://leetcode-cn.com/problems/frog-jump)\n",
    "+ 639 [Decode Ways II](https://leetcode-cn.com/problems/decode-ways-ii)\n",
    "+ 221 [Maximal Square](https://leetcode-cn.com/problems/maximal-square)"
   ]
  },
  {
   "cell_type": "markdown",
   "metadata": {},
   "source": [
    "**动态规划题目特点**"
   ]
  },
  {
   "cell_type": "markdown",
   "metadata": {},
   "source": [
    "+ 计数\n",
    " - 有多少种方式走到右下角\n",
    " - 有多少种方法选出K个数使得和是sum\n",
    "+ 求最大最小值\n",
    " - 从左上角走到右下角路径的最大数字和\n",
    " - 最长上升子序列的长度\n",
    "+ 求存在性\n",
    " - 取石子游戏，先手是否必胜\n",
    " - 能不能选出K个数使得和是sum"
   ]
  },
  {
   "cell_type": "markdown",
   "metadata": {},
   "source": [
    "**六大类题目**"
   ]
  },
  {
   "cell_type": "markdown",
   "metadata": {},
   "source": [
    "+ 序列型动态规划\n",
    "+ 坐标型动态规划\n",
    "+ 划分型动态规划\n",
    "+ 区间型动态规划\n",
    "+ 背包型动态规划\n",
    "+ 双序列型动态规划"
   ]
  },
  {
   "cell_type": "markdown",
   "metadata": {},
   "source": [
    "**动态规划题目步骤**"
   ]
  },
  {
   "cell_type": "markdown",
   "metadata": {},
   "source": [
    "以硬币问题为例  \n",
    "1. 确定状态\n",
    " + 最后状态(最有策略种使用的最后一枚硬币ak)\n",
    " + 转化为子问题(使用最少的硬币拼出更小的面值27-ak)\n",
    "2. 转移方程\n",
    " + F[x] = min{f[x-2]+1, f[x-5]+1, f[x-7]+1}\n",
    "3. 初始条件和边界情况\n",
    " + 初始条件 f[0]=0\n",
    " + 边界情况 x>0, 如果不能拼出Y，则F[Y]=正无穷\n",
    "4. 计算顺序\n",
    " + 从小到大，f[1], f[2],..."
   ]
  },
  {
   "cell_type": "code",
   "execution_count": null,
   "metadata": {},
   "outputs": [],
   "source": []
  }
 ],
 "metadata": {
  "kernelspec": {
   "display_name": "Python 3",
   "language": "python",
   "name": "python3"
  },
  "language_info": {
   "codemirror_mode": {
    "name": "ipython",
    "version": 3
   },
   "file_extension": ".py",
   "mimetype": "text/x-python",
   "name": "python",
   "nbconvert_exporter": "python",
   "pygments_lexer": "ipython3",
   "version": "3.7.0"
  }
 },
 "nbformat": 4,
 "nbformat_minor": 4
}
