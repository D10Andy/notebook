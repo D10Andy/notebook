{
 "cells": [
  {
   "cell_type": "markdown",
   "metadata": {},
   "source": [
    "**leetcode dp number**\n",
    "+ [x] 322 [Coin Change](https://leetcode-cn.com/problems/coin-change)\n",
    "+ [x] 62 [Unique Paths](https://leetcode-cn.com/problems/unique-paths)\n",
    "+ [x] 55 [Jump Game](https://leetcode-cn.com/problems/jump-game)\n",
    "+ [x] 45 [Jump Game II](https://leetcode-cn.com/problems/jump-game-ii/)\n",
    "+ [x] 152 [Maximum Product Subarray](https://leetcode-cn.com/problems/maximum-product-subarray)\n",
    "+ **坐标&位操作**\n",
    "+ [x] 63 [Unique Paths II](https://leetcode-cn.com/problems/unique-paths-ii)\n",
    "+ [x] 256 [Paint House](https://leetcode-cn.com/problems/paint-house)\n",
    "+ [ ] 91 [Decode Ways](https://leetcode-cn.com/problems/decode-ways)\n",
    "+ [x] 674 [Longest Increasing Continuous Subsequence](https://leetcode-cn.com/problems/longest-continuous-increasing-subsequence/)\n",
    "+ [x] 64 [Minimum Path Sum](https://leetcode-cn.com/problems/minimum-path-sum)\n",
    "+ [ ] 361 [Bomb Enemy](https://leetcode-cn.com/problems/bomb-enemy)\n",
    "+ [ ] 338 [Counting Bits](https://leetcode-cn.com/problems/counting-bits)\n",
    "+ **序列**\n",
    "+ [x] 265 [Paint House II](https://leetcode-cn.com/problems/paint-house-ii)\n",
    "+ [x] 198 [House Robber](https://leetcode-cn.com/problems/house-robber)\n",
    "+ [x] 213 [House Robber II](https://leetcode-cn.com/problems/house-robber-ii)\n",
    "+ [x] 121 [Best Time To Buy And Sell Stock](https://leetcode-cn.com/problems/best-time-to-buy-and-sell-stock)\n",
    "+ [x] 122 [Best Time To Buy And Sell Stock II](https://leetcode-cn.com/problems/best-time-to-buy-and-sell-stock-ii)\n",
    "+ [x] 123 [Best Time To Buy And Sell Stock III](https://leetcode-cn.com/problems/best-time-to-buy-and-sell-stock-iii)\n",
    "+ [x] 188 [Best Time To Buy And Sell Stock IV](https://leetcode-cn.com/problems/best-time-to-buy-and-sell-stock-iv)\n",
    "+ [x] 300 [Longest Increasing Subsequence](https://leetcode-cn.com/problems/longest-increasing-subsequence)\n",
    "+ [ ] 354 [Russian Doll Envelopes](https://leetcode-cn.com/problems/russian-doll-envelopes)\n",
    "+ **划分&博弈&背包**\n",
    "+ [x] 279 [Perfect Squares](https://leetcode-cn.com/problems/perfect-squares)\n",
    "+ [x] 132 [Palindrome Partitioning II](https://leetcode-cn.com/problems/palindrome-partitioning-ii)\n",
    "+ [ ] [Copy Books](https://www.lintcode.com/problem/copy-books/)\n",
    "+ [ ] [Coins in A Line](https://www.lintcode.com/problem/coins-in-a-line/)\n",
    "+ [ ] [Backpack](https://www.lintcode.com/problem/backpack/)\n",
    "+ [ ] [Backpack V](https://www.lintcode.com/problem/backpack-v/)\n",
    "+ [ ] [Backpack VI](https://www.jiuzhang.com/solutions/backpack-vi/)\n",
    "+ **背包和区间**\n",
    "+ [ ] [Backpack II](https://www.lintcode.com/problem/backpack-ii/)\n",
    "+ [ ] [Backpack III](https://www.lintcode.com/problem/backpack-iii/)\n",
    "+ [ ] 516 [Longest Palindromic Subsequence](https://leetcode-cn.com/problems/longest-palindromic-subsequence/)\n",
    "+ [ ] [Coins In A Line III](https://www.jiuzhang.com/solution/coins-in-a-line-iii/)\n",
    "+ [ ] 87 [Scramble String](https://leetcode-cn.com/problems/scramble-string/)\n",
    "+ [ ] 312 [Burst Balloons](https://leetcode-cn.com/problems/burst-balloons/)\n",
    "+ **双序列**\n",
    "+ [ ] 1143 [Longest Common Subsequence](https://leetcode-cn.com/problems/longest-common-subsequence)\n",
    "+ [ ] 97 [Interleaving String](https://leetcode-cn.com/problems/interleaving-string)\n",
    "+ [ ] 115 [Distinct Subsequences](https://leetcode-cn.com/problems/distinct-subsequences)\n",
    "+ [ ] 10 [Regular Expression Matching](https://leetcode-cn.com/problems/regular-expression-matching)\n",
    "+ [ ] 44 [Wildcard Matching](https://leetcode-cn.com/problems/wildcard-matching)\n",
    "+ [ ] 474 [Ones and Zeroes](https://leetcode-cn.com/problems/ones-and-zeroes)\n",
    "+ [ ] **难题**\n",
    "+ [ ] 983 [Minimum Adjustment Cost](https://leetcode-cn.com/problems/minimum-cost-for-tickets)\n",
    "+ [ ] [K-Sum](https://www.lintcode.com/problem/k-sum/)\n",
    "+ [ ] [K Edit Distance](https://www.jiuzhang.com/solutions/k-edit-distance/)\n",
    "+ [ ] 403 [Frog Jump](https://leetcode-cn.com/problems/frog-jump)\n",
    "+ [ ] 639 [Decode Ways II](https://leetcode-cn.com/problems/decode-ways-ii)\n",
    "+ [ ] 221 [Maximal Square](https://leetcode-cn.com/problems/maximal-square)"
   ]
  },
  {
   "cell_type": "markdown",
   "metadata": {},
   "source": [
    "**动态规划题目特点**"
   ]
  },
  {
   "cell_type": "markdown",
   "metadata": {},
   "source": [
    "+ 计数\n",
    " - 有多少种方式走到右下角\n",
    " - 有多少种方法选出K个数使得和是sum\n",
    "+ 求最大最小值\n",
    " - 从左上角走到右下角路径的最大数字和\n",
    " - 最长上升子序列的长度\n",
    "+ 求存在性\n",
    " - 取石子游戏，先手是否必胜\n",
    " - 能不能选出K个数使得和是sum"
   ]
  },
  {
   "cell_type": "markdown",
   "metadata": {},
   "source": [
    "**六大类题目**"
   ]
  },
  {
   "cell_type": "markdown",
   "metadata": {},
   "source": [
    "+ 序列型动态规划\n",
    "+ 坐标型动态规划\n",
    "+ 划分型动态规划\n",
    "+ 区间型动态规划\n",
    "+ 背包型动态规划\n",
    "+ 双序列型动态规划"
   ]
  },
  {
   "cell_type": "markdown",
   "metadata": {},
   "source": [
    "**动态规划题目步骤**"
   ]
  },
  {
   "cell_type": "markdown",
   "metadata": {},
   "source": [
    "以硬币问题为例  \n",
    "1. 确定状态\n",
    " + 最后一步状态(最有策略种使用的最后一枚硬币ak)\n",
    " + 转化为子问题(使用最少的硬币拼出更小的面值27-ak)\n",
    "2. 转移方程\n",
    " + F[x] = min{f[x-2]+1, f[x-5]+1, f[x-7]+1}\n",
    "3. 初始条件和边界情况\n",
    " + 初始条件 f[0]=0\n",
    " + 边界情况 x>0, 如果不能拼出Y，则F[Y]=正无穷\n",
    "4. 计算顺序\n",
    " + 从小到大，f[1], f[2],..."
   ]
  },
  {
   "cell_type": "markdown",
   "metadata": {},
   "source": [
    "**细节问题**"
   ]
  },
  {
   "cell_type": "markdown",
   "metadata": {},
   "source": [
    "1. 二维数组的构造方式\n",
    " +  m*n 的数组  \n",
    " [ [float('inf') for _ in range(n) ] for i in range(m) ]\n",
    "2. 有些情况，不要害怕构建多余的临时变量，只有构建多个数组变量，才能够完成任务， 例如： 152必须要两个数组\n",
    "3. 遇到圈子的问题，想办法将圈子拆开(例如通过枚举某个变量)，变成序列的方式，再分别考虑条件。例如：213\n",
    "4. 动态规划的题在判断计算顺序时，原则是使用到的数一定是经过计算的，且使用过后不会再更新"
   ]
  },
  {
   "cell_type": "markdown",
   "metadata": {},
   "source": [
    "**空间优化**"
   ]
  },
  {
   "cell_type": "markdown",
   "metadata": {},
   "source": [
    "+ 使用滚动数组\n",
    "+ 对于网格上的动态规划，如果f[i][j]只依赖于本行的f[i][x]与前一行的f[i-1][y],那么就可以采用滚动数组的方法压缩空间,空间复杂度O(N)  \n",
    "+ 如果网格行数少列数多(大胖子网格), 那么就可以逐列计算，滚动数组的长度为行数，空间复杂度O(M)\n",
    "+ 滚动数组作为优化方案，通常是先写出常规的代码，然后在常规代码上优化"
   ]
  },
  {
   "cell_type": "markdown",
   "metadata": {},
   "source": [
    "**划分型动态规划**  \n",
    "给定长度为N的序列或字符串，要求划分成若干段\n",
    " + 段数不限，或指定K段\n",
    " + 每一段满足一定的性质\n",
    " \n",
    "做法\n",
    " + 类似于序列型动态规划，但是通常要加上段数信息\n",
    " + 一般用f[i][j]记录前i个元素分成j段的性质，如最小代价\n",
    " \n",
    "例： 132分割回文串  279完全平方数"
   ]
  },
  {
   "cell_type": "code",
   "execution_count": null,
   "metadata": {},
   "outputs": [],
   "source": []
  },
  {
   "cell_type": "markdown",
   "metadata": {},
   "source": [
    "**322 零钱兑换**"
   ]
  },
  {
   "cell_type": "code",
   "execution_count": null,
   "metadata": {},
   "outputs": [],
   "source": [
    "class Solution:\n",
    "    def coinChange(self, coins: List[int], amount: int) -> int:\n",
    "        # 确定状态: ak, 27-ak\n",
    "        # 转移方程 f[x] = min([f[amout-coins[i]]+1 for i in range(len(coins))])\n",
    "        # 初始条件和边界情况 f[0] = 0, F[x] = float('inf'), x>=0, x<=amount\n",
    "        # 计算顺序：从小到大计算\n",
    "        f = [float('inf') for _ in range(amount+1)] # 因为金额是1, ..., amount，所以需要构造的长度为amount+1\n",
    "        f[0] = 0\n",
    "        for i in range(1, amount+1):\n",
    "            for coin in coins:\n",
    "                if i - coin < 0:\n",
    "                    continue # 如果不满足条件，则本次不计算\n",
    "                f[i] = min(f[i], f[i-coin]+1)\n",
    "        return f[amount] if f[amount] != float('inf') else -1"
   ]
  },
  {
   "cell_type": "markdown",
   "metadata": {},
   "source": [
    "**62 不同路径**"
   ]
  },
  {
   "cell_type": "code",
   "execution_count": null,
   "metadata": {},
   "outputs": [],
   "source": [
    "class Solution:\n",
    "    def uniquePaths(self, m: int, n: int) -> int:\n",
    "        # 确定状态 - 最后一步，子问题: f[m-1][n] + f[m][n-1]\n",
    "        # 状态转移方程 f[m][n] = f[m-1][n] + f[m][n-1]\n",
    "        # 初始条件和边界问题 f[0][n] = f[n][0] = 1 [(0,0), (m,n)]\n",
    "        # 计算顺序 从左上到右下\n",
    "        f = [[0 for _ in range(n)] for i in range(m)]\n",
    "        for i in range(m):\n",
    "            for j in range(n):\n",
    "                if i == 0 or j == 0:\n",
    "                    f[i][j] = 1\n",
    "                    continue\n",
    "                f[i][j] = f[i-1][j] + f[i][j-1]\n",
    "        return f[m-1][n-1]"
   ]
  },
  {
   "cell_type": "markdown",
   "metadata": {},
   "source": [
    "**55 跳跃游戏**"
   ]
  },
  {
   "cell_type": "code",
   "execution_count": null,
   "metadata": {},
   "outputs": [],
   "source": [
    "class Solution:\n",
    "    def canJump(self, nums: List[int]) -> bool:\n",
    "        # 1. 动态规划\n",
    "        # 此解法超出时间限制\n",
    "        n = len(nums)\n",
    "        f = [False for _ in range(n)]\n",
    "        f[0] = True\n",
    "        for i in range(1, n): \n",
    "            for j in range(0, i):\n",
    "                if f[j] and j+nums[j]>=i:\n",
    "                    f[i] = True\n",
    "                    break\n",
    "        return f[n-1]\n",
    "\n",
    "        # 贪心算法\n",
    "        n = len(nums)\n",
    "        if n == 0:\n",
    "            return True\n",
    "        farthest = nums[0]\n",
    "        for i in range(n):\n",
    "            if i > farthest:\n",
    "                return False\n",
    "            farthest = max(farthest, i + nums[i])\n",
    "            if farthest >= n-1:\n",
    "                return True\n",
    "        return True"
   ]
  },
  {
   "cell_type": "markdown",
   "metadata": {},
   "source": [
    "**45 跳跃游戏2**"
   ]
  },
  {
   "cell_type": "code",
   "execution_count": null,
   "metadata": {},
   "outputs": [],
   "source": [
    "class Solution:\n",
    "    def jump(self, nums: List[int]) -> int:\n",
    "        # 动态规划\n",
    "        # f[i] = min(f[j]+1) j<i & f[j]!=inf & nums[j]+j>=f[i]\n",
    "        n = len(nums)\n",
    "        if n == 0:\n",
    "            return 0\n",
    "        # f = [float('inf') for _ in range(n)]\n",
    "        # f[0] = 0\n",
    "        # for i in range(1,n):\n",
    "        #     for j in range(0, i):\n",
    "        #         if f[j] != float('inf') and nums[j]+j >=i:\n",
    "        #             f[i] = min(f[i], f[j]+1)\n",
    "        # return f[n-1]\n",
    "\n",
    "        # 贪心算法，  在每个段上找出最优潜力，看起来最优的选择\n",
    "        # 该方法的前提条件是，一定可以跳跃到最后一个位置\n",
    "        farthest, end, jumps = 0, 0, 0\n",
    "        for i in range(n-1):\n",
    "            farthest = max(nums[i]+i, farthest)\n",
    "            if i == end:\n",
    "                jumps += 1\n",
    "                end = farthest\n",
    "\n",
    "        return jumps"
   ]
  },
  {
   "cell_type": "markdown",
   "metadata": {},
   "source": [
    "**152 乘积最大子数组**"
   ]
  },
  {
   "cell_type": "code",
   "execution_count": null,
   "metadata": {},
   "outputs": [],
   "source": [
    "# 考虑三种情况， [a[j]]是最大乘积子数组、 a[j]>0 或者 a[j]<0\n",
    "class Solution:\n",
    "    def maxProduct(self, nums: List[int]) -> int:\n",
    "        # 确定状态- 最后一步： 最优的策略中，一定有最后一个元素a[j]\n",
    "        # 第一种情况： {a[j]}\n",
    "        # 第二种情况，如果a[j]是正数，希望以a[j-1]结尾的连续子序列乘积最大\n",
    "        # 如果a[j]是负数，希望以a[j-1]结尾的连续子序列乘积最小\n",
    "        # 同时保留最大连续子序列和最小连续子序列\n",
    "        # f[j] = max(a[j], a[j]*f[j-1], a[j]*g[j-1]), j>0\n",
    "        # g[j] = min(a[j], a[j]*f[j-1], a[j]*g[j-1])\n",
    "        # 初始条件 j>0\n",
    "        n = len(nums)\n",
    "        if n == 0:\n",
    "            return 0\n",
    "        f = [float('-inf') for _ in range(n)] # 保存最大乘积\n",
    "        g = [float('inf') for _ in range(n)] # 保存最小乘积\n",
    "        f[0], g[0] = nums[0], nums[0]\n",
    "\n",
    "        for i in range(1, n):\n",
    "            f[i] = max(nums[i], nums[i]*f[i-1], nums[i]*g[i-1])\n",
    "            g[i] = min(nums[i], nums[i]*f[i-1], nums[i]*g[i-1])\n",
    "        return max(f)"
   ]
  },
  {
   "cell_type": "markdown",
   "metadata": {},
   "source": [
    "**63 不同路径2**"
   ]
  },
  {
   "cell_type": "code",
   "execution_count": null,
   "metadata": {},
   "outputs": [],
   "source": [
    "class Solution:\n",
    "    def uniquePathsWithObstacles(self, obstacleGrid: List[List[int]]) -> int:\n",
    "        # 在 62题的基础上，考虑障碍物\n",
    "        # (i, j)有障碍物时， 到f[i][j]的路径有0条\n",
    "        m, n = len(obstacleGrid), len(obstacleGrid[0])\n",
    "        if m==1 and n==1 and obstacleGrid[0][0]==1:\n",
    "            return 0\n",
    "\n",
    "        f = [[0 for j in range(n)] for i in range(m)]\n",
    "        for i in range(m):\n",
    "            for j in range(n):\n",
    "                if i==0 and j==0:\n",
    "                    f[0][0]=1-obstacleGrid[0][0] # 将边界的判断放到一个循环中\n",
    "                    continue\n",
    "                elif i==0:\n",
    "                    f[0][j] = f[0][j-1]\n",
    "                elif j==0:\n",
    "                    f[i][0] = f[i-1][0]\n",
    "                else:\n",
    "                    f[i][j]=f[i-1][j]+f[i][j-1]\n",
    "                if obstacleGrid[i][j]==1:\n",
    "                    f[i][j]=0\n",
    "\n",
    "        \n",
    "        return f[m-1][n-1]"
   ]
  },
  {
   "cell_type": "markdown",
   "metadata": {},
   "source": [
    "**300 最长递增子序列**"
   ]
  },
  {
   "cell_type": "code",
   "execution_count": null,
   "metadata": {},
   "outputs": [],
   "source": [
    "class Solution(object):\n",
    "    def lengthOfLIS(self, nums):\n",
    "        \"\"\"\n",
    "        :type nums: List[int]\n",
    "        :rtype: int\n",
    "        \"\"\"\n",
    "        # f[i] = max(f[i], f[j]+1) | f[i]>f[j] 0<j<i<n-1\n",
    "        n = len(nums)\n",
    "        if n == 0:\n",
    "            return 0\n",
    "\n",
    "        f = [1 for _ in range(n)]\n",
    "        for i in range(1, n):\n",
    "            for j in range(0, i):\n",
    "                if nums[i]>nums[j]:\n",
    "                    f[i] = max(f[i], f[j]+1)\n",
    "        return max(f)"
   ]
  },
  {
   "cell_type": "markdown",
   "metadata": {},
   "source": [
    "**64 最小路径和**"
   ]
  },
  {
   "cell_type": "code",
   "execution_count": null,
   "metadata": {},
   "outputs": [],
   "source": [
    "class Solution(object):\n",
    "    def minPathSum(self, grid):\n",
    "        \"\"\"\n",
    "        :type grid: List[List[int]]\n",
    "        :rtype: int\n",
    "        \"\"\"\n",
    "        m, n = len(grid), len(grid[0])\n",
    "        f = [[0 for i in range(n)]for _ in range(m)]\n",
    "        for i in range(m):\n",
    "            for j in range(n):\n",
    "                if i == 0 and j == 0:\n",
    "                    f[0][0] = grid[0][0]\n",
    "                elif i == 0:\n",
    "                    f[0][j] = f[0][j-1] + grid[0][j]\n",
    "                elif j == 0:\n",
    "                    f[i][0] = f[i-1][0] + grid[i][0]\n",
    "                else:\n",
    "                    f[i][j] = min(f[i-1][j] + grid[i][j],  f[i][j-1] + grid[i][j])\n",
    "        return f[m-1][n-1]\n",
    "    \n",
    "    \n",
    "# 滚动数组的方式\n",
    "class Solution(object):\n",
    "    def minPathSum(self, grid):\n",
    "        \"\"\"\n",
    "        :type grid: List[List[int]]\n",
    "        :rtype: int\n",
    "        \"\"\"\n",
    "        m, n = len(grid), len(grid[0])\n",
    "        f = [[0 for i in range(n)]for _ in range(2)] # 构造一个2*n的数组\n",
    "        flg = 0 # 使用一个flg，标记该放到哪个数组中\n",
    "        for i in range(m):\n",
    "            flg = i%2\n",
    "            for j in range(n):\n",
    "                if i == 0 and j == 0:\n",
    "                    f[0][0] = grid[0][0]\n",
    "                elif i == 0:\n",
    "                    f[0][j] = f[0][j-1] + grid[0][j]\n",
    "                elif j == 0:\n",
    "                    f[flg][0] = f[1-flg][0] + grid[i][0]\n",
    "                else:\n",
    "                    f[flg][j] = min(f[1-flg][j] + grid[i][j],  f[flg][j-1] + grid[i][j])\n",
    "        return f[flg][n-1]"
   ]
  },
  {
   "cell_type": "markdown",
   "metadata": {},
   "source": [
    "**256 粉刷房子**"
   ]
  },
  {
   "cell_type": "code",
   "execution_count": null,
   "metadata": {},
   "outputs": [],
   "source": [
    "# 该题和乘积最大子数组的思想类似，都是要记录下每一步骤中，选择不同类型的策略/消费是什么\n",
    "class Solution(object):\n",
    "    def minCost(self, costs):\n",
    "        \"\"\"\n",
    "        :type costs: List[List[int]]\n",
    "        :rtype: int\n",
    "        \"\"\"\n",
    "        # 确定状态 - 最后一步，子问题：最后一个房子被粉刷成xx颜色\n",
    "        # costs[n][0]|(n-1)为1/2 \n",
    "        # f[i][0] = min(f[i-1][1] + costs[i][0], f[i-1][2] + costs[i][0])\n",
    "        m, n = len(costs[0]), len(costs)\n",
    "        if n == 0:\n",
    "            return 0\n",
    "        f = [[0 for i in range(m)] for _ in range(n)]\n",
    "        f[0][0], f[0][1], f[0][2] = costs[0][0], costs[0][1], costs[0][2]\n",
    "        for i in range(1, n):\n",
    "            f[i][0] = min(f[i-1][1]+ costs[i][0], f[i-1][2] + costs[i][0])\n",
    "            f[i][1] = min(f[i-1][0]+ costs[i][1], f[i-1][2] + costs[i][1])\n",
    "            f[i][2] = min(f[i-1][0]+ costs[i][2], f[i-1][1] + costs[i][2])\n",
    "        return min(f[n-1][0], f[n-1][1], f[n-1][2])"
   ]
  },
  {
   "cell_type": "markdown",
   "metadata": {},
   "source": [
    "**265 粉刷房子II**"
   ]
  },
  {
   "cell_type": "code",
   "execution_count": null,
   "metadata": {},
   "outputs": [],
   "source": [
    "class Solution(object):\n",
    "    def minCostII(self, costs):\n",
    "        \"\"\"\n",
    "        :type costs: List[List[int]]\n",
    "        :rtype: int\n",
    "        \"\"\"\n",
    "        # 确定状态 - 最后一步，子问题：最后一个房子被粉刷成xx颜色\n",
    "        # costs[n][0]|(n-1)为1/2 \n",
    "        # f[i][0] = min(f[i-1][1] + costs[i][0], f[i-1][2] + costs[i][0])\n",
    "        k, n = len(costs[0]), len(costs)\n",
    "        if n == 0:\n",
    "            return 0\n",
    "        f = [[0 for i in range(k)] for _ in range(n)]\n",
    "        # 初始化第一个房子\n",
    "        for i in range(k):\n",
    "            f[0][i] = costs[0][i]\n",
    "\n",
    "        for i in range(1, n):\n",
    "            for j in range(k):\n",
    "                f[i][j] = min([f[i-1][l] + costs[i][j] for l in range(k) if l != j])\n",
    "                \n",
    "        return min([f[n-1][j] for j in range(k)])\n",
    "    \n",
    "    \n",
    "# 滚动数组方式\n",
    "class Solution(object):\n",
    "    def minCostII(self, costs):\n",
    "        \"\"\"\n",
    "        :type costs: List[List[int]]\n",
    "        :rtype: int\n",
    "        \"\"\"\n",
    "        # 确定状态 - 最后一步，子问题：最后一个房子被粉刷成xx颜色\n",
    "        # costs[n][0]|(n-1)为1/2 \n",
    "        # f[i][0] = min(f[i-1][1] + costs[i][0], f[i-1][2] + costs[i][0])\n",
    "        k, n = len(costs[0]), len(costs)\n",
    "        if n == 0:\n",
    "            return 0\n",
    "        f = [[0 for i in range(k)] for _ in range(2)] # 只依赖于本行和前一行\n",
    "        # 初始化第一个房子\n",
    "        flg = 0\n",
    "        for i in range(k):\n",
    "            f[flg][i] = costs[0][i]\n",
    "\n",
    "        for i in range(1, n):\n",
    "            flg = i % 2\n",
    "            for j in range(k):\n",
    "                f[flg][j] = min([f[1-flg][l] + costs[i][j] for l in range(k) if l != j])\n",
    "                \n",
    "        return min([f[flg][j] for j in range(k)])"
   ]
  },
  {
   "cell_type": "markdown",
   "metadata": {},
   "source": [
    "**198 打家劫舍**"
   ]
  },
  {
   "cell_type": "code",
   "execution_count": null,
   "metadata": {},
   "outputs": [],
   "source": [
    "class Solution(object):\n",
    "    def rob(self, nums):\n",
    "        \"\"\"\n",
    "        :type nums: List[int]\n",
    "        :rtype: int\n",
    "        \"\"\"\n",
    "        # 最后一步： 最优策略中，有可能偷或者不偷最后一栋房子N-\n",
    "        # 不偷： 最优策略就是前N-1栋房子的最优策略\n",
    "        # 偷： 保证不偷第N-2栋房子的前提下，前N-1栋房子的最优策略\n",
    "        # 不偷: f[0][i] = max(f[0][i-1], f[1][i-1])\n",
    "        # 偷： f[1][i] = nums[i] + f[0][i-1]\n",
    "        n = len(nums)\n",
    "        if n == 0:\n",
    "            return 0\n",
    "        f = [[0 for i in range(n)] for _ in range(2)]\n",
    "        # 初始化\n",
    "        f[0][0], f[1][0] = 0, nums[0]\n",
    "        for i in range(1, n):\n",
    "            f[0][i] =  max(f[0][i-1], f[1][i-1])\n",
    "            f[1][i] = nums[i] + f[0][i-1]\n",
    "\n",
    "        return max(f[0][n-1], f[1][n-1])"
   ]
  },
  {
   "cell_type": "markdown",
   "metadata": {},
   "source": [
    "**213 打家劫舍II**"
   ]
  },
  {
   "cell_type": "code",
   "execution_count": null,
   "metadata": {},
   "outputs": [],
   "source": [
    "class Solution(object):\n",
    "    def rob(self, nums):\n",
    "        \"\"\"\n",
    "        :type nums: List[int]\n",
    "        :rtype: int\n",
    "        \"\"\"\n",
    "        # 遇到圈子的问题，想办法将圈子拆开，变成序列的方式，再分别考虑条件\n",
    "        n = len(nums)\n",
    "        if n == 0:\n",
    "            return 0\n",
    "        if n == 1:\n",
    "            return nums[0]\n",
    "        f = [[0 for i in range(n)] for j in range(2)]\n",
    "        # 通过枚举是否偷了第一家的方式，将环拆开\n",
    "        # 偷了第一家\n",
    "        for i in range(n-1):  \n",
    "            if i == 0:\n",
    "                f[0][i], f[1][i] = 0, nums[i]\n",
    "                continue\n",
    "            f[0][i] = max(f[0][i-1], f[1][i-1])\n",
    "            f[1][i] = f[0][i-1] + nums[i]\n",
    "        res = max(f[0][n-2], f[1][n-2])\n",
    "        # 没有偷第一家\n",
    "        for i in range(1, n):\n",
    "            if i == 1:\n",
    "                f[0][i], f[1][i] = 0, nums[i]\n",
    "                continue\n",
    "            f[0][i] = max(f[0][i-1], f[1][i-1])\n",
    "            f[1][i] = f[0][i-1] + nums[i]\n",
    "        print(res, f[0][n-1], f[1][n-1])\n",
    "        return max(res, f[0][n-1], f[1][n-1])"
   ]
  },
  {
   "cell_type": "markdown",
   "metadata": {},
   "source": [
    "**121 买卖股票的最佳时机**"
   ]
  },
  {
   "cell_type": "code",
   "execution_count": null,
   "metadata": {},
   "outputs": [],
   "source": [
    "#只能一次买卖\n",
    "class Solution(object):\n",
    "    def maxProfit(self, prices):\n",
    "        # 贪心的方式\n",
    "        n = len(prices)\n",
    "        if n == 0:\n",
    "            return 0\n",
    "        res, minp = 0, prices[0]\n",
    "        for i in range(n):\n",
    "            res = max(res, prices[i] - minp)\n",
    "            minp = min(minp, prices[i])\n",
    "        return res"
   ]
  },
  {
   "cell_type": "markdown",
   "metadata": {},
   "source": [
    "**122 买卖股票的最佳时机II**"
   ]
  },
  {
   "cell_type": "code",
   "execution_count": null,
   "metadata": {},
   "outputs": [],
   "source": [
    "# 可以多次买卖，只能同时拥有一笔交易\n",
    "class Solution(object):\n",
    "    def maxProfit(self, prices):\n",
    "        # 无论上升还是下降，都认为是同一天卖出后可以接着买入，\n",
    "        # 如果与第二天比较，是上升趋势，则该笔交易生效，否则不生效\n",
    "        n = len(prices)\n",
    "        if n == 0:\n",
    "            return 0\n",
    "        res, left = 0, prices[0]\n",
    "\n",
    "        for i in range(n):\n",
    "            if prices[i] - left > 0:\n",
    "                res += (prices[i] - left)\n",
    "            left = prices[i]\n",
    "\n",
    "        return res"
   ]
  },
  {
   "cell_type": "markdown",
   "metadata": {},
   "source": [
    "**123 买卖股票的最佳时机 III**"
   ]
  },
  {
   "cell_type": "code",
   "execution_count": null,
   "metadata": {},
   "outputs": [],
   "source": [
    "# 最多完成两笔交易\n",
    "class Solution(object):\n",
    "    def maxProfit(self, prices):\n",
    "        \"\"\"\n",
    "        :type prices: List[int]\n",
    "        :rtype: int\n",
    "        \"\"\"\n",
    "        # 分成5个阶段\n",
    "        # 阶段0,2,4 手中无股票状态 \n",
    "        # f[i][j] = max{f[i-1][j], f[i-1][j-1] + P[i] - P[i-1]}\n",
    "        # 阶段1,3 手中持有股票状态 \n",
    "        # f[i][j] = max{f[i-1][j-1], f[i-1][j] + P[i] - P[i-1]}\n",
    "        # 第0个阶段的收益一定是0，不需要计算\n",
    "        # i从1开始计算，收益在第二天计算(P[i] - P[i-1])\n",
    "        n = len(prices)\n",
    "        if n == 0:\n",
    "            return 0\n",
    "\n",
    "        f = [[0 for i in range(5)] for _ in range(n)]\n",
    "        for i in range(1, n):\n",
    "            # 手中不持有股票\n",
    "            \n",
    "            for j in range(2, 5, 2):\n",
    "                f[i][j] = max(f[i][j], f[i-1][j], f[i-1][j-1] + prices[i] - prices[i-1])\n",
    "\n",
    "            # 手中持有股票\n",
    "            for j in range(1, 5, 2):\n",
    "                f[i][j] = max(f[i][j], f[i-1][j-1], f[i-1][j] + prices[i] - prices[i-1])\n",
    "        # 最大的收益一定是手中不持有股票的时间\n",
    "        return max(f[n-1][0], f[n-1][2], f[n-1][4])"
   ]
  },
  {
   "cell_type": "markdown",
   "metadata": {},
   "source": [
    "**188 买卖股票的最佳时机IV**"
   ]
  },
  {
   "cell_type": "code",
   "execution_count": null,
   "metadata": {},
   "outputs": [],
   "source": [
    "# 最多可以买卖k次\n",
    "class Solution(object):\n",
    "    def maxProfit(self, k, prices):\n",
    "        # 分成2k+1个阶段\n",
    "        # 阶段2k 手中无股票状态 \n",
    "        # f[i][j] = max{f[i-1][j], f[i-1][j-1] + P[i] - P[i-1]}\n",
    "        # 阶段2k+1 手中持有股票状态 \n",
    "        # f[i][j] = max{f[i-1][j-1], f[i-1][j] + P[i] - P[i-1]}\n",
    "        # 第0个阶段的收益一定是0，不需要计算\n",
    "        # i从1开始计算，收益在第二天计算(P[i] - P[i-1])\n",
    "\n",
    "        n = len(prices)\n",
    "        if n == 0:\n",
    "            return 0\n",
    "\n",
    "        f = [[0 for i in range(2*k+1)] for _ in range(n)]\n",
    "        for i in range(1, n):\n",
    "            # 手中不持有股票\n",
    "            \n",
    "            for j in range(2, 2*k+1, 2):\n",
    "                f[i][j] = max(f[i][j], f[i-1][j], f[i-1][j-1] + prices[i] - prices[i-1])\n",
    "\n",
    "            # 手中持有股票\n",
    "            for j in range(1, 2*k+1, 2):\n",
    "                f[i][j] = max(f[i][j], f[i-1][j-1], f[i-1][j] + prices[i] - prices[i-1])\n",
    "        # 最大的收益一定是手中不持有股票的时间\n",
    "        max_val = 0\n",
    "        for i in range(0, 2*k+1, 2):\n",
    "            max_val = max(max_val, f[n-1][i])\n",
    "        return max_val"
   ]
  },
  {
   "cell_type": "markdown",
   "metadata": {},
   "source": [
    "**309 [最佳买卖股票时机含冷冻期](https://leetcode-cn.com/problems/best-time-to-buy-and-sell-stock-with-cooldown/submissions/)**"
   ]
  },
  {
   "cell_type": "code",
   "execution_count": null,
   "metadata": {},
   "outputs": [],
   "source": [
    "class Solution:\n",
    "    def maxProfit(self, prices: List[int]) -> int:\n",
    "        # f[i][0]: 手上持有股票的最大收益\n",
    "        # f[i][1]: 手上不持有股票，并且处于冷冻期中的累计最大收益\n",
    "        # f[i][2]: 手上不持有股票，并且不在冷冻期中的累计最大收益\n",
    "        # f[i][0] = max(f[i-1][0] + prices[i]-prices[i-1], f[i-1][1], f[i-1][2])\n",
    "        # f[i][1] = f[i-1][0] # i-1天卖出的股票\n",
    "        # f[i][2] = max(f[i-1][1], f[i-1][2])\n",
    "        n = len(prices)\n",
    "        if n <= 1:\n",
    "            return 0\n",
    "        f = [[0 for i in range(3)] for _ in range(n)]\n",
    "        for i in range(1, n):\n",
    "            f[i][0] = max(f[i-1][0] + prices[i]-prices[i-1], f[i-1][1], f[i-1][2])\n",
    "            f[i][1] = f[i-1][0] \n",
    "            f[i][2] = max(f[i-1][1], f[i-1][2])\n",
    "        print(f)\n",
    "        return max(f[n-1][0], f[n-1][1], f[n-1][2])"
   ]
  },
  {
   "cell_type": "markdown",
   "metadata": {},
   "source": [
    "**279 完全平方数**"
   ]
  },
  {
   "cell_type": "code",
   "execution_count": null,
   "metadata": {},
   "outputs": [],
   "source": [
    "class Solution(object):\n",
    "    def numSquares(self, n):\n",
    "        # 确定状态 最后一个完全平方数j^2  n-j^2同样存在最优策略\n",
    "        # 转移函数 f[n] = f[n-j^2] + 1 | n-j^2>=0\n",
    "        # 初始条件和边界条件 f[1] = 1\n",
    "        # 计算顺序从小到大 [1, n]\n",
    "        import math\n",
    "        if n < 0:\n",
    "            return 0\n",
    "        f = [i for i in range(n+1)]\n",
    "        f[0]=0\n",
    "\n",
    "        for i in range(n+1):\n",
    "            for j in range(int(math.sqrt(i))+1):\n",
    "                if i-j**2>=0:\n",
    "                    f[i] = min(f[i], f[i-j**2] + 1)\n",
    "        return f[n]"
   ]
  },
  {
   "cell_type": "markdown",
   "metadata": {},
   "source": [
    "**132 分割字符串**"
   ]
  },
  {
   "cell_type": "code",
   "execution_count": null,
   "metadata": {},
   "outputs": [],
   "source": [
    "# 提前计算每个字符串是否为回文串\n",
    "# f 最好是n+1维数组，方便计算\n",
    "class Solution(object):\n",
    "    def minCut(self, s):\n",
    "        # trick 需要提前计算，每个字符串是否为回文串\n",
    "        # 确定状态: 最后一段回文串s[j, i], f[n-1] = min(f[j]+1) | s[j, n-1]是回文串\n",
    "        # 转移方程 f[i] = min(f[j]+1)\n",
    "        # 初始状态及边界条件 f[0] = 0, f[1]=0\n",
    "        # 计算顺序：从小到大[0, n]\n",
    "        n = len(s)\n",
    "        if n == 0:\n",
    "            return 0\n",
    "\n",
    "        f = [float('inf') for i in range(n+1)]\n",
    "        f[0] = 0\n",
    "\n",
    "        # 计算每个字符串是否为回文串\n",
    "        isPalin =[[False for i in range(n)] for _ in range(n)]\n",
    "        for i in range(n):\n",
    "            # s[i]为中间值\n",
    "            left, right = i, i\n",
    "            while left >= 0 and right < n and s[left] == s[right]:\n",
    "                isPalin[left][right] = True\n",
    "                left -= 1\n",
    "                right += 1\n",
    "            # s[i], s[i+1]为中间值\n",
    "            left, right = i, i+1\n",
    "            while left >= 0 and right < n and s[left] == s[right]:\n",
    "                isPalin[left][right] = True\n",
    "                left -= 1\n",
    "                right += 1\n",
    "        # 开始计算最少分割次数\n",
    "        for i in range(1, n+1):\n",
    "            if isPalin[0][i-1]:\n",
    "                f[i] = 1\n",
    "            else:\n",
    "                for j in range(i):\n",
    "                    if isPalin[j][i-1]:\n",
    "                        f[i] = min(f[i], f[j]+1)\n",
    "        # print(f[-20:])\n",
    "        # print(isPalin)\n",
    "        return f[n] - 1"
   ]
  }
 ],
 "metadata": {
  "kernelspec": {
   "display_name": "Python 3",
   "language": "python",
   "name": "python3"
  },
  "language_info": {
   "codemirror_mode": {
    "name": "ipython",
    "version": 3
   },
   "file_extension": ".py",
   "mimetype": "text/x-python",
   "name": "python",
   "nbconvert_exporter": "python",
   "pygments_lexer": "ipython3",
   "version": "3.7.0"
  }
 },
 "nbformat": 4,
 "nbformat_minor": 4
}
